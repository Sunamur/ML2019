{
  "nbformat": 4,
  "nbformat_minor": 0,
  "metadata": {
    "kernelspec": {
      "display_name": "Python 2",
      "language": "python",
      "name": "python2"
    },
    "language_info": {
      "codemirror_mode": {
        "name": "ipython",
        "version": 2
      },
      "file_extension": ".py",
      "mimetype": "text/x-python",
      "name": "python",
      "nbconvert_exporter": "python",
      "pygments_lexer": "ipython2",
      "version": "2.7.11"
    },
    "colab": {
      "name": "[HSE: ФТиАД-2019] seminar 01",
      "version": "0.3.2",
      "provenance": []
    }
  },
  "cells": [
    {
      "cell_type": "markdown",
      "metadata": {
        "colab_type": "text",
        "id": "RsiONGeEbuah"
      },
      "source": [
        "# Что за Jupyter (Джу́-пи-тэр) и с чем его едят?"
      ]
    },
    {
      "cell_type": "markdown",
      "metadata": {
        "id": "8qbnwjTV22Zg",
        "colab_type": "text"
      },
      "source": [
        "Запускаем:\n",
        "- Дистрибутив Anaconda: https://www.anaconda.com/distribution/#download-section\n",
        "- Google colaboratory: https://colab.research.google.com/\n",
        "- в docker-контейнере:\n",
        "\n",
        "`docker run --rm --name jupyter_lab -h localhost -p 8888:8888 -e JUPYTER_LAB_ENABLE=yes -v \"$PWD\":/home/jovyan/work -e GRANT_SUDO=yes --user root jupyter/datascience-notebook start.sh jupyter lab --NotebookApp.token=''`"
      ]
    },
    {
      "cell_type": "markdown",
      "metadata": {
        "id": "HN76EOm-WPki",
        "colab_type": "text"
      },
      "source": [
        "Особенности:\n",
        "\n",
        "- работает в браузере (нужен jupyter-notebook server)\n",
        "- каждый файл (ноутбук) состоит из множества ячеек\n",
        "- файлы имеют расширение .ipynb (**iPy**thon **N**ote**b**ook)\n",
        "- код можно комбинировать с данными/текстом/графикой/интерактивных элементов"
      ]
    },
    {
      "cell_type": "markdown",
      "metadata": {
        "id": "_RQyc44SWPkj",
        "colab_type": "text"
      },
      "source": [
        "Режимы редактирования:\n",
        "- *Режим редактирования* (*Edit mode*, включается нажатием клавиши **Enter** после выбора ячейки) - используется для работы с содержимым ячейки,\n",
        "- *Командный режим* (*Command mode*, включается нажатием клавиши **Esc**) - используется для навигации между ячейками. \n",
        "\n",
        "Тип ячейки можно задать в командном режиме либо с помощью горячих клавиш (**y** to code, **m** to markdown, **r** to edit raw text), либо в меню *Cell -> Cell type*. "
      ]
    },
    {
      "cell_type": "code",
      "metadata": {
        "id": "NBh3ooVmWPkk",
        "colab_type": "code",
        "outputId": "052b6c00-296b-4120-b748-809f9da94c88",
        "colab": {
          "base_uri": "https://localhost:8080/",
          "height": 34
        }
      },
      "source": [
        "# Ячейка с кодом\n",
        "print(\"Hello, Jupyter!\")"
      ],
      "execution_count": 0,
      "outputs": [
        {
          "output_type": "stream",
          "text": [
            "Hello, Jupyter!\n"
          ],
          "name": "stdout"
        }
      ]
    },
    {
      "cell_type": "markdown",
      "metadata": {
        "id": "CtD4JeIwWPkn",
        "colab_type": "text"
      },
      "source": [
        "**Ячейка** с *размеченным* текстом"
      ]
    },
    {
      "cell_type": "markdown",
      "metadata": {
        "id": "oFYJFzwmWPko",
        "colab_type": "raw"
      },
      "source": [
        "Ячейка с неразмеченным текстом"
      ]
    },
    {
      "cell_type": "markdown",
      "metadata": {
        "id": "tuaGwF8SWPkp",
        "colab_type": "text"
      },
      "source": [
        "После заполнения ячейки нужно нажать *Shift + Enter*, эта команда обработает содержимое ячейки: проинтерпретирует код или сверстает размеченный текст.\n",
        "\n",
        "Ячейки с программным кодом разделяют область видимости:"
      ]
    },
    {
      "cell_type": "code",
      "metadata": {
        "id": "SLcJBwzIWPkq",
        "colab_type": "code",
        "colab": {}
      },
      "source": [
        "a = 1"
      ],
      "execution_count": 0,
      "outputs": []
    },
    {
      "cell_type": "code",
      "metadata": {
        "id": "bAHAIkluWPks",
        "colab_type": "code",
        "outputId": "f9bbf038-75f6-4dbd-a190-2df4ae428a11",
        "colab": {
          "base_uri": "https://localhost:8080/",
          "height": 34
        }
      },
      "source": [
        "print(a)"
      ],
      "execution_count": 0,
      "outputs": [
        {
          "output_type": "stream",
          "text": [
            "1\n"
          ],
          "name": "stdout"
        }
      ]
    },
    {
      "cell_type": "markdown",
      "metadata": {
        "colab_type": "text",
        "id": "8twSbcDnbtmK"
      },
      "source": [
        "## Пара слов о вёрстке "
      ]
    },
    {
      "cell_type": "markdown",
      "metadata": {
        "id": "ENZkDqGLWPkw",
        "colab_type": "text"
      },
      "source": [
        "[Здесь](https://athena.brynmawr.edu/jupyter/hub/dblank/public/Jupyter%20Notebook%20Users%20Manual.ipynb) находится <s>не</s>большая заметка о используемом языке разметки Markdown. Он позволяет:\n",
        "\n",
        "0. Составлять упорядоченные списки\n",
        "1. #Делать \n",
        "##заголовки \n",
        "###разного уровня\n",
        "3. Выделять *текст* <s>при</s> **необходимости**\n",
        "4. Добавлять [ссылки](http://imgs.xkcd.com/comics/the_universal_label.png)\n",
        "\n",
        "\n",
        "* Составлять неупорядоченные списки\n",
        "\n",
        "Делать вставки с помощью LaTex:\n",
        "    \n",
        "$\n",
        "\\left\\{\n",
        "\\begin{array}{ll}\n",
        "x = 16 \\sin^3 (t) \\\\ \n",
        "y = 13 \\cos (t) - 5 \\cos (2t) - 2 \\cos (3t) - \\cos (4t) \\\\\n",
        "t \\in [0, 2 \\pi]\n",
        "\\end{array}\n",
        "\\right.$\n",
        "\n",
        "Можно также вставлять изображения:\n",
        "\n",
        "<img src = \"http://cs625727.vk.me/v625727306/3e600/rEqFs3UK3-s.jpg\">"
      ]
    },
    {
      "cell_type": "markdown",
      "metadata": {
        "id": "8uOtJ3EfdnEi",
        "colab_type": "text"
      },
      "source": [
        "# Python"
      ]
    },
    {
      "cell_type": "markdown",
      "metadata": {
        "id": "uS2QNSGIdt7w",
        "colab_type": "text"
      },
      "source": [
        "### Особенности\n",
        "\n",
        "- язык общего назначения\n",
        "- интерпретируемый\n",
        "- с динамической (\"утиной\") типизацией\n",
        "- с автоматическим управлением памятью и Garbage Collector'ом\n",
        "- Все - объект"
      ]
    },
    {
      "cell_type": "markdown",
      "metadata": {
        "id": "mb4SsZwSx7lr",
        "colab_type": "text"
      },
      "source": [
        "### Основные типы данных\n",
        "\n",
        "- bool (логический, True/False)\n",
        "- string/unicode string (строковый)\n",
        "- int, float, complex (числовой)\n",
        "- специальный тип Null\n",
        "\n",
        "### Основные типы контейнеров\n",
        "\n",
        "- list (список)\n",
        "- tuple (кортеж, неизменяемый список)\n",
        "- dict (словарь)\n",
        "- set (множество)\n",
        "\n",
        "https://docs.python.org/2/library/datatypes.html"
      ]
    },
    {
      "cell_type": "markdown",
      "metadata": {
        "id": "iNLG6PsXyrhR",
        "colab_type": "text"
      },
      "source": [
        "### Объявления"
      ]
    },
    {
      "cell_type": "code",
      "metadata": {
        "id": "3Ky1isq1y6xD",
        "colab_type": "code",
        "colab": {}
      },
      "source": [
        "s = 'abc' # строка\n",
        "s = \"abc\" # тоже строка\n",
        "n = 2 # integer\n",
        "n = 3.5 # float\n",
        "l = [] # пустой список\n",
        "l = [1, 2, 3] # тоже список\n",
        "l = ['a', 1, None] # список объектов разных типов\n",
        "t = (1,) # кортеж из одного элемента (запятая!)\n",
        "d = {} # пустой словарь\n",
        "d = {'a': 1, 'b': 2} # тоже словарь\n",
        "s = set([1, 2]) # множество, еще работает {1, 2}"
      ],
      "execution_count": 0,
      "outputs": []
    },
    {
      "cell_type": "markdown",
      "metadata": {
        "id": "C1d7wUkEzIE3",
        "colab_type": "text"
      },
      "source": [
        "### List"
      ]
    },
    {
      "cell_type": "code",
      "metadata": {
        "id": "lgJj7hBGzNrR",
        "colab_type": "code",
        "colab": {}
      },
      "source": [
        "# Список - непрерывный кусок памяти!\n",
        "# https://wiki.python.org/moin/TimeComplexity\n",
        "len(l) # посчитать длину списка\n",
        "sum(l) # просуммировать элементы списка\n",
        "sorted(l) # вернуть отсортированный список\n",
        "sorted(l, reverse=True) # в обратном порядке\n",
        "l.append(x) # добавить элемент в конец\n",
        "l.extend(L) # расширить один список другим\n",
        "l.insert(i, x) # вставить элемент в позицию i\n",
        "l.remove(x) # удалить первый элемент со значением x\n",
        "l.count(x) # посчитать число элементов со значением x"
      ],
      "execution_count": 0,
      "outputs": []
    },
    {
      "cell_type": "markdown",
      "metadata": {
        "id": "KAh1v7WvzRNi",
        "colab_type": "text"
      },
      "source": [
        "#### Практика - списки\n",
        "\n",
        "1) Создать список с буквами \"a\", \"b\", \"c\".\n",
        "\n",
        "2) Добавить последним элементом еще один список,\n",
        "содержащий число 3.\n",
        "\n",
        "3) Создать еще один список c числами от 3 до 5.\n",
        "\n",
        "4) Объединить оба списка в один.\n",
        "\n",
        "5) Удалить четвертый элемент из списка.\n",
        "\n",
        "6) Программно посчитать число троек в списке.\n",
        "\n",
        "Функция для генерирования последовательности\n",
        "чисел: range(), например:\n",
        "range(1, 8, 2) # [1, 3, 5, 7]\n",
        "\n",
        "В Python 3 это итератор, поэтому его надо\n",
        "приводить к типу list: list(range(2, 15))"
      ]
    },
    {
      "cell_type": "markdown",
      "metadata": {
        "id": "fRE8grzbz5kN",
        "colab_type": "text"
      },
      "source": [
        "### Dict"
      ]
    },
    {
      "cell_type": "code",
      "metadata": {
        "id": "LbLBnnAlz_Cm",
        "colab_type": "code",
        "colab": {}
      },
      "source": [
        "# Структура данных - hash table (хэш-таблица),\n",
        "# причем неупорядоченная\n",
        "d[\"a\"] = 125\n",
        "del d[\"a\"]\n",
        "d.keys() # список ключей (в Python 3 - итератор)\n",
        "d.values() # список значений (в Python 3 - итератор)\n",
        "d.get(12, \"freedom\") # значение по умолчанию\n",
        "d1.update(d2) # обновить значения из другого словаря"
      ],
      "execution_count": 0,
      "outputs": []
    },
    {
      "cell_type": "markdown",
      "metadata": {
        "id": "QeTjwRo-0EIk",
        "colab_type": "text"
      },
      "source": [
        "#### Практика - словари\n",
        "\n",
        "1) Создать словарь с ключами - числами от 0 до 3,\n",
        "а значениями - буквами от 'a' до 'c'.\n",
        "\n",
        "2) Посчитать сумму ключей словаря\n",
        "\n",
        "3) Удалить из словаря букву 'b'.\n",
        "\n",
        "4) Вывести список значений получившегося словаря."
      ]
    },
    {
      "cell_type": "markdown",
      "metadata": {
        "id": "pC74Ljya0Sh0",
        "colab_type": "text"
      },
      "source": [
        "### Set"
      ]
    },
    {
      "cell_type": "code",
      "metadata": {
        "id": "HAa5Yoob0VY5",
        "colab_type": "code",
        "colab": {}
      },
      "source": [
        "# Вставка и проверка наличия элемента - гораздо быстрее, чем в списке!\n",
        "# Порядок элементов не сохраняется\n",
        "s.add(x) # добавить элемент ко множеству\n",
        "s.remove(x) # удалить элемент из множества\n",
        "s.pop(x) # удалить элемент и вернуть его\n",
        "x in s # проверка наличия элемента\n",
        "x not in s # проверка отсутствия элемента"
      ],
      "execution_count": 0,
      "outputs": []
    },
    {
      "cell_type": "code",
      "metadata": {
        "id": "wnXwil9j0cgR",
        "colab_type": "code",
        "colab": {}
      },
      "source": [
        "# Set как математическое множество\n",
        "\n",
        "s1.issubset(s2) # является ли множество подмножеством?\n",
        "s1.issuperset(s2) # надмножеством?\n",
        "s1.union(s2) # объединение множеств\n",
        "s1.intersection(s2) # пересечение множеств\n",
        "s1.difference(s2) # разность множеств\n",
        "\n",
        "# Сокращения\n",
        "\n",
        "s1 <= s2 # можно также s1 < s2\n",
        "s1 >= s2 # можно также s1 > s2\n",
        "s1 | s2\n",
        "s1 & s2\n",
        "s1 - s2"
      ],
      "execution_count": 0,
      "outputs": []
    },
    {
      "cell_type": "markdown",
      "metadata": {
        "id": "p8WzBCc51FP7",
        "colab_type": "text"
      },
      "source": [
        "#### Практика - множества"
      ]
    },
    {
      "cell_type": "markdown",
      "metadata": {
        "id": "7ptyil811L_C",
        "colab_type": "text"
      },
      "source": [
        "1) Создать множество с элементами 4, 5, 1, 2.\n",
        "\n",
        "2) Создать множество с элементами 2, 7, 5, 0.\n",
        "\n",
        "3) Посчитать объединение, разность и пересечение\n",
        "множеств.\n",
        "\n",
        "4) Попробовать добавить в любое из множеств\n",
        "строку, list, dict, tuple и другое множество."
      ]
    },
    {
      "cell_type": "markdown",
      "metadata": {
        "id": "QeJKXNbO1gQ-",
        "colab_type": "text"
      },
      "source": [
        "### Строки, списки, срезы"
      ]
    },
    {
      "cell_type": "code",
      "metadata": {
        "id": "kcYe2qn01lKq",
        "colab_type": "code",
        "colab": {}
      },
      "source": [
        "# s - строка или список\n",
        "s[0] # нулевой элемент (индексация с нуля)\n",
        "s[2:4] # элементы 2 и 3\n",
        "s[1:8:2] # элементы 1, 3, 5, 7 (шаг 2)\n",
        "s[-1] # обратный индекс - последний элемент\n",
        "s[::2] # все элементы с шагом 2\n",
        "s[::-1] # развернутая строка/список\n",
        "\n",
        "# Разделение / объединение строк\n",
        "s.split(\"a\") # разделяем строку по \"a\"\n",
        "s.split(\"\\t\") # разделяем строку по табуляции\n",
        "\"\\t\".join(list_of_strings) # объединяем"
      ],
      "execution_count": 0,
      "outputs": []
    },
    {
      "cell_type": "markdown",
      "metadata": {
        "id": "PKDSx1AT1yV0",
        "colab_type": "text"
      },
      "source": [
        "#### Практика - строки и срезы\n",
        "\n",
        "```\n",
        "s = u\"У Мэри есть овечка\"\n",
        "s[0] = ?\n",
        "s[7:10] = ?\n",
        "s[1:8:2] = ?\n",
        "s[-3] = ?\n",
        "s[::4] = ?\n",
        "s[::-1] = ?\n",
        "```\n",
        "\n",
        "Разделить строку по пробелу и объединить обратно\n",
        "по символу \"_\"."
      ]
    },
    {
      "cell_type": "markdown",
      "metadata": {
        "id": "_27Ji31i2P5X",
        "colab_type": "text"
      },
      "source": [
        "```\n",
        "s = u\"У Мэри есть овечка\"\n",
        "s[0] = u\"У\"\n",
        "s[7:10] = u\"ест\"\n",
        "s[1:8:2] = u\" эие\"\n",
        "s[-3] = u\"ч\"\n",
        "s[::4] = u\"Урсок\"\n",
        "s[::-1] = u\"акчево ьтсе ирэМ У\"\n",
        "\"_\".join(s.split(\" \"))\n",
        "```"
      ]
    },
    {
      "cell_type": "markdown",
      "metadata": {
        "id": "Hfuix52p2eOF",
        "colab_type": "text"
      },
      "source": [
        "### Шаблонизация и форматирование\n",
        "\n"
      ]
    },
    {
      "cell_type": "code",
      "metadata": {
        "id": "3UdoZuqw5zPC",
        "colab_type": "code",
        "colab": {}
      },
      "source": [
        "s = u\"ТеКсТ ДоМиКом\"\n",
        "s.lower() # \"текст домиком\"\n",
        "u\"У Пети было {0} яблок\".format(15)\n",
        "u\"Что лучше - {0} пива или {1} водки?\".format(3, 2)\n",
        "u\"\"\"\n",
        "Взвесьте мне {0:.5f} килограмм хурмы\n",
        "\"\"\".format(21.35236172)\n",
        "# Старый формат: printf-нотация через %\n",
        "u\"Жили в квартире %d веселых чижа\" % 44"
      ],
      "execution_count": 0,
      "outputs": []
    },
    {
      "cell_type": "markdown",
      "metadata": {
        "id": "Sr0w9sFd55h4",
        "colab_type": "text"
      },
      "source": [
        "### Циклы"
      ]
    },
    {
      "cell_type": "code",
      "metadata": {
        "id": "lfTv1rWY55Nu",
        "colab_type": "code",
        "colab": {}
      },
      "source": [
        "for i in lst: # перебираем элементы списка\n",
        "  print(i)\n",
        "\n",
        "for j in range(1, 10, 2): # что напечатает?\n",
        "  print(j)\n",
        "  a = 0\n",
        "\n",
        "while a < 100: # проверка выполнения условия\n",
        "  a += 1 # нотация инкремента\n",
        "  if a == 20:\n",
        "  break\n",
        "  \n",
        "# Нужно понимать разницу между ITERATOR и ITERABLE!"
      ],
      "execution_count": 0,
      "outputs": []
    },
    {
      "cell_type": "markdown",
      "metadata": {
        "id": "KU4Wvpw_6GXs",
        "colab_type": "text"
      },
      "source": [
        "#### Практика - fizzbuzz\n",
        "\n",
        "Для чисел от 0 до 100 вывести само число, а\n",
        "затем «fizz», если число делится на 3, и «buzz»,\n",
        "если оно делится на 5.\n",
        "\n",
        "Подсказка: оператор взятия остатка - %"
      ]
    },
    {
      "cell_type": "markdown",
      "metadata": {
        "id": "2w3XA6fT6Sb0",
        "colab_type": "text"
      },
      "source": [
        "### Функции"
      ]
    },
    {
      "cell_type": "code",
      "metadata": {
        "id": "23kOlhVH6CfV",
        "colab_type": "code",
        "colab": {}
      },
      "source": [
        "# Существуют встроенные функции Python:\n",
        "# применить funс ко всем элементам списка\n",
        "# и вернуть, что получилось\n",
        "map(func, iterable)\n",
        "# брать по следующему элементу из каждого\n",
        "# списка\n",
        "zip(iterable1, iterable2)\n",
        "# список из тех элементов iterable, для которых\n",
        "# func(element) вернет True\n",
        "filter(func, iterable)\n",
        "# https://docs.python.org/2/library/itertools.html"
      ],
      "execution_count": 0,
      "outputs": []
    },
    {
      "cell_type": "markdown",
      "metadata": {
        "id": "gG4LPTUj6bTc",
        "colab_type": "text"
      },
      "source": [
        "### Itertools и Lambda-функции"
      ]
    },
    {
      "cell_type": "markdown",
      "metadata": {
        "id": "dMG0MhLi6i8V",
        "colab_type": "text"
      },
      "source": [
        "\"Ленивые\" версии тех же функций: imap, izip, ifilter\n",
        "\n",
        "Процесс вычисления не запускается, пока мы не обратимся к итератору или не приведем объект к списку.\n",
        "\n",
        "Бонус вопрос: что делает `izip(a[::2], a[1::2])`?\n",
        "\n",
        "Безымянные функции:\n",
        "\n",
        "```\n",
        "mul = lambda x: x ** 2\n",
        "mul(2)\n",
        "map(lambda x: x % 5, lst)\n",
        "filter(lambda x: x > 10, lst)\n",
        "```\n",
        "\n",
        "\n"
      ]
    },
    {
      "cell_type": "markdown",
      "metadata": {
        "id": "axfYq5Mp68LU",
        "colab_type": "text"
      },
      "source": [
        "### Регулярные выражения"
      ]
    },
    {
      "cell_type": "code",
      "metadata": {
        "id": "ufcb7Tf273jh",
        "colab_type": "code",
        "colab": {}
      },
      "source": [
        "# https://docs.python.org/2/library/re.html\n",
        "import re\n",
        "re.match(r\"^\\d+$\", line) # полное соответствие\n",
        "re.search(r\"\\d+\", line) # подстрока соответствует\n",
        "re_http = re.compile(r\"ya_regulyarko\")\n",
        "# не компилить в цикле!"
      ],
      "execution_count": 0,
      "outputs": []
    },
    {
      "cell_type": "markdown",
      "metadata": {
        "id": "2WeRg-6r77Di",
        "colab_type": "text"
      },
      "source": [
        "#### Практика - регулярные выражения\n",
        "\n",
        "Выбрать из файла только те строки, которые являются URL (начинаются с http).\n",
        "\n",
        "Бонус: использовать ifilter и lambda"
      ]
    },
    {
      "cell_type": "markdown",
      "metadata": {
        "id": "AQuQbjH68su6",
        "colab_type": "text"
      },
      "source": [
        "### Полезности"
      ]
    },
    {
      "cell_type": "code",
      "metadata": {
        "id": "1zjLM6Rf82V1",
        "colab_type": "code",
        "outputId": "d528bc75-829e-444e-a539-48e12f3719ac",
        "colab": {
          "base_uri": "https://localhost:8080/",
          "height": 34
        }
      },
      "source": [
        "# URLParse\n",
        "# https://docs.python.org/2/library/urlparse.html\n",
        "\n",
        "from urlparse import urlparse\n",
        "p = urlparse(\"https://docs.python.org/2/library/urlparse.html\")\n",
        "p.hostname # \"docs.python.org\"\n",
        "p.path # \"/2/library/urlparse.html\""
      ],
      "execution_count": 0,
      "outputs": [
        {
          "output_type": "execute_result",
          "data": {
            "text/plain": [
              "'/2/library/urlparse.html'"
            ]
          },
          "metadata": {
            "tags": []
          },
          "execution_count": 3
        }
      ]
    },
    {
      "cell_type": "code",
      "metadata": {
        "id": "uAYK-1k09RXc",
        "colab_type": "code",
        "outputId": "1e90d4cb-4e32-4a13-aa55-774639d8de76",
        "colab": {
          "base_uri": "https://localhost:8080/",
          "height": 34
        }
      },
      "source": [
        "# Requests\n",
        "# http://docs.python-requests.org/en/latest/\n",
        "\n",
        "import requests\n",
        "r = requests.get('https://google.com/')\n",
        "r.status_code # например, 200 или 500\n",
        "r.text # http-ответ в текстовом формате\n",
        "# r.json() # http-ответ в JSON-формате"
      ],
      "execution_count": 0,
      "outputs": [
        {
          "output_type": "execute_result",
          "data": {
            "text/plain": [
              "200"
            ]
          },
          "metadata": {
            "tags": []
          },
          "execution_count": 6
        }
      ]
    },
    {
      "cell_type": "code",
      "metadata": {
        "id": "cXGkX0VH9A7r",
        "colab_type": "code",
        "outputId": "13d8b237-c041-46c1-c30a-6bd92f82e960",
        "colab": {
          "base_uri": "https://localhost:8080/",
          "height": 34
        }
      },
      "source": [
        "# Работа с JSON\n",
        "# https://docs.python.org/2/library/json.html\n",
        "\n",
        "import json\n",
        "# строка -> словарь\n",
        "d = json.loads('{\"a\": \"foobar\"}')\n",
        "# словарь -> строка\n",
        "s = json.dumps(d)\n",
        "s\n",
        "# При чтении из файла:\n",
        "# with open(\"file.json\", \"r\") as f:\n",
        "#  d = json.load(f)"
      ],
      "execution_count": 0,
      "outputs": [
        {
          "output_type": "execute_result",
          "data": {
            "text/plain": [
              "'{\"a\": \"foobar\"}'"
            ]
          },
          "metadata": {
            "tags": []
          },
          "execution_count": 12
        }
      ]
    },
    {
      "cell_type": "markdown",
      "metadata": {
        "id": "nOvxs_JEb-FI",
        "colab_type": "text"
      },
      "source": [
        "# NumPy"
      ]
    },
    {
      "cell_type": "markdown",
      "metadata": {
        "id": "GctRMZVWWPkx",
        "colab_type": "text"
      },
      "source": [
        "**NumPy** — библиотека языка Python, позволяющая [удобно] работать с многомерными массивами и матрицами, содержащая математические функции. Кроме того, NumPy позволяет векторизовать многие вычисления, имеющие место в машинном обучении. \n",
        "\n",
        " - [numpy](http://www.numpy.org)\n",
        " - [numpy tutorial](http://cs231n.github.io/python-numpy-tutorial/)\n",
        " - [100 numpy exercises](http://www.labri.fr/perso/nrougier/teaching/numpy.100/)"
      ]
    },
    {
      "cell_type": "code",
      "metadata": {
        "id": "THsxz4dUWPky",
        "colab_type": "code",
        "colab": {}
      },
      "source": [
        "import numpy as np"
      ],
      "execution_count": 0,
      "outputs": []
    },
    {
      "cell_type": "markdown",
      "metadata": {
        "id": "wbI76QFjWPk0",
        "colab_type": "text"
      },
      "source": [
        "Основным типом данных NumPy является многомерный массив элементов одного типа — [numpy.ndarray](http://docs.scipy.org/doc/numpy-1.10.0/reference/generated/numpy.array.html). Каждый подобный массив имеет несколько *измерений* или *осей* — в частности, вектор (в классическом понимании) является одномерным массивом и имеет 1 ось, матрица является двумерным массивом и имеет 2 оси и т.д."
      ]
    },
    {
      "cell_type": "code",
      "metadata": {
        "id": "Q0tZyQKcWPk1",
        "colab_type": "code",
        "outputId": "b18151d8-0132-40a6-a7e7-93f1cf0c6dac",
        "colab": {
          "base_uri": "https://localhost:8080/",
          "height": 34
        }
      },
      "source": [
        "vec = np.array([1, 2, 3])\n",
        "vec.ndim # количество осей"
      ],
      "execution_count": 0,
      "outputs": [
        {
          "output_type": "execute_result",
          "data": {
            "text/plain": [
              "1"
            ]
          },
          "metadata": {
            "tags": []
          },
          "execution_count": 14
        }
      ]
    },
    {
      "cell_type": "code",
      "metadata": {
        "id": "gh2gljUDWPk4",
        "colab_type": "code",
        "outputId": "73d95f3b-ff09-4dbb-df22-1cf661d0a5ca",
        "colab": {
          "base_uri": "https://localhost:8080/",
          "height": 34
        }
      },
      "source": [
        "mat = np.array([[1, 2, 3], [4, 5, 6]])\n",
        "mat.ndim"
      ],
      "execution_count": 0,
      "outputs": [
        {
          "output_type": "execute_result",
          "data": {
            "text/plain": [
              "2"
            ]
          },
          "metadata": {
            "tags": []
          },
          "execution_count": 15
        }
      ]
    },
    {
      "cell_type": "markdown",
      "metadata": {
        "id": "WJ7LcUz8WPk7",
        "colab_type": "text"
      },
      "source": [
        "Чтобы узнать длину массива по каждой из осей, можно воспользоваться атрибутом shape:"
      ]
    },
    {
      "cell_type": "code",
      "metadata": {
        "id": "mPkVE-VoWPk7",
        "colab_type": "code",
        "outputId": "8e4ef03f-a750-4d72-8faf-0c7d52a566ae",
        "colab": {
          "base_uri": "https://localhost:8080/",
          "height": 34
        }
      },
      "source": [
        "mat.shape"
      ],
      "execution_count": 0,
      "outputs": [
        {
          "output_type": "execute_result",
          "data": {
            "text/plain": [
              "(2, 3)"
            ]
          },
          "metadata": {
            "tags": []
          },
          "execution_count": 16
        }
      ]
    },
    {
      "cell_type": "markdown",
      "metadata": {
        "id": "2anXnqFXWPk_",
        "colab_type": "text"
      },
      "source": [
        "Чтобы узнать тип элементов и их размер в байтах:"
      ]
    },
    {
      "cell_type": "code",
      "metadata": {
        "id": "yRql1-_AWPk_",
        "colab_type": "code",
        "outputId": "1b73240d-6dad-4f9a-cf30-a49b07a6dd91",
        "colab": {
          "base_uri": "https://localhost:8080/",
          "height": 34
        }
      },
      "source": [
        "mat.dtype.name"
      ],
      "execution_count": 0,
      "outputs": [
        {
          "output_type": "execute_result",
          "data": {
            "text/plain": [
              "'int64'"
            ]
          },
          "metadata": {
            "tags": []
          },
          "execution_count": 17
        }
      ]
    },
    {
      "cell_type": "code",
      "metadata": {
        "id": "ZpdN9wFFWPlC",
        "colab_type": "code",
        "outputId": "3522539a-c588-4774-e22f-032fc0488116",
        "colab": {
          "base_uri": "https://localhost:8080/",
          "height": 34
        }
      },
      "source": [
        "mat.itemsize"
      ],
      "execution_count": 0,
      "outputs": [
        {
          "output_type": "execute_result",
          "data": {
            "text/plain": [
              "8"
            ]
          },
          "metadata": {
            "tags": []
          },
          "execution_count": 18
        }
      ]
    },
    {
      "cell_type": "markdown",
      "metadata": {
        "id": "rW9b48WjWPlD",
        "colab_type": "text"
      },
      "source": [
        "## Создание массивов\n",
        "\n",
        "* Передать итерируемый объект в качестве параметра функции array (можно также явно указать тип элементов):"
      ]
    },
    {
      "cell_type": "code",
      "metadata": {
        "id": "nquLA8WOWPlE",
        "colab_type": "code",
        "outputId": "2a83b0f4-13a5-4bf6-871f-3aad43567b95",
        "colab": {
          "base_uri": "https://localhost:8080/",
          "height": 34
        }
      },
      "source": [
        "A = np.array([1, 2, 3])\n",
        "A"
      ],
      "execution_count": 0,
      "outputs": [
        {
          "output_type": "execute_result",
          "data": {
            "text/plain": [
              "array([1, 2, 3])"
            ]
          },
          "metadata": {
            "tags": []
          },
          "execution_count": 21
        }
      ]
    },
    {
      "cell_type": "code",
      "metadata": {
        "id": "mUC0A9zyWPlG",
        "colab_type": "code",
        "outputId": "33336e92-5575-465b-ca9a-5eeef87fcc29",
        "colab": {
          "base_uri": "https://localhost:8080/",
          "height": 34
        }
      },
      "source": [
        "A = np.array([1, 2, 3], dtype = float)\n",
        "A"
      ],
      "execution_count": 0,
      "outputs": [
        {
          "output_type": "execute_result",
          "data": {
            "text/plain": [
              "array([1., 2., 3.])"
            ]
          },
          "metadata": {
            "tags": []
          },
          "execution_count": 22
        }
      ]
    },
    {
      "cell_type": "code",
      "metadata": {
        "id": "ibugXqpHWPlI",
        "colab_type": "code",
        "outputId": "37da4dc4-046a-4089-d2c0-e3030be85df6",
        "colab": {
          "base_uri": "https://localhost:8080/",
          "height": 52
        }
      },
      "source": [
        "B = np.array([(1, 2, 3), (4, 5, 6)])\n",
        "B"
      ],
      "execution_count": 0,
      "outputs": [
        {
          "output_type": "execute_result",
          "data": {
            "text/plain": [
              "array([[1, 2, 3],\n",
              "       [4, 5, 6]])"
            ]
          },
          "metadata": {
            "tags": []
          },
          "execution_count": 24
        }
      ]
    },
    {
      "cell_type": "markdown",
      "metadata": {
        "id": "2Ka6YpXTWPlL",
        "colab_type": "text"
      },
      "source": [
        "* Создание массивов специального вида при помощи функций zeros, ones, empty, identity:"
      ]
    },
    {
      "cell_type": "code",
      "metadata": {
        "id": "YniKZmzvWPlM",
        "colab_type": "code",
        "outputId": "8ff947ed-d82a-4ca5-cf5a-32fef03e5436",
        "colab": {
          "base_uri": "https://localhost:8080/",
          "height": 34
        }
      },
      "source": [
        "np.zeros(3)"
      ],
      "execution_count": 0,
      "outputs": [
        {
          "output_type": "execute_result",
          "data": {
            "text/plain": [
              "array([0., 0., 0.])"
            ]
          },
          "metadata": {
            "tags": []
          },
          "execution_count": 25
        }
      ]
    },
    {
      "cell_type": "code",
      "metadata": {
        "id": "_Rxe94TVWPlP",
        "colab_type": "code",
        "outputId": "37b3eae5-77e0-46c8-b9ed-ab2fcc1f101a",
        "colab": {
          "base_uri": "https://localhost:8080/",
          "height": 69
        }
      },
      "source": [
        "np.ones((3, 4))"
      ],
      "execution_count": 0,
      "outputs": [
        {
          "output_type": "execute_result",
          "data": {
            "text/plain": [
              "array([[1., 1., 1., 1.],\n",
              "       [1., 1., 1., 1.],\n",
              "       [1., 1., 1., 1.]])"
            ]
          },
          "metadata": {
            "tags": []
          },
          "execution_count": 26
        }
      ]
    },
    {
      "cell_type": "code",
      "metadata": {
        "id": "SkCmLznQWPlR",
        "colab_type": "code",
        "outputId": "6b567434-446d-48b0-86f4-3c936c0c83fb",
        "colab": {
          "base_uri": "https://localhost:8080/",
          "height": 69
        }
      },
      "source": [
        "np.identity(3)"
      ],
      "execution_count": 0,
      "outputs": [
        {
          "output_type": "execute_result",
          "data": {
            "text/plain": [
              "array([[1., 0., 0.],\n",
              "       [0., 1., 0.],\n",
              "       [0., 0., 1.]])"
            ]
          },
          "metadata": {
            "tags": []
          },
          "execution_count": 27
        }
      ]
    },
    {
      "cell_type": "code",
      "metadata": {
        "id": "2B2b4b31WPlT",
        "colab_type": "code",
        "outputId": "c5f254f5-7c8a-4ffc-ab12-ec314a7256be",
        "colab": {
          "base_uri": "https://localhost:8080/",
          "height": 87
        }
      },
      "source": [
        "np.empty((2, 5))"
      ],
      "execution_count": 0,
      "outputs": [
        {
          "output_type": "execute_result",
          "data": {
            "text/plain": [
              "array([[4.67660785e-310, 0.00000000e+000, 6.91062040e-310,\n",
              "        6.91062068e-310, 6.91062069e-310],\n",
              "       [6.91062066e-310, 6.91062111e-310, 0.00000000e+000,\n",
              "        6.91062645e-310, 6.91062111e-310]])"
            ]
          },
          "metadata": {
            "tags": []
          },
          "execution_count": 28
        }
      ]
    },
    {
      "cell_type": "markdown",
      "metadata": {
        "id": "Qbbip55hWPlW",
        "colab_type": "text"
      },
      "source": [
        "Обратите внимание, что содержимое массива, созданного при помощи функции empty, **не инициализируется**, то есть в качестве значений он **может содержать \"мусор\"**."
      ]
    },
    {
      "cell_type": "markdown",
      "metadata": {
        "id": "jWDI5Ef9WPlW",
        "colab_type": "text"
      },
      "source": [
        "* Создание последовательностей при помощи функций arange (в качестве парметров принимает левую и правую границы последовательности и **шаг**) и linspace (принимает левую и правую границы и **количество элементов**):"
      ]
    },
    {
      "cell_type": "code",
      "metadata": {
        "id": "dNZCxttCWPlZ",
        "colab_type": "code",
        "outputId": "ae01f515-a5d1-4d0d-8145-ac7ec3a6b024",
        "colab": {
          "base_uri": "https://localhost:8080/",
          "height": 34
        }
      },
      "source": [
        "np.arange(2, 20, 3) # аналогично стандартной функции range python, правая граница не включается"
      ],
      "execution_count": 0,
      "outputs": [
        {
          "output_type": "execute_result",
          "data": {
            "text/plain": [
              "array([ 2,  5,  8, 11, 14, 17])"
            ]
          },
          "metadata": {
            "tags": []
          },
          "execution_count": 29
        }
      ]
    },
    {
      "cell_type": "code",
      "metadata": {
        "id": "3OSNj7ENWPle",
        "colab_type": "code",
        "outputId": "107163c4-d590-40ec-da92-62b150f3239e",
        "colab": {
          "base_uri": "https://localhost:8080/",
          "height": 34
        }
      },
      "source": [
        "np.arange(2.5, 8.7, 0.9) # но может работать и с вещественными числами"
      ],
      "execution_count": 0,
      "outputs": [
        {
          "output_type": "execute_result",
          "data": {
            "text/plain": [
              "array([2.5, 3.4, 4.3, 5.2, 6.1, 7. , 7.9])"
            ]
          },
          "metadata": {
            "tags": []
          },
          "execution_count": 30
        }
      ]
    },
    {
      "cell_type": "code",
      "metadata": {
        "id": "1bsYLF3NWPlh",
        "colab_type": "code",
        "outputId": "84205e00-c0f3-40ef-d69b-e75879185fbf",
        "colab": {
          "base_uri": "https://localhost:8080/",
          "height": 89
        }
      },
      "source": [
        "np.linspace(2, 18, 14) # правая граница включается (по умолчанию)"
      ],
      "execution_count": 0,
      "outputs": [
        {
          "output_type": "execute_result",
          "data": {
            "text/plain": [
              "array([ 2.        ,  3.23076923,  4.46153846,  5.69230769,  6.92307692,\n",
              "        8.15384615,  9.38461538, 10.61538462, 11.84615385, 13.07692308,\n",
              "       14.30769231, 15.53846154, 16.76923077, 18.        ])"
            ]
          },
          "metadata": {
            "tags": []
          },
          "execution_count": 31
        }
      ]
    },
    {
      "cell_type": "markdown",
      "metadata": {
        "id": "h7SsC7oxWPlk",
        "colab_type": "text"
      },
      "source": [
        "* Для изменения размеров существующего массива можно воспользоваться функцией reshape (при этом количество элементов должно оставаться неизменным):"
      ]
    },
    {
      "cell_type": "code",
      "metadata": {
        "id": "m5euBROeWPlk",
        "colab_type": "code",
        "outputId": "6d1066d0-ee03-451d-fd76-29c17c3095a7",
        "colab": {
          "base_uri": "https://localhost:8080/",
          "height": 69
        }
      },
      "source": [
        "np.arange(9).reshape(3, 3)"
      ],
      "execution_count": 0,
      "outputs": [
        {
          "output_type": "execute_result",
          "data": {
            "text/plain": [
              "array([[0, 1, 2],\n",
              "       [3, 4, 5],\n",
              "       [6, 7, 8]])"
            ]
          },
          "metadata": {
            "tags": []
          },
          "execution_count": 32
        }
      ]
    },
    {
      "cell_type": "markdown",
      "metadata": {
        "id": "hsoTGZiGWPln",
        "colab_type": "text"
      },
      "source": [
        "Вместо значения длины массива по одному из измерений можно указать -1 — в этом случае значение будет рассчитано автоматически:"
      ]
    },
    {
      "cell_type": "code",
      "metadata": {
        "scrolled": false,
        "id": "Rc30w2XIWPln",
        "colab_type": "code",
        "outputId": "d1b0cfaa-3339-4637-9034-3723bbb863c8",
        "colab": {
          "base_uri": "https://localhost:8080/",
          "height": 52
        }
      },
      "source": [
        "np.arange(8).reshape(2, -1)"
      ],
      "execution_count": 0,
      "outputs": [
        {
          "output_type": "execute_result",
          "data": {
            "text/plain": [
              "array([[0, 1, 2, 3],\n",
              "       [4, 5, 6, 7]])"
            ]
          },
          "metadata": {
            "tags": []
          },
          "execution_count": 33
        }
      ]
    },
    {
      "cell_type": "markdown",
      "metadata": {
        "id": "PD_67THYWPlp",
        "colab_type": "text"
      },
      "source": [
        "* Транспонирование существующего массива:"
      ]
    },
    {
      "cell_type": "code",
      "metadata": {
        "id": "gPESea_mWPlq",
        "colab_type": "code",
        "outputId": "3774aa24-5d18-480e-9e2c-48e33e35a2dd",
        "colab": {
          "base_uri": "https://localhost:8080/",
          "height": 52
        }
      },
      "source": [
        "C = np.arange(6).reshape(2, -1)\n",
        "C"
      ],
      "execution_count": 0,
      "outputs": [
        {
          "output_type": "execute_result",
          "data": {
            "text/plain": [
              "array([[0, 1, 2],\n",
              "       [3, 4, 5]])"
            ]
          },
          "metadata": {
            "tags": []
          },
          "execution_count": 34
        }
      ]
    },
    {
      "cell_type": "code",
      "metadata": {
        "id": "dMtW7-1oWPls",
        "colab_type": "code",
        "outputId": "15ae4885-cbef-47d7-e23d-800085735d42",
        "colab": {
          "base_uri": "https://localhost:8080/",
          "height": 69
        }
      },
      "source": [
        "C.T"
      ],
      "execution_count": 0,
      "outputs": [
        {
          "output_type": "execute_result",
          "data": {
            "text/plain": [
              "array([[0, 3],\n",
              "       [1, 4],\n",
              "       [2, 5]])"
            ]
          },
          "metadata": {
            "tags": []
          },
          "execution_count": 35
        }
      ]
    },
    {
      "cell_type": "markdown",
      "metadata": {
        "id": "S4UsuWHxWPlt",
        "colab_type": "text"
      },
      "source": [
        "* Объединение существующих массивов по заданной оси:"
      ]
    },
    {
      "cell_type": "code",
      "metadata": {
        "id": "caMndsdpWPlu",
        "colab_type": "code",
        "outputId": "6ef780f8-d392-4fc5-c405-27f08b2ab53e",
        "colab": {
          "base_uri": "https://localhost:8080/",
          "height": 52
        }
      },
      "source": [
        "A = np.arange(6).reshape(2, -1)\n",
        "np.hstack((A, A**2))"
      ],
      "execution_count": 0,
      "outputs": [
        {
          "output_type": "execute_result",
          "data": {
            "text/plain": [
              "array([[ 0,  1,  2,  0,  1,  4],\n",
              "       [ 3,  4,  5,  9, 16, 25]])"
            ]
          },
          "metadata": {
            "tags": []
          },
          "execution_count": 40
        }
      ]
    },
    {
      "cell_type": "code",
      "metadata": {
        "id": "dyNHo1B2WPlw",
        "colab_type": "code",
        "outputId": "ad83de4a-c7a5-4ad7-dc34-bbc7359e4de1",
        "colab": {
          "base_uri": "https://localhost:8080/",
          "height": 87
        }
      },
      "source": [
        "np.vstack((A, A**2))"
      ],
      "execution_count": 0,
      "outputs": [
        {
          "output_type": "execute_result",
          "data": {
            "text/plain": [
              "array([[ 0,  1,  2],\n",
              "       [ 3,  4,  5],\n",
              "       [ 0,  1,  4],\n",
              "       [ 9, 16, 25]])"
            ]
          },
          "metadata": {
            "tags": []
          },
          "execution_count": 41
        }
      ]
    },
    {
      "cell_type": "code",
      "metadata": {
        "id": "W704aiPKWPlx",
        "colab_type": "code",
        "outputId": "ffb9acf3-7438-4544-b57d-5e2f5c987989",
        "colab": {
          "base_uri": "https://localhost:8080/",
          "height": 52
        }
      },
      "source": [
        "np.concatenate((A, A**2), axis = 1)"
      ],
      "execution_count": 0,
      "outputs": [
        {
          "output_type": "execute_result",
          "data": {
            "text/plain": [
              "array([[ 0,  1,  2,  0,  1,  4],\n",
              "       [ 3,  4,  5,  9, 16, 25]])"
            ]
          },
          "metadata": {
            "tags": []
          },
          "execution_count": 42
        }
      ]
    },
    {
      "cell_type": "markdown",
      "metadata": {
        "id": "ein0rzXTWPl0",
        "colab_type": "text"
      },
      "source": [
        "* Повторение существующего массива"
      ]
    },
    {
      "cell_type": "code",
      "metadata": {
        "id": "7Ne4ESfFWPl1",
        "colab_type": "code",
        "outputId": "bd47d667-589b-4f22-b6cc-8c1065f1a417",
        "colab": {
          "base_uri": "https://localhost:8080/",
          "height": 52
        }
      },
      "source": [
        "a = np.arange(3)\n",
        "np.tile(a, (2, 2))"
      ],
      "execution_count": 0,
      "outputs": [
        {
          "output_type": "execute_result",
          "data": {
            "text/plain": [
              "array([[0, 1, 2, 0, 1, 2],\n",
              "       [0, 1, 2, 0, 1, 2]])"
            ]
          },
          "metadata": {
            "tags": []
          },
          "execution_count": 43
        }
      ]
    },
    {
      "cell_type": "code",
      "metadata": {
        "id": "viOKprW8WPl3",
        "colab_type": "code",
        "outputId": "4ed6beaa-eed3-422a-9e74-cd3fec693902",
        "colab": {
          "base_uri": "https://localhost:8080/",
          "height": 87
        }
      },
      "source": [
        "np.tile(a, (4, 1))"
      ],
      "execution_count": 0,
      "outputs": [
        {
          "output_type": "execute_result",
          "data": {
            "text/plain": [
              "array([[0, 1, 2],\n",
              "       [0, 1, 2],\n",
              "       [0, 1, 2],\n",
              "       [0, 1, 2]])"
            ]
          },
          "metadata": {
            "tags": []
          },
          "execution_count": 44
        }
      ]
    },
    {
      "cell_type": "markdown",
      "metadata": {
        "id": "QNdlJqCWWPl4",
        "colab_type": "text"
      },
      "source": [
        "## Базовые операции\n",
        "\n",
        "* Базовые арифметические операции над массивами выполняются поэлементно:"
      ]
    },
    {
      "cell_type": "code",
      "metadata": {
        "id": "taMA3QxrWPl5",
        "colab_type": "code",
        "colab": {}
      },
      "source": [
        "A = np.arange(9).reshape(3, 3)\n",
        "B = np.arange(1, 10).reshape(3, 3)"
      ],
      "execution_count": 0,
      "outputs": []
    },
    {
      "cell_type": "code",
      "metadata": {
        "id": "IlcI6cvLWPl6",
        "colab_type": "code",
        "outputId": "fbda3286-aa2b-430c-c9a2-bd4a5eb826bd",
        "colab": {
          "base_uri": "https://localhost:8080/",
          "height": 69
        }
      },
      "source": [
        "A"
      ],
      "execution_count": 0,
      "outputs": [
        {
          "output_type": "execute_result",
          "data": {
            "text/plain": [
              "array([[0, 1, 2],\n",
              "       [3, 4, 5],\n",
              "       [6, 7, 8]])"
            ]
          },
          "metadata": {
            "tags": []
          },
          "execution_count": 46
        }
      ]
    },
    {
      "cell_type": "code",
      "metadata": {
        "id": "3aeksNxTWPl9",
        "colab_type": "code",
        "outputId": "f1b5391c-6919-4423-d600-5877a2469f7f",
        "colab": {
          "base_uri": "https://localhost:8080/",
          "height": 69
        }
      },
      "source": [
        "A + B"
      ],
      "execution_count": 0,
      "outputs": [
        {
          "output_type": "execute_result",
          "data": {
            "text/plain": [
              "array([[ 1,  3,  5],\n",
              "       [ 7,  9, 11],\n",
              "       [13, 15, 17]])"
            ]
          },
          "metadata": {
            "tags": []
          },
          "execution_count": 47
        }
      ]
    },
    {
      "cell_type": "code",
      "metadata": {
        "id": "nIixONUpWPl_",
        "colab_type": "code",
        "outputId": "e2175455-88a7-41c9-ee8f-53328f633f2f",
        "colab": {
          "base_uri": "https://localhost:8080/",
          "height": 69
        }
      },
      "source": [
        "A / B"
      ],
      "execution_count": 0,
      "outputs": [
        {
          "output_type": "execute_result",
          "data": {
            "text/plain": [
              "array([[0, 0, 0],\n",
              "       [0, 0, 0],\n",
              "       [0, 0, 0]])"
            ]
          },
          "metadata": {
            "tags": []
          },
          "execution_count": 48
        }
      ]
    },
    {
      "cell_type": "code",
      "metadata": {
        "id": "r2Q1R32TWPmB",
        "colab_type": "code",
        "outputId": "4aa43892-c343-4cbe-b2c2-f607530c7b7f",
        "colab": {
          "base_uri": "https://localhost:8080/",
          "height": 69
        }
      },
      "source": [
        "A + 1"
      ],
      "execution_count": 0,
      "outputs": [
        {
          "output_type": "execute_result",
          "data": {
            "text/plain": [
              "array([[1, 2, 3],\n",
              "       [4, 5, 6],\n",
              "       [7, 8, 9]])"
            ]
          },
          "metadata": {
            "tags": []
          },
          "execution_count": 49
        }
      ]
    },
    {
      "cell_type": "code",
      "metadata": {
        "id": "FJHuVStoWPmC",
        "colab_type": "code",
        "outputId": "fd9bce11-59a5-459f-ee27-860908784a99",
        "colab": {
          "base_uri": "https://localhost:8080/",
          "height": 69
        }
      },
      "source": [
        "3 * A"
      ],
      "execution_count": 0,
      "outputs": [
        {
          "output_type": "execute_result",
          "data": {
            "text/plain": [
              "array([[ 0,  3,  6],\n",
              "       [ 9, 12, 15],\n",
              "       [18, 21, 24]])"
            ]
          },
          "metadata": {
            "tags": []
          },
          "execution_count": 50
        }
      ]
    },
    {
      "cell_type": "code",
      "metadata": {
        "id": "uQ7zT4uiWPmE",
        "colab_type": "code",
        "outputId": "25294bb5-4e4b-4eca-85d1-8f8a8ee24e75",
        "colab": {
          "base_uri": "https://localhost:8080/",
          "height": 69
        }
      },
      "source": [
        "A ** 2"
      ],
      "execution_count": 0,
      "outputs": [
        {
          "output_type": "execute_result",
          "data": {
            "text/plain": [
              "array([[ 0,  1,  4],\n",
              "       [ 9, 16, 25],\n",
              "       [36, 49, 64]])"
            ]
          },
          "metadata": {
            "tags": []
          },
          "execution_count": 51
        }
      ]
    },
    {
      "cell_type": "markdown",
      "metadata": {
        "id": "AfXdstWDWPmG",
        "colab_type": "text"
      },
      "source": [
        "Отдельно обратим внимание на то, что умножение массивов также является **поэлементным**, а не матричным:"
      ]
    },
    {
      "cell_type": "code",
      "metadata": {
        "id": "Wf6aSNrpWPmG",
        "colab_type": "code",
        "outputId": "292925f7-83fb-4152-b3ae-7d954b814609",
        "colab": {
          "base_uri": "https://localhost:8080/",
          "height": 69
        }
      },
      "source": [
        "A * B"
      ],
      "execution_count": 0,
      "outputs": [
        {
          "output_type": "execute_result",
          "data": {
            "text/plain": [
              "array([[ 0,  2,  6],\n",
              "       [12, 20, 30],\n",
              "       [42, 56, 72]])"
            ]
          },
          "metadata": {
            "tags": []
          },
          "execution_count": 52
        }
      ]
    },
    {
      "cell_type": "markdown",
      "metadata": {
        "id": "FNY6kTtUWPmI",
        "colab_type": "text"
      },
      "source": [
        "Для выполнения матричного умножения необходимо использовать функцию dot:"
      ]
    },
    {
      "cell_type": "code",
      "metadata": {
        "id": "RR_Ji-M5WPmJ",
        "colab_type": "code",
        "outputId": "89dc00c3-8095-415f-992b-fa12d7190c4b",
        "colab": {
          "base_uri": "https://localhost:8080/",
          "height": 69
        }
      },
      "source": [
        "A.dot(B)"
      ],
      "execution_count": 0,
      "outputs": [
        {
          "output_type": "execute_result",
          "data": {
            "text/plain": [
              "array([[ 18,  21,  24],\n",
              "       [ 54,  66,  78],\n",
              "       [ 90, 111, 132]])"
            ]
          },
          "metadata": {
            "tags": []
          },
          "execution_count": 53
        }
      ]
    },
    {
      "cell_type": "markdown",
      "metadata": {
        "id": "2b0HVSEVWPmN",
        "colab_type": "text"
      },
      "source": [
        "Поскольку операции выполняются поэлементно, операнды бинарных операций должны иметь одинаковый размер. Тем не менее, операция может быть корректно выполнена, если размеры операндов таковы, что они могут быть расширены до одинаковых размеров. Данная возможность называется [broadcasting](http://www.scipy-lectures.org/intro/numpy/operations.html#broadcasting):\n",
        "<img src = \"http://www.scipy-lectures.org/_images/numpy_broadcasting.png\">"
      ]
    },
    {
      "cell_type": "code",
      "metadata": {
        "id": "9O8xeIwzWPmO",
        "colab_type": "code",
        "outputId": "df087f9d-4572-4dd7-9f54-9b95b412ad81",
        "colab": {
          "base_uri": "https://localhost:8080/",
          "height": 87
        }
      },
      "source": [
        "np.tile(np.arange(0, 40, 10), (3, 1)).T + np.array([0, 1, 2])"
      ],
      "execution_count": 0,
      "outputs": [
        {
          "output_type": "execute_result",
          "data": {
            "text/plain": [
              "array([[ 0,  1,  2],\n",
              "       [10, 11, 12],\n",
              "       [20, 21, 22],\n",
              "       [30, 31, 32]])"
            ]
          },
          "metadata": {
            "tags": []
          },
          "execution_count": 54
        }
      ]
    },
    {
      "cell_type": "markdown",
      "metadata": {
        "id": "iE_VadvsWPmQ",
        "colab_type": "text"
      },
      "source": [
        "* Универсальные функции (sin, cos, exp и т.д.) также применяются поэлементно:"
      ]
    },
    {
      "cell_type": "code",
      "metadata": {
        "id": "a7VSkfNjWPmQ",
        "colab_type": "code",
        "outputId": "39ac9a95-0496-4b92-a440-487012d8266e",
        "colab": {
          "base_uri": "https://localhost:8080/",
          "height": 69
        }
      },
      "source": [
        "np.exp(A)"
      ],
      "execution_count": 0,
      "outputs": [
        {
          "output_type": "execute_result",
          "data": {
            "text/plain": [
              "array([[1.00000000e+00, 2.71828183e+00, 7.38905610e+00],\n",
              "       [2.00855369e+01, 5.45981500e+01, 1.48413159e+02],\n",
              "       [4.03428793e+02, 1.09663316e+03, 2.98095799e+03]])"
            ]
          },
          "metadata": {
            "tags": []
          },
          "execution_count": 55
        }
      ]
    },
    {
      "cell_type": "markdown",
      "metadata": {
        "id": "-4gU8rmvWPmT",
        "colab_type": "text"
      },
      "source": [
        "* Некоторые операции над массивами (например, вычисления минимума, максимума, суммы элементов) выполняются над всеми элементами вне зависимости от формы массива, однако при указании оси выполняются вдоль нее (например, для нахождения максимума каждой строки или каждого столбца):"
      ]
    },
    {
      "cell_type": "code",
      "metadata": {
        "id": "VeRStzIVWPmT",
        "colab_type": "code",
        "outputId": "9b2d0ca3-7386-4f8f-bde8-108bcd181cf6",
        "colab": {
          "base_uri": "https://localhost:8080/",
          "height": 69
        }
      },
      "source": [
        "A"
      ],
      "execution_count": 0,
      "outputs": [
        {
          "output_type": "execute_result",
          "data": {
            "text/plain": [
              "array([[0, 1, 2],\n",
              "       [3, 4, 5],\n",
              "       [6, 7, 8]])"
            ]
          },
          "metadata": {
            "tags": []
          },
          "execution_count": 56
        }
      ]
    },
    {
      "cell_type": "code",
      "metadata": {
        "id": "SinmHUxbWPmW",
        "colab_type": "code",
        "outputId": "18a4528c-007d-4834-e4df-f89f1f5c9c06",
        "colab": {
          "base_uri": "https://localhost:8080/",
          "height": 34
        }
      },
      "source": [
        "A.min()"
      ],
      "execution_count": 0,
      "outputs": [
        {
          "output_type": "execute_result",
          "data": {
            "text/plain": [
              "0"
            ]
          },
          "metadata": {
            "tags": []
          },
          "execution_count": 57
        }
      ]
    },
    {
      "cell_type": "code",
      "metadata": {
        "id": "5Ov18rDFWPmZ",
        "colab_type": "code",
        "outputId": "d9e85ac5-5559-45d1-ad24-542fbe1acd06",
        "colab": {
          "base_uri": "https://localhost:8080/",
          "height": 34
        }
      },
      "source": [
        "A.max(axis = 0)"
      ],
      "execution_count": 0,
      "outputs": [
        {
          "output_type": "execute_result",
          "data": {
            "text/plain": [
              "array([6, 7, 8])"
            ]
          },
          "metadata": {
            "tags": []
          },
          "execution_count": 58
        }
      ]
    },
    {
      "cell_type": "code",
      "metadata": {
        "id": "zTtOPG2uWPmb",
        "colab_type": "code",
        "outputId": "d43f8039-04bc-44f7-abdb-8808aba72380",
        "colab": {
          "base_uri": "https://localhost:8080/",
          "height": 34
        }
      },
      "source": [
        "A.sum(axis = 1)"
      ],
      "execution_count": 0,
      "outputs": [
        {
          "output_type": "execute_result",
          "data": {
            "text/plain": [
              "array([ 3, 12, 21])"
            ]
          },
          "metadata": {
            "tags": []
          },
          "execution_count": 59
        }
      ]
    },
    {
      "cell_type": "markdown",
      "metadata": {
        "id": "PgPA4jMGWPmd",
        "colab_type": "text"
      },
      "source": [
        "## Индексация\n",
        "\n",
        "Для доступа к элементам может использоваться [много различных способов](http://docs.scipy.org/doc/numpy/reference/arrays.indexing.html), рассмотрим основные.\n",
        "\n",
        "* Для индексации могут использоваться конкретные значения индексов и срезы (slice), как и в стандартных типах Python. Для многомерных массивов индексы для различных осей разделяются запятой. Если для многомерного массива указаны индексы не для всех измерений, недостающие заполняются полным срезом (:)."
      ]
    },
    {
      "cell_type": "code",
      "metadata": {
        "id": "9np8q5sxWPmd",
        "colab_type": "code",
        "outputId": "f5bc5229-df9a-4be5-f44a-662c9241f2ed",
        "colab": {
          "base_uri": "https://localhost:8080/",
          "height": 34
        }
      },
      "source": [
        "a = np.arange(10)\n",
        "a"
      ],
      "execution_count": 0,
      "outputs": [
        {
          "output_type": "execute_result",
          "data": {
            "text/plain": [
              "array([0, 1, 2, 3, 4, 5, 6, 7, 8, 9])"
            ]
          },
          "metadata": {
            "tags": []
          },
          "execution_count": 60
        }
      ]
    },
    {
      "cell_type": "code",
      "metadata": {
        "id": "KbpEoHhjWPmf",
        "colab_type": "code",
        "outputId": "98f96331-6453-4a3e-8474-933c14e61ba1",
        "colab": {
          "base_uri": "https://localhost:8080/",
          "height": 34
        }
      },
      "source": [
        "a[2:5]"
      ],
      "execution_count": 0,
      "outputs": [
        {
          "output_type": "execute_result",
          "data": {
            "text/plain": [
              "array([2, 3, 4])"
            ]
          },
          "metadata": {
            "tags": []
          },
          "execution_count": 61
        }
      ]
    },
    {
      "cell_type": "code",
      "metadata": {
        "id": "Ig0f_4z5WPmg",
        "colab_type": "code",
        "outputId": "562f39fe-7aaf-4002-8596-f90511f4653f",
        "colab": {
          "base_uri": "https://localhost:8080/",
          "height": 34
        }
      },
      "source": [
        "a[3:8:2]"
      ],
      "execution_count": 0,
      "outputs": [
        {
          "output_type": "execute_result",
          "data": {
            "text/plain": [
              "array([3, 5, 7])"
            ]
          },
          "metadata": {
            "tags": []
          },
          "execution_count": 62
        }
      ]
    },
    {
      "cell_type": "code",
      "metadata": {
        "id": "EF2CgX26WPmi",
        "colab_type": "code",
        "outputId": "61875027-d715-431e-8c9c-7a3dab4912e2",
        "colab": {
          "base_uri": "https://localhost:8080/",
          "height": 174
        }
      },
      "source": [
        "A = np.arange(81).reshape(9, -1)\n",
        "A"
      ],
      "execution_count": 0,
      "outputs": [
        {
          "output_type": "execute_result",
          "data": {
            "text/plain": [
              "array([[ 0,  1,  2,  3,  4,  5,  6,  7,  8],\n",
              "       [ 9, 10, 11, 12, 13, 14, 15, 16, 17],\n",
              "       [18, 19, 20, 21, 22, 23, 24, 25, 26],\n",
              "       [27, 28, 29, 30, 31, 32, 33, 34, 35],\n",
              "       [36, 37, 38, 39, 40, 41, 42, 43, 44],\n",
              "       [45, 46, 47, 48, 49, 50, 51, 52, 53],\n",
              "       [54, 55, 56, 57, 58, 59, 60, 61, 62],\n",
              "       [63, 64, 65, 66, 67, 68, 69, 70, 71],\n",
              "       [72, 73, 74, 75, 76, 77, 78, 79, 80]])"
            ]
          },
          "metadata": {
            "tags": []
          },
          "execution_count": 63
        }
      ]
    },
    {
      "cell_type": "code",
      "metadata": {
        "id": "HaxkaeAnWPmj",
        "colab_type": "code",
        "outputId": "7b2241bf-9ecd-4fa1-94a4-7a215d6d9c2d",
        "colab": {
          "base_uri": "https://localhost:8080/",
          "height": 52
        }
      },
      "source": [
        "A[2:4]"
      ],
      "execution_count": 0,
      "outputs": [
        {
          "output_type": "execute_result",
          "data": {
            "text/plain": [
              "array([[18, 19, 20, 21, 22, 23, 24, 25, 26],\n",
              "       [27, 28, 29, 30, 31, 32, 33, 34, 35]])"
            ]
          },
          "metadata": {
            "tags": []
          },
          "execution_count": 64
        }
      ]
    },
    {
      "cell_type": "code",
      "metadata": {
        "id": "GMD79an2WPml",
        "colab_type": "code",
        "outputId": "0f5ca089-6d58-4796-a20d-94e4cfba53de",
        "colab": {
          "base_uri": "https://localhost:8080/",
          "height": 174
        }
      },
      "source": [
        "A[:, 2:4]"
      ],
      "execution_count": 0,
      "outputs": [
        {
          "output_type": "execute_result",
          "data": {
            "text/plain": [
              "array([[ 2,  3],\n",
              "       [11, 12],\n",
              "       [20, 21],\n",
              "       [29, 30],\n",
              "       [38, 39],\n",
              "       [47, 48],\n",
              "       [56, 57],\n",
              "       [65, 66],\n",
              "       [74, 75]])"
            ]
          },
          "metadata": {
            "tags": []
          },
          "execution_count": 65
        }
      ]
    },
    {
      "cell_type": "code",
      "metadata": {
        "id": "3pPIkBZOWPmo",
        "colab_type": "code",
        "outputId": "791571db-e91d-4ce8-be18-c3dee25199d4",
        "colab": {
          "base_uri": "https://localhost:8080/",
          "height": 52
        }
      },
      "source": [
        "A[2:4, 2:4]"
      ],
      "execution_count": 0,
      "outputs": [
        {
          "output_type": "execute_result",
          "data": {
            "text/plain": [
              "array([[20, 21],\n",
              "       [29, 30]])"
            ]
          },
          "metadata": {
            "tags": []
          },
          "execution_count": 66
        }
      ]
    },
    {
      "cell_type": "code",
      "metadata": {
        "id": "JxJhkML8WPmp",
        "colab_type": "code",
        "outputId": "8883a4a9-ac6e-45ef-fbca-db958f6b6400",
        "colab": {
          "base_uri": "https://localhost:8080/",
          "height": 34
        }
      },
      "source": [
        "A[-1]"
      ],
      "execution_count": 0,
      "outputs": [
        {
          "output_type": "execute_result",
          "data": {
            "text/plain": [
              "array([72, 73, 74, 75, 76, 77, 78, 79, 80])"
            ]
          },
          "metadata": {
            "tags": []
          },
          "execution_count": 67
        }
      ]
    },
    {
      "cell_type": "markdown",
      "metadata": {
        "id": "ScMWk6taWPmq",
        "colab_type": "text"
      },
      "source": [
        "* Также может использоваться индексация при помощи списков индексов (по каждой из осей):"
      ]
    },
    {
      "cell_type": "code",
      "metadata": {
        "id": "og-bpuRUWPmr",
        "colab_type": "code",
        "outputId": "1e6a24bd-a8cd-4af5-b308-40a02c528d85",
        "colab": {
          "base_uri": "https://localhost:8080/",
          "height": 174
        }
      },
      "source": [
        "A = np.arange(81).reshape(9, -1)\n",
        "A"
      ],
      "execution_count": 0,
      "outputs": [
        {
          "output_type": "execute_result",
          "data": {
            "text/plain": [
              "array([[ 0,  1,  2,  3,  4,  5,  6,  7,  8],\n",
              "       [ 9, 10, 11, 12, 13, 14, 15, 16, 17],\n",
              "       [18, 19, 20, 21, 22, 23, 24, 25, 26],\n",
              "       [27, 28, 29, 30, 31, 32, 33, 34, 35],\n",
              "       [36, 37, 38, 39, 40, 41, 42, 43, 44],\n",
              "       [45, 46, 47, 48, 49, 50, 51, 52, 53],\n",
              "       [54, 55, 56, 57, 58, 59, 60, 61, 62],\n",
              "       [63, 64, 65, 66, 67, 68, 69, 70, 71],\n",
              "       [72, 73, 74, 75, 76, 77, 78, 79, 80]])"
            ]
          },
          "metadata": {
            "tags": []
          },
          "execution_count": 68
        }
      ]
    },
    {
      "cell_type": "code",
      "metadata": {
        "id": "GviOPGLJWPmt",
        "colab_type": "code",
        "outputId": "4ca391d4-d973-4b24-d34f-bcee7589b3c1",
        "colab": {
          "base_uri": "https://localhost:8080/",
          "height": 34
        }
      },
      "source": [
        "A[[2, 4, 5], [0, 1, 3]]"
      ],
      "execution_count": 0,
      "outputs": [
        {
          "output_type": "execute_result",
          "data": {
            "text/plain": [
              "array([18, 37, 48])"
            ]
          },
          "metadata": {
            "tags": []
          },
          "execution_count": 69
        }
      ]
    },
    {
      "cell_type": "markdown",
      "metadata": {
        "id": "N4UPjOvBWPmv",
        "colab_type": "text"
      },
      "source": [
        "* Может также применяться логическая индексация (при помощи логических массивов):"
      ]
    },
    {
      "cell_type": "code",
      "metadata": {
        "id": "Iabu8FBSWPmw",
        "colab_type": "code",
        "outputId": "0e2239d7-eceb-4fe0-ae15-cc246975824a",
        "colab": {
          "base_uri": "https://localhost:8080/",
          "height": 34
        }
      },
      "source": [
        "A = np.arange(11)\n",
        "A"
      ],
      "execution_count": 0,
      "outputs": [
        {
          "output_type": "execute_result",
          "data": {
            "text/plain": [
              "array([ 0,  1,  2,  3,  4,  5,  6,  7,  8,  9, 10])"
            ]
          },
          "metadata": {
            "tags": []
          },
          "execution_count": 70
        }
      ]
    },
    {
      "cell_type": "code",
      "metadata": {
        "id": "562AU5ynWPmz",
        "colab_type": "code",
        "outputId": "525b9705-cdf2-4243-bd1d-72e0065a3e9d",
        "colab": {
          "base_uri": "https://localhost:8080/",
          "height": 34
        }
      },
      "source": [
        "A[A % 5 != 3]"
      ],
      "execution_count": 0,
      "outputs": [
        {
          "output_type": "execute_result",
          "data": {
            "text/plain": [
              "array([ 0,  1,  2,  4,  5,  6,  7,  9, 10])"
            ]
          },
          "metadata": {
            "tags": []
          },
          "execution_count": 71
        }
      ]
    },
    {
      "cell_type": "code",
      "metadata": {
        "id": "4avcOWldWPm4",
        "colab_type": "code",
        "outputId": "97541abe-4735-471f-8f5d-30a9aa7d0260",
        "colab": {
          "base_uri": "https://localhost:8080/",
          "height": 34
        }
      },
      "source": [
        "A[np.logical_and(A != 7, A % 5 != 3)] # также можно использовать логические операции"
      ],
      "execution_count": 0,
      "outputs": [
        {
          "output_type": "execute_result",
          "data": {
            "text/plain": [
              "array([ 0,  1,  2,  4,  5,  6,  9, 10])"
            ]
          },
          "metadata": {
            "tags": []
          },
          "execution_count": 72
        }
      ]
    },
    {
      "cell_type": "markdown",
      "metadata": {
        "id": "3kLxJuRmWPm7",
        "colab_type": "text"
      },
      "source": [
        "## Примеры"
      ]
    },
    {
      "cell_type": "code",
      "metadata": {
        "id": "FUWvct-NWPm7",
        "colab_type": "code",
        "outputId": "84d61c32-36af-4472-e067-79bd4c2c6326",
        "colab": {
          "base_uri": "https://localhost:8080/",
          "height": 212
        }
      },
      "source": [
        "A = np.arange(120).reshape(10, -1)\n",
        "A"
      ],
      "execution_count": 0,
      "outputs": [
        {
          "output_type": "execute_result",
          "data": {
            "text/plain": [
              "array([[  0,   1,   2,   3,   4,   5,   6,   7,   8,   9,  10,  11],\n",
              "       [ 12,  13,  14,  15,  16,  17,  18,  19,  20,  21,  22,  23],\n",
              "       [ 24,  25,  26,  27,  28,  29,  30,  31,  32,  33,  34,  35],\n",
              "       [ 36,  37,  38,  39,  40,  41,  42,  43,  44,  45,  46,  47],\n",
              "       [ 48,  49,  50,  51,  52,  53,  54,  55,  56,  57,  58,  59],\n",
              "       [ 60,  61,  62,  63,  64,  65,  66,  67,  68,  69,  70,  71],\n",
              "       [ 72,  73,  74,  75,  76,  77,  78,  79,  80,  81,  82,  83],\n",
              "       [ 84,  85,  86,  87,  88,  89,  90,  91,  92,  93,  94,  95],\n",
              "       [ 96,  97,  98,  99, 100, 101, 102, 103, 104, 105, 106, 107],\n",
              "       [108, 109, 110, 111, 112, 113, 114, 115, 116, 117, 118, 119]])"
            ]
          },
          "metadata": {
            "tags": []
          },
          "execution_count": 73
        }
      ]
    },
    {
      "cell_type": "markdown",
      "metadata": {
        "id": "ISnsDNf2WPm9",
        "colab_type": "text"
      },
      "source": [
        "1. Выбрать все четные строки матрицы A.\n",
        "2. Составить одномерный массив из всех не делящихся на 3 элементов нечетных столбцов А.\n",
        "3. Посчитать сумму диагональных элементов A."
      ]
    },
    {
      "cell_type": "code",
      "metadata": {
        "id": "EwJU69NSWPm9",
        "colab_type": "code",
        "colab": {}
      },
      "source": [
        "# Your code here"
      ],
      "execution_count": 0,
      "outputs": []
    },
    {
      "cell_type": "markdown",
      "metadata": {
        "id": "BsSOuoRJWPm_",
        "colab_type": "text"
      },
      "source": [
        "## Зачем?\n",
        "\n",
        "Зачем необходимо использовать NumPy, если существуют стандартные списки/кортежи и циклы?\n",
        "\n",
        "Причина заключается в скорости работы. Попробуем посчитать сумму поэлементых произведений 2 больших векторов:"
      ]
    },
    {
      "cell_type": "code",
      "metadata": {
        "id": "V0L0jzRqWPnB",
        "colab_type": "code",
        "colab": {}
      },
      "source": [
        "import time\n",
        "\n",
        "A_quick_arr = np.random.normal(size = (1000000,))\n",
        "B_quick_arr = np.random.normal(size = (1000000,))\n",
        "\n",
        "A_slow_list, B_slow_list = list(A_quick_arr), list(B_quick_arr)"
      ],
      "execution_count": 0,
      "outputs": []
    },
    {
      "cell_type": "code",
      "metadata": {
        "id": "Ej1UArAmWPnC",
        "colab_type": "code",
        "outputId": "58e13a4d-2241-41c7-abf7-7b11717224c7",
        "colab": {
          "base_uri": "https://localhost:8080/",
          "height": 34
        }
      },
      "source": [
        "start = time.clock()\n",
        "ans = 0\n",
        "for i in range(len(A_slow_list)):\n",
        "    ans += A_slow_list[i] * B_slow_list[i]\n",
        "print(time.clock() - start) # время выполнения в секундах"
      ],
      "execution_count": 0,
      "outputs": [
        {
          "output_type": "stream",
          "text": [
            "0.333206\n"
          ],
          "name": "stdout"
        }
      ]
    },
    {
      "cell_type": "code",
      "metadata": {
        "id": "hTKm8PofWPnE",
        "colab_type": "code",
        "outputId": "6d07c32e-c845-430d-f405-0cddc6c45b42",
        "colab": {
          "base_uri": "https://localhost:8080/",
          "height": 34
        }
      },
      "source": [
        "start = time.clock()\n",
        "ans = sum([A_slow_list[i] * B_slow_list[i] for i in range(100000)])\n",
        "print(time.clock() - start)"
      ],
      "execution_count": 0,
      "outputs": [
        {
          "output_type": "stream",
          "text": [
            "0.039902\n"
          ],
          "name": "stdout"
        }
      ]
    },
    {
      "cell_type": "code",
      "metadata": {
        "id": "pYzO5WkKWPnF",
        "colab_type": "code",
        "outputId": "e4d00440-2b49-40b3-c8db-461b66375ee4",
        "colab": {
          "base_uri": "https://localhost:8080/",
          "height": 34
        }
      },
      "source": [
        "start = time.clock()\n",
        "ans = np.sum(A_quick_arr * B_quick_arr)\n",
        "print(time.clock() - start)"
      ],
      "execution_count": 0,
      "outputs": [
        {
          "output_type": "stream",
          "text": [
            "0.008855\n"
          ],
          "name": "stdout"
        }
      ]
    },
    {
      "cell_type": "markdown",
      "metadata": {
        "id": "UN3VDbeBcQFi",
        "colab_type": "text"
      },
      "source": [
        "# Pandas"
      ]
    },
    {
      "cell_type": "markdown",
      "metadata": {
        "id": "-Coyt3RuWPnG",
        "colab_type": "text"
      },
      "source": [
        "<img src = \"https://miro.medium.com/max/3006/1*i1vVm3EqqDIkyucD0079wg.jpeg\">\n"
      ]
    },
    {
      "cell_type": "code",
      "metadata": {
        "id": "DID7K3Q7WPnH",
        "colab_type": "code",
        "colab": {}
      },
      "source": [
        "import pandas as pd"
      ],
      "execution_count": 0,
      "outputs": []
    },
    {
      "cell_type": "markdown",
      "metadata": {
        "id": "2Yc2g9h0WPnI",
        "colab_type": "text"
      },
      "source": [
        "**Pandas** (Python Data Analysis Library) — библиотека языка Python для [удобных] обработки и анализа данных.\n",
        "\n",
        "\n",
        "Рассмотрим данную библиотеку на примере данных о пассажирах лайнера \"Титаник\". Имеется некоторая информация о пассажирах, по которой необходимо предсказать выживаемость каждого из них.\n",
        "* Какого типа данная задача?\n",
        "* Что является объектами?\n",
        "* Что является ответами?\n",
        "* Какие могут быть признаки? Какие у них типы?\n",
        "\n",
        "Загрузка данных в **pandas** происходит в специальный объект типа **DataFrame**:"
      ]
    },
    {
      "cell_type": "code",
      "metadata": {
        "id": "fbZZe2wjgIci",
        "colab_type": "code",
        "outputId": "bbf408b4-1a1a-407a-e2ab-d3b6f6d01e7b",
        "colab": {
          "base_uri": "https://localhost:8080/",
          "height": 204
        }
      },
      "source": [
        "!wget -O titanic.csv https://gist.githubusercontent.com/michhar/2dfd2de0d4f8727f873422c5d959fff5/raw/ff414a1bcfcba32481e4d4e8db578e55872a2ca1/titanic.csv"
      ],
      "execution_count": 0,
      "outputs": [
        {
          "output_type": "stream",
          "text": [
            "--2019-09-07 07:01:19--  https://gist.githubusercontent.com/michhar/2dfd2de0d4f8727f873422c5d959fff5/raw/ff414a1bcfcba32481e4d4e8db578e55872a2ca1/titanic.csv\n",
            "Resolving gist.githubusercontent.com (gist.githubusercontent.com)... 151.101.0.133, 151.101.64.133, 151.101.128.133, ...\n",
            "Connecting to gist.githubusercontent.com (gist.githubusercontent.com)|151.101.0.133|:443... connected.\n",
            "HTTP request sent, awaiting response... 200 OK\n",
            "Length: 10305 (10K) [text/plain]\n",
            "Saving to: ‘titanic.csv’\n",
            "\n",
            "\rtitanic.csv           0%[                    ]       0  --.-KB/s               \rtitanic.csv         100%[===================>]  10.06K  --.-KB/s    in 0s      \n",
            "\n",
            "2019-09-07 07:01:20 (89.2 MB/s) - ‘titanic.csv’ saved [10305/10305]\n",
            "\n"
          ],
          "name": "stdout"
        }
      ]
    },
    {
      "cell_type": "code",
      "metadata": {
        "id": "m6aGJ-m0WPnI",
        "colab_type": "code",
        "outputId": "bcdc69ee-cc5a-44dd-bb27-f332bb8f053a",
        "colab": {
          "base_uri": "https://localhost:8080/",
          "height": 1969
        }
      },
      "source": [
        "pass_data = pd.read_csv('titanic.csv', sep='\\t')\n",
        "pass_data"
      ],
      "execution_count": 0,
      "outputs": [
        {
          "output_type": "execute_result",
          "data": {
            "text/html": [
              "<div>\n",
              "<style scoped>\n",
              "    .dataframe tbody tr th:only-of-type {\n",
              "        vertical-align: middle;\n",
              "    }\n",
              "\n",
              "    .dataframe tbody tr th {\n",
              "        vertical-align: top;\n",
              "    }\n",
              "\n",
              "    .dataframe thead th {\n",
              "        text-align: right;\n",
              "    }\n",
              "</style>\n",
              "<table border=\"1\" class=\"dataframe\">\n",
              "  <thead>\n",
              "    <tr style=\"text-align: right;\">\n",
              "      <th></th>\n",
              "      <th>PassengerId</th>\n",
              "      <th>Survived</th>\n",
              "      <th>Pclass</th>\n",
              "      <th>Name</th>\n",
              "      <th>Sex</th>\n",
              "      <th>Age</th>\n",
              "      <th>SibSp</th>\n",
              "      <th>Parch</th>\n",
              "      <th>Ticket</th>\n",
              "      <th>Fare</th>\n",
              "      <th>Cabin</th>\n",
              "      <th>Embarked</th>\n",
              "    </tr>\n",
              "  </thead>\n",
              "  <tbody>\n",
              "    <tr>\n",
              "      <th>0</th>\n",
              "      <td>1</td>\n",
              "      <td>0</td>\n",
              "      <td>3</td>\n",
              "      <td>Braund, Mr. Owen Harris</td>\n",
              "      <td>male</td>\n",
              "      <td>22.0</td>\n",
              "      <td>1</td>\n",
              "      <td>0</td>\n",
              "      <td>A/5 21171</td>\n",
              "      <td>7.2500</td>\n",
              "      <td>NaN</td>\n",
              "      <td>S</td>\n",
              "    </tr>\n",
              "    <tr>\n",
              "      <th>1</th>\n",
              "      <td>2</td>\n",
              "      <td>1</td>\n",
              "      <td>1</td>\n",
              "      <td>Cumings, Mrs. John Bradley (Florence Briggs Th...</td>\n",
              "      <td>female</td>\n",
              "      <td>38.0</td>\n",
              "      <td>1</td>\n",
              "      <td>0</td>\n",
              "      <td>PC 17599</td>\n",
              "      <td>71.2833</td>\n",
              "      <td>C85</td>\n",
              "      <td>C</td>\n",
              "    </tr>\n",
              "    <tr>\n",
              "      <th>2</th>\n",
              "      <td>3</td>\n",
              "      <td>1</td>\n",
              "      <td>3</td>\n",
              "      <td>Heikkinen, Miss. Laina</td>\n",
              "      <td>female</td>\n",
              "      <td>26.0</td>\n",
              "      <td>0</td>\n",
              "      <td>0</td>\n",
              "      <td>STON/O2. 3101282</td>\n",
              "      <td>7.9250</td>\n",
              "      <td>NaN</td>\n",
              "      <td>S</td>\n",
              "    </tr>\n",
              "    <tr>\n",
              "      <th>3</th>\n",
              "      <td>4</td>\n",
              "      <td>1</td>\n",
              "      <td>1</td>\n",
              "      <td>Futrelle, Mrs. Jacques Heath (Lily May Peel)</td>\n",
              "      <td>female</td>\n",
              "      <td>35.0</td>\n",
              "      <td>1</td>\n",
              "      <td>0</td>\n",
              "      <td>113803</td>\n",
              "      <td>53.1000</td>\n",
              "      <td>C123</td>\n",
              "      <td>S</td>\n",
              "    </tr>\n",
              "    <tr>\n",
              "      <th>4</th>\n",
              "      <td>5</td>\n",
              "      <td>0</td>\n",
              "      <td>3</td>\n",
              "      <td>Allen, Mr. William Henry</td>\n",
              "      <td>male</td>\n",
              "      <td>35.0</td>\n",
              "      <td>0</td>\n",
              "      <td>0</td>\n",
              "      <td>373450</td>\n",
              "      <td>8.0500</td>\n",
              "      <td>NaN</td>\n",
              "      <td>S</td>\n",
              "    </tr>\n",
              "    <tr>\n",
              "      <th>5</th>\n",
              "      <td>6</td>\n",
              "      <td>0</td>\n",
              "      <td>3</td>\n",
              "      <td>Moran, Mr. James</td>\n",
              "      <td>male</td>\n",
              "      <td>NaN</td>\n",
              "      <td>0</td>\n",
              "      <td>0</td>\n",
              "      <td>330877</td>\n",
              "      <td>8.4583</td>\n",
              "      <td>NaN</td>\n",
              "      <td>Q</td>\n",
              "    </tr>\n",
              "    <tr>\n",
              "      <th>6</th>\n",
              "      <td>7</td>\n",
              "      <td>0</td>\n",
              "      <td>1</td>\n",
              "      <td>McCarthy, Mr. Timothy J</td>\n",
              "      <td>male</td>\n",
              "      <td>54.0</td>\n",
              "      <td>0</td>\n",
              "      <td>0</td>\n",
              "      <td>17463</td>\n",
              "      <td>51.8625</td>\n",
              "      <td>E46</td>\n",
              "      <td>S</td>\n",
              "    </tr>\n",
              "    <tr>\n",
              "      <th>7</th>\n",
              "      <td>8</td>\n",
              "      <td>0</td>\n",
              "      <td>3</td>\n",
              "      <td>Palsson, Master. Gosta Leonard</td>\n",
              "      <td>male</td>\n",
              "      <td>2.0</td>\n",
              "      <td>3</td>\n",
              "      <td>1</td>\n",
              "      <td>349909</td>\n",
              "      <td>21.0750</td>\n",
              "      <td>NaN</td>\n",
              "      <td>S</td>\n",
              "    </tr>\n",
              "    <tr>\n",
              "      <th>8</th>\n",
              "      <td>9</td>\n",
              "      <td>1</td>\n",
              "      <td>3</td>\n",
              "      <td>Johnson, Mrs. Oscar W (Elisabeth Vilhelmina Berg)</td>\n",
              "      <td>female</td>\n",
              "      <td>27.0</td>\n",
              "      <td>0</td>\n",
              "      <td>2</td>\n",
              "      <td>347742</td>\n",
              "      <td>11.1333</td>\n",
              "      <td>NaN</td>\n",
              "      <td>S</td>\n",
              "    </tr>\n",
              "    <tr>\n",
              "      <th>9</th>\n",
              "      <td>10</td>\n",
              "      <td>1</td>\n",
              "      <td>2</td>\n",
              "      <td>Nasser, Mrs. Nicholas (Adele Achem)</td>\n",
              "      <td>female</td>\n",
              "      <td>14.0</td>\n",
              "      <td>1</td>\n",
              "      <td>0</td>\n",
              "      <td>237736</td>\n",
              "      <td>30.0708</td>\n",
              "      <td>NaN</td>\n",
              "      <td>C</td>\n",
              "    </tr>\n",
              "    <tr>\n",
              "      <th>10</th>\n",
              "      <td>11</td>\n",
              "      <td>1</td>\n",
              "      <td>3</td>\n",
              "      <td>Sandstrom, Miss. Marguerite Rut</td>\n",
              "      <td>female</td>\n",
              "      <td>4.0</td>\n",
              "      <td>1</td>\n",
              "      <td>1</td>\n",
              "      <td>PP 9549</td>\n",
              "      <td>16.7000</td>\n",
              "      <td>G6</td>\n",
              "      <td>S</td>\n",
              "    </tr>\n",
              "    <tr>\n",
              "      <th>11</th>\n",
              "      <td>12</td>\n",
              "      <td>1</td>\n",
              "      <td>1</td>\n",
              "      <td>Bonnell, Miss. Elizabeth</td>\n",
              "      <td>female</td>\n",
              "      <td>58.0</td>\n",
              "      <td>0</td>\n",
              "      <td>0</td>\n",
              "      <td>113783</td>\n",
              "      <td>26.5500</td>\n",
              "      <td>C103</td>\n",
              "      <td>S</td>\n",
              "    </tr>\n",
              "    <tr>\n",
              "      <th>12</th>\n",
              "      <td>13</td>\n",
              "      <td>0</td>\n",
              "      <td>3</td>\n",
              "      <td>Saundercock, Mr. William Henry</td>\n",
              "      <td>male</td>\n",
              "      <td>20.0</td>\n",
              "      <td>0</td>\n",
              "      <td>0</td>\n",
              "      <td>A/5. 2151</td>\n",
              "      <td>8.0500</td>\n",
              "      <td>NaN</td>\n",
              "      <td>S</td>\n",
              "    </tr>\n",
              "    <tr>\n",
              "      <th>13</th>\n",
              "      <td>14</td>\n",
              "      <td>0</td>\n",
              "      <td>3</td>\n",
              "      <td>Andersson, Mr. Anders Johan</td>\n",
              "      <td>male</td>\n",
              "      <td>39.0</td>\n",
              "      <td>1</td>\n",
              "      <td>5</td>\n",
              "      <td>347082</td>\n",
              "      <td>31.2750</td>\n",
              "      <td>NaN</td>\n",
              "      <td>S</td>\n",
              "    </tr>\n",
              "    <tr>\n",
              "      <th>14</th>\n",
              "      <td>15</td>\n",
              "      <td>0</td>\n",
              "      <td>3</td>\n",
              "      <td>Vestrom, Miss. Hulda Amanda Adolfina</td>\n",
              "      <td>female</td>\n",
              "      <td>14.0</td>\n",
              "      <td>0</td>\n",
              "      <td>0</td>\n",
              "      <td>350406</td>\n",
              "      <td>7.8542</td>\n",
              "      <td>NaN</td>\n",
              "      <td>S</td>\n",
              "    </tr>\n",
              "    <tr>\n",
              "      <th>15</th>\n",
              "      <td>16</td>\n",
              "      <td>1</td>\n",
              "      <td>2</td>\n",
              "      <td>Hewlett, Mrs. (Mary D Kingcome)</td>\n",
              "      <td>female</td>\n",
              "      <td>55.0</td>\n",
              "      <td>0</td>\n",
              "      <td>0</td>\n",
              "      <td>248706</td>\n",
              "      <td>16.0000</td>\n",
              "      <td>NaN</td>\n",
              "      <td>S</td>\n",
              "    </tr>\n",
              "    <tr>\n",
              "      <th>16</th>\n",
              "      <td>17</td>\n",
              "      <td>0</td>\n",
              "      <td>3</td>\n",
              "      <td>Rice, Master. Eugene</td>\n",
              "      <td>male</td>\n",
              "      <td>2.0</td>\n",
              "      <td>4</td>\n",
              "      <td>1</td>\n",
              "      <td>382652</td>\n",
              "      <td>29.1250</td>\n",
              "      <td>NaN</td>\n",
              "      <td>Q</td>\n",
              "    </tr>\n",
              "    <tr>\n",
              "      <th>17</th>\n",
              "      <td>18</td>\n",
              "      <td>1</td>\n",
              "      <td>2</td>\n",
              "      <td>Williams, Mr. Charles Eugene</td>\n",
              "      <td>male</td>\n",
              "      <td>NaN</td>\n",
              "      <td>0</td>\n",
              "      <td>0</td>\n",
              "      <td>244373</td>\n",
              "      <td>13.0000</td>\n",
              "      <td>NaN</td>\n",
              "      <td>S</td>\n",
              "    </tr>\n",
              "    <tr>\n",
              "      <th>18</th>\n",
              "      <td>19</td>\n",
              "      <td>0</td>\n",
              "      <td>3</td>\n",
              "      <td>Vander Planke, Mrs. Julius (Emelia Maria Vande...</td>\n",
              "      <td>female</td>\n",
              "      <td>31.0</td>\n",
              "      <td>1</td>\n",
              "      <td>0</td>\n",
              "      <td>345763</td>\n",
              "      <td>18.0000</td>\n",
              "      <td>NaN</td>\n",
              "      <td>S</td>\n",
              "    </tr>\n",
              "    <tr>\n",
              "      <th>19</th>\n",
              "      <td>20</td>\n",
              "      <td>1</td>\n",
              "      <td>3</td>\n",
              "      <td>Masselmani, Mrs. Fatima</td>\n",
              "      <td>female</td>\n",
              "      <td>NaN</td>\n",
              "      <td>0</td>\n",
              "      <td>0</td>\n",
              "      <td>2649</td>\n",
              "      <td>7.2250</td>\n",
              "      <td>NaN</td>\n",
              "      <td>C</td>\n",
              "    </tr>\n",
              "    <tr>\n",
              "      <th>20</th>\n",
              "      <td>21</td>\n",
              "      <td>0</td>\n",
              "      <td>2</td>\n",
              "      <td>Fynney, Mr. Joseph J</td>\n",
              "      <td>male</td>\n",
              "      <td>35.0</td>\n",
              "      <td>0</td>\n",
              "      <td>0</td>\n",
              "      <td>239865</td>\n",
              "      <td>26.0000</td>\n",
              "      <td>NaN</td>\n",
              "      <td>S</td>\n",
              "    </tr>\n",
              "    <tr>\n",
              "      <th>21</th>\n",
              "      <td>22</td>\n",
              "      <td>1</td>\n",
              "      <td>2</td>\n",
              "      <td>Beesley, Mr. Lawrence</td>\n",
              "      <td>male</td>\n",
              "      <td>34.0</td>\n",
              "      <td>0</td>\n",
              "      <td>0</td>\n",
              "      <td>248698</td>\n",
              "      <td>13.0000</td>\n",
              "      <td>D56</td>\n",
              "      <td>S</td>\n",
              "    </tr>\n",
              "    <tr>\n",
              "      <th>22</th>\n",
              "      <td>23</td>\n",
              "      <td>1</td>\n",
              "      <td>3</td>\n",
              "      <td>McGowan, Miss. Anna \"Annie\"</td>\n",
              "      <td>female</td>\n",
              "      <td>15.0</td>\n",
              "      <td>0</td>\n",
              "      <td>0</td>\n",
              "      <td>330923</td>\n",
              "      <td>8.0292</td>\n",
              "      <td>NaN</td>\n",
              "      <td>Q</td>\n",
              "    </tr>\n",
              "    <tr>\n",
              "      <th>23</th>\n",
              "      <td>24</td>\n",
              "      <td>1</td>\n",
              "      <td>1</td>\n",
              "      <td>Sloper, Mr. William Thompson</td>\n",
              "      <td>male</td>\n",
              "      <td>28.0</td>\n",
              "      <td>0</td>\n",
              "      <td>0</td>\n",
              "      <td>113788</td>\n",
              "      <td>35.5000</td>\n",
              "      <td>A6</td>\n",
              "      <td>S</td>\n",
              "    </tr>\n",
              "    <tr>\n",
              "      <th>24</th>\n",
              "      <td>25</td>\n",
              "      <td>0</td>\n",
              "      <td>3</td>\n",
              "      <td>Palsson, Miss. Torborg Danira</td>\n",
              "      <td>female</td>\n",
              "      <td>8.0</td>\n",
              "      <td>3</td>\n",
              "      <td>1</td>\n",
              "      <td>349909</td>\n",
              "      <td>21.0750</td>\n",
              "      <td>NaN</td>\n",
              "      <td>S</td>\n",
              "    </tr>\n",
              "    <tr>\n",
              "      <th>25</th>\n",
              "      <td>26</td>\n",
              "      <td>1</td>\n",
              "      <td>3</td>\n",
              "      <td>Asplund, Mrs. Carl Oscar (Selma Augusta Emilia...</td>\n",
              "      <td>female</td>\n",
              "      <td>38.0</td>\n",
              "      <td>1</td>\n",
              "      <td>5</td>\n",
              "      <td>347077</td>\n",
              "      <td>31.3875</td>\n",
              "      <td>NaN</td>\n",
              "      <td>S</td>\n",
              "    </tr>\n",
              "    <tr>\n",
              "      <th>26</th>\n",
              "      <td>27</td>\n",
              "      <td>0</td>\n",
              "      <td>3</td>\n",
              "      <td>Emir, Mr. Farred Chehab</td>\n",
              "      <td>male</td>\n",
              "      <td>NaN</td>\n",
              "      <td>0</td>\n",
              "      <td>0</td>\n",
              "      <td>2631</td>\n",
              "      <td>7.2250</td>\n",
              "      <td>NaN</td>\n",
              "      <td>C</td>\n",
              "    </tr>\n",
              "    <tr>\n",
              "      <th>27</th>\n",
              "      <td>28</td>\n",
              "      <td>0</td>\n",
              "      <td>1</td>\n",
              "      <td>Fortune, Mr. Charles Alexander</td>\n",
              "      <td>male</td>\n",
              "      <td>19.0</td>\n",
              "      <td>3</td>\n",
              "      <td>2</td>\n",
              "      <td>19950</td>\n",
              "      <td>263.0000</td>\n",
              "      <td>C23 C25 C27</td>\n",
              "      <td>S</td>\n",
              "    </tr>\n",
              "    <tr>\n",
              "      <th>28</th>\n",
              "      <td>29</td>\n",
              "      <td>1</td>\n",
              "      <td>3</td>\n",
              "      <td>O'Dwyer, Miss. Ellen \"Nellie\"</td>\n",
              "      <td>female</td>\n",
              "      <td>NaN</td>\n",
              "      <td>0</td>\n",
              "      <td>0</td>\n",
              "      <td>330959</td>\n",
              "      <td>7.8792</td>\n",
              "      <td>NaN</td>\n",
              "      <td>Q</td>\n",
              "    </tr>\n",
              "    <tr>\n",
              "      <th>29</th>\n",
              "      <td>30</td>\n",
              "      <td>0</td>\n",
              "      <td>3</td>\n",
              "      <td>Todoroff, Mr. Lalio</td>\n",
              "      <td>male</td>\n",
              "      <td>NaN</td>\n",
              "      <td>0</td>\n",
              "      <td>0</td>\n",
              "      <td>349216</td>\n",
              "      <td>7.8958</td>\n",
              "      <td>NaN</td>\n",
              "      <td>S</td>\n",
              "    </tr>\n",
              "    <tr>\n",
              "      <th>...</th>\n",
              "      <td>...</td>\n",
              "      <td>...</td>\n",
              "      <td>...</td>\n",
              "      <td>...</td>\n",
              "      <td>...</td>\n",
              "      <td>...</td>\n",
              "      <td>...</td>\n",
              "      <td>...</td>\n",
              "      <td>...</td>\n",
              "      <td>...</td>\n",
              "      <td>...</td>\n",
              "      <td>...</td>\n",
              "    </tr>\n",
              "    <tr>\n",
              "      <th>126</th>\n",
              "      <td>127</td>\n",
              "      <td>0</td>\n",
              "      <td>3</td>\n",
              "      <td>McMahon, Mr. Martin</td>\n",
              "      <td>male</td>\n",
              "      <td>NaN</td>\n",
              "      <td>0</td>\n",
              "      <td>0</td>\n",
              "      <td>370372</td>\n",
              "      <td>7.7500</td>\n",
              "      <td>NaN</td>\n",
              "      <td>Q</td>\n",
              "    </tr>\n",
              "    <tr>\n",
              "      <th>127</th>\n",
              "      <td>128</td>\n",
              "      <td>1</td>\n",
              "      <td>3</td>\n",
              "      <td>Madsen, Mr. Fridtjof Arne</td>\n",
              "      <td>male</td>\n",
              "      <td>24.0</td>\n",
              "      <td>0</td>\n",
              "      <td>0</td>\n",
              "      <td>C 17369</td>\n",
              "      <td>7.1417</td>\n",
              "      <td>NaN</td>\n",
              "      <td>S</td>\n",
              "    </tr>\n",
              "    <tr>\n",
              "      <th>128</th>\n",
              "      <td>129</td>\n",
              "      <td>1</td>\n",
              "      <td>3</td>\n",
              "      <td>Peter, Miss. Anna</td>\n",
              "      <td>female</td>\n",
              "      <td>NaN</td>\n",
              "      <td>1</td>\n",
              "      <td>1</td>\n",
              "      <td>2668</td>\n",
              "      <td>22.3583</td>\n",
              "      <td>F E69</td>\n",
              "      <td>C</td>\n",
              "    </tr>\n",
              "    <tr>\n",
              "      <th>129</th>\n",
              "      <td>130</td>\n",
              "      <td>0</td>\n",
              "      <td>3</td>\n",
              "      <td>Ekstrom, Mr. Johan</td>\n",
              "      <td>male</td>\n",
              "      <td>45.0</td>\n",
              "      <td>0</td>\n",
              "      <td>0</td>\n",
              "      <td>347061</td>\n",
              "      <td>6.9750</td>\n",
              "      <td>NaN</td>\n",
              "      <td>S</td>\n",
              "    </tr>\n",
              "    <tr>\n",
              "      <th>130</th>\n",
              "      <td>131</td>\n",
              "      <td>0</td>\n",
              "      <td>3</td>\n",
              "      <td>Drazenoic, Mr. Jozef</td>\n",
              "      <td>male</td>\n",
              "      <td>33.0</td>\n",
              "      <td>0</td>\n",
              "      <td>0</td>\n",
              "      <td>349241</td>\n",
              "      <td>7.8958</td>\n",
              "      <td>NaN</td>\n",
              "      <td>C</td>\n",
              "    </tr>\n",
              "    <tr>\n",
              "      <th>131</th>\n",
              "      <td>132</td>\n",
              "      <td>0</td>\n",
              "      <td>3</td>\n",
              "      <td>Coelho, Mr. Domingos Fernandeo</td>\n",
              "      <td>male</td>\n",
              "      <td>20.0</td>\n",
              "      <td>0</td>\n",
              "      <td>0</td>\n",
              "      <td>SOTON/O.Q. 3101307</td>\n",
              "      <td>7.0500</td>\n",
              "      <td>NaN</td>\n",
              "      <td>S</td>\n",
              "    </tr>\n",
              "    <tr>\n",
              "      <th>132</th>\n",
              "      <td>133</td>\n",
              "      <td>0</td>\n",
              "      <td>3</td>\n",
              "      <td>Robins, Mrs. Alexander A (Grace Charity Laury)</td>\n",
              "      <td>female</td>\n",
              "      <td>47.0</td>\n",
              "      <td>1</td>\n",
              "      <td>0</td>\n",
              "      <td>A/5. 3337</td>\n",
              "      <td>14.5000</td>\n",
              "      <td>NaN</td>\n",
              "      <td>S</td>\n",
              "    </tr>\n",
              "    <tr>\n",
              "      <th>133</th>\n",
              "      <td>134</td>\n",
              "      <td>1</td>\n",
              "      <td>2</td>\n",
              "      <td>Weisz, Mrs. Leopold (Mathilde Francoise Pede)</td>\n",
              "      <td>female</td>\n",
              "      <td>29.0</td>\n",
              "      <td>1</td>\n",
              "      <td>0</td>\n",
              "      <td>228414</td>\n",
              "      <td>26.0000</td>\n",
              "      <td>NaN</td>\n",
              "      <td>S</td>\n",
              "    </tr>\n",
              "    <tr>\n",
              "      <th>134</th>\n",
              "      <td>135</td>\n",
              "      <td>0</td>\n",
              "      <td>2</td>\n",
              "      <td>Sobey, Mr. Samuel James Hayden</td>\n",
              "      <td>male</td>\n",
              "      <td>25.0</td>\n",
              "      <td>0</td>\n",
              "      <td>0</td>\n",
              "      <td>C.A. 29178</td>\n",
              "      <td>13.0000</td>\n",
              "      <td>NaN</td>\n",
              "      <td>S</td>\n",
              "    </tr>\n",
              "    <tr>\n",
              "      <th>135</th>\n",
              "      <td>136</td>\n",
              "      <td>0</td>\n",
              "      <td>2</td>\n",
              "      <td>Richard, Mr. Emile</td>\n",
              "      <td>male</td>\n",
              "      <td>23.0</td>\n",
              "      <td>0</td>\n",
              "      <td>0</td>\n",
              "      <td>SC/PARIS 2133</td>\n",
              "      <td>15.0458</td>\n",
              "      <td>NaN</td>\n",
              "      <td>C</td>\n",
              "    </tr>\n",
              "    <tr>\n",
              "      <th>136</th>\n",
              "      <td>137</td>\n",
              "      <td>1</td>\n",
              "      <td>1</td>\n",
              "      <td>Newsom, Miss. Helen Monypeny</td>\n",
              "      <td>female</td>\n",
              "      <td>19.0</td>\n",
              "      <td>0</td>\n",
              "      <td>2</td>\n",
              "      <td>11752</td>\n",
              "      <td>26.2833</td>\n",
              "      <td>D47</td>\n",
              "      <td>S</td>\n",
              "    </tr>\n",
              "    <tr>\n",
              "      <th>137</th>\n",
              "      <td>138</td>\n",
              "      <td>0</td>\n",
              "      <td>1</td>\n",
              "      <td>Futrelle, Mr. Jacques Heath</td>\n",
              "      <td>male</td>\n",
              "      <td>37.0</td>\n",
              "      <td>1</td>\n",
              "      <td>0</td>\n",
              "      <td>113803</td>\n",
              "      <td>53.1000</td>\n",
              "      <td>C123</td>\n",
              "      <td>S</td>\n",
              "    </tr>\n",
              "    <tr>\n",
              "      <th>138</th>\n",
              "      <td>139</td>\n",
              "      <td>0</td>\n",
              "      <td>3</td>\n",
              "      <td>Osen, Mr. Olaf Elon</td>\n",
              "      <td>male</td>\n",
              "      <td>16.0</td>\n",
              "      <td>0</td>\n",
              "      <td>0</td>\n",
              "      <td>7534</td>\n",
              "      <td>9.2167</td>\n",
              "      <td>NaN</td>\n",
              "      <td>S</td>\n",
              "    </tr>\n",
              "    <tr>\n",
              "      <th>139</th>\n",
              "      <td>140</td>\n",
              "      <td>0</td>\n",
              "      <td>1</td>\n",
              "      <td>Giglio, Mr. Victor</td>\n",
              "      <td>male</td>\n",
              "      <td>24.0</td>\n",
              "      <td>0</td>\n",
              "      <td>0</td>\n",
              "      <td>PC 17593</td>\n",
              "      <td>79.2000</td>\n",
              "      <td>B86</td>\n",
              "      <td>C</td>\n",
              "    </tr>\n",
              "    <tr>\n",
              "      <th>140</th>\n",
              "      <td>141</td>\n",
              "      <td>0</td>\n",
              "      <td>3</td>\n",
              "      <td>Boulos, Mrs. Joseph (Sultana)</td>\n",
              "      <td>female</td>\n",
              "      <td>NaN</td>\n",
              "      <td>0</td>\n",
              "      <td>2</td>\n",
              "      <td>2678</td>\n",
              "      <td>15.2458</td>\n",
              "      <td>NaN</td>\n",
              "      <td>C</td>\n",
              "    </tr>\n",
              "    <tr>\n",
              "      <th>141</th>\n",
              "      <td>142</td>\n",
              "      <td>1</td>\n",
              "      <td>3</td>\n",
              "      <td>Nysten, Miss. Anna Sofia</td>\n",
              "      <td>female</td>\n",
              "      <td>22.0</td>\n",
              "      <td>0</td>\n",
              "      <td>0</td>\n",
              "      <td>347081</td>\n",
              "      <td>7.7500</td>\n",
              "      <td>NaN</td>\n",
              "      <td>S</td>\n",
              "    </tr>\n",
              "    <tr>\n",
              "      <th>142</th>\n",
              "      <td>143</td>\n",
              "      <td>1</td>\n",
              "      <td>3</td>\n",
              "      <td>Hakkarainen, Mrs. Pekka Pietari (Elin Matilda ...</td>\n",
              "      <td>female</td>\n",
              "      <td>24.0</td>\n",
              "      <td>1</td>\n",
              "      <td>0</td>\n",
              "      <td>STON/O2. 3101279</td>\n",
              "      <td>15.8500</td>\n",
              "      <td>NaN</td>\n",
              "      <td>S</td>\n",
              "    </tr>\n",
              "    <tr>\n",
              "      <th>143</th>\n",
              "      <td>144</td>\n",
              "      <td>0</td>\n",
              "      <td>3</td>\n",
              "      <td>Burke, Mr. Jeremiah</td>\n",
              "      <td>male</td>\n",
              "      <td>19.0</td>\n",
              "      <td>0</td>\n",
              "      <td>0</td>\n",
              "      <td>365222</td>\n",
              "      <td>6.7500</td>\n",
              "      <td>NaN</td>\n",
              "      <td>Q</td>\n",
              "    </tr>\n",
              "    <tr>\n",
              "      <th>144</th>\n",
              "      <td>145</td>\n",
              "      <td>0</td>\n",
              "      <td>2</td>\n",
              "      <td>Andrew, Mr. Edgardo Samuel</td>\n",
              "      <td>male</td>\n",
              "      <td>18.0</td>\n",
              "      <td>0</td>\n",
              "      <td>0</td>\n",
              "      <td>231945</td>\n",
              "      <td>11.5000</td>\n",
              "      <td>NaN</td>\n",
              "      <td>S</td>\n",
              "    </tr>\n",
              "    <tr>\n",
              "      <th>145</th>\n",
              "      <td>146</td>\n",
              "      <td>0</td>\n",
              "      <td>2</td>\n",
              "      <td>Nicholls, Mr. Joseph Charles</td>\n",
              "      <td>male</td>\n",
              "      <td>19.0</td>\n",
              "      <td>1</td>\n",
              "      <td>1</td>\n",
              "      <td>C.A. 33112</td>\n",
              "      <td>36.7500</td>\n",
              "      <td>NaN</td>\n",
              "      <td>S</td>\n",
              "    </tr>\n",
              "    <tr>\n",
              "      <th>146</th>\n",
              "      <td>147</td>\n",
              "      <td>1</td>\n",
              "      <td>3</td>\n",
              "      <td>Andersson, Mr. August Edvard (\"Wennerstrom\")</td>\n",
              "      <td>male</td>\n",
              "      <td>27.0</td>\n",
              "      <td>0</td>\n",
              "      <td>0</td>\n",
              "      <td>350043</td>\n",
              "      <td>7.7958</td>\n",
              "      <td>NaN</td>\n",
              "      <td>S</td>\n",
              "    </tr>\n",
              "    <tr>\n",
              "      <th>147</th>\n",
              "      <td>148</td>\n",
              "      <td>0</td>\n",
              "      <td>3</td>\n",
              "      <td>Ford, Miss. Robina Maggie \"Ruby\"</td>\n",
              "      <td>female</td>\n",
              "      <td>9.0</td>\n",
              "      <td>2</td>\n",
              "      <td>2</td>\n",
              "      <td>W./C. 6608</td>\n",
              "      <td>34.3750</td>\n",
              "      <td>NaN</td>\n",
              "      <td>S</td>\n",
              "    </tr>\n",
              "    <tr>\n",
              "      <th>148</th>\n",
              "      <td>149</td>\n",
              "      <td>0</td>\n",
              "      <td>2</td>\n",
              "      <td>Navratil, Mr. Michel (\"Louis M Hoffman\")</td>\n",
              "      <td>male</td>\n",
              "      <td>36.5</td>\n",
              "      <td>0</td>\n",
              "      <td>2</td>\n",
              "      <td>230080</td>\n",
              "      <td>26.0000</td>\n",
              "      <td>F2</td>\n",
              "      <td>S</td>\n",
              "    </tr>\n",
              "    <tr>\n",
              "      <th>149</th>\n",
              "      <td>150</td>\n",
              "      <td>0</td>\n",
              "      <td>2</td>\n",
              "      <td>Byles, Rev. Thomas Roussel Davids</td>\n",
              "      <td>male</td>\n",
              "      <td>42.0</td>\n",
              "      <td>0</td>\n",
              "      <td>0</td>\n",
              "      <td>244310</td>\n",
              "      <td>13.0000</td>\n",
              "      <td>NaN</td>\n",
              "      <td>S</td>\n",
              "    </tr>\n",
              "    <tr>\n",
              "      <th>150</th>\n",
              "      <td>151</td>\n",
              "      <td>0</td>\n",
              "      <td>2</td>\n",
              "      <td>Bateman, Rev. Robert James</td>\n",
              "      <td>male</td>\n",
              "      <td>51.0</td>\n",
              "      <td>0</td>\n",
              "      <td>0</td>\n",
              "      <td>S.O.P. 1166</td>\n",
              "      <td>12.5250</td>\n",
              "      <td>NaN</td>\n",
              "      <td>S</td>\n",
              "    </tr>\n",
              "    <tr>\n",
              "      <th>151</th>\n",
              "      <td>152</td>\n",
              "      <td>1</td>\n",
              "      <td>1</td>\n",
              "      <td>Pears, Mrs. Thomas (Edith Wearne)</td>\n",
              "      <td>female</td>\n",
              "      <td>22.0</td>\n",
              "      <td>1</td>\n",
              "      <td>0</td>\n",
              "      <td>113776</td>\n",
              "      <td>66.6000</td>\n",
              "      <td>C2</td>\n",
              "      <td>S</td>\n",
              "    </tr>\n",
              "    <tr>\n",
              "      <th>152</th>\n",
              "      <td>153</td>\n",
              "      <td>0</td>\n",
              "      <td>3</td>\n",
              "      <td>Meo, Mr. Alfonzo</td>\n",
              "      <td>male</td>\n",
              "      <td>55.5</td>\n",
              "      <td>0</td>\n",
              "      <td>0</td>\n",
              "      <td>A.5. 11206</td>\n",
              "      <td>8.0500</td>\n",
              "      <td>NaN</td>\n",
              "      <td>S</td>\n",
              "    </tr>\n",
              "    <tr>\n",
              "      <th>153</th>\n",
              "      <td>154</td>\n",
              "      <td>0</td>\n",
              "      <td>3</td>\n",
              "      <td>van Billiard, Mr. Austin Blyler</td>\n",
              "      <td>male</td>\n",
              "      <td>40.5</td>\n",
              "      <td>0</td>\n",
              "      <td>2</td>\n",
              "      <td>A/5. 851</td>\n",
              "      <td>14.5000</td>\n",
              "      <td>NaN</td>\n",
              "      <td>S</td>\n",
              "    </tr>\n",
              "    <tr>\n",
              "      <th>154</th>\n",
              "      <td>155</td>\n",
              "      <td>0</td>\n",
              "      <td>3</td>\n",
              "      <td>Olsen, Mr. Ole Martin</td>\n",
              "      <td>male</td>\n",
              "      <td>NaN</td>\n",
              "      <td>0</td>\n",
              "      <td>0</td>\n",
              "      <td>Fa 265302</td>\n",
              "      <td>7.3125</td>\n",
              "      <td>NaN</td>\n",
              "      <td>S</td>\n",
              "    </tr>\n",
              "    <tr>\n",
              "      <th>155</th>\n",
              "      <td>156</td>\n",
              "      <td>0</td>\n",
              "      <td>1</td>\n",
              "      <td>Williams, Mr. Charles Duane</td>\n",
              "      <td>male</td>\n",
              "      <td>51.0</td>\n",
              "      <td>0</td>\n",
              "      <td>1</td>\n",
              "      <td>PC 17597</td>\n",
              "      <td>61.3792</td>\n",
              "      <td>NaN</td>\n",
              "      <td>C</td>\n",
              "    </tr>\n",
              "  </tbody>\n",
              "</table>\n",
              "<p>156 rows × 12 columns</p>\n",
              "</div>"
            ],
            "text/plain": [
              "     PassengerId  Survived  Pclass  ...      Fare        Cabin  Embarked\n",
              "0              1         0       3  ...    7.2500          NaN         S\n",
              "1              2         1       1  ...   71.2833          C85         C\n",
              "2              3         1       3  ...    7.9250          NaN         S\n",
              "3              4         1       1  ...   53.1000         C123         S\n",
              "4              5         0       3  ...    8.0500          NaN         S\n",
              "5              6         0       3  ...    8.4583          NaN         Q\n",
              "6              7         0       1  ...   51.8625          E46         S\n",
              "7              8         0       3  ...   21.0750          NaN         S\n",
              "8              9         1       3  ...   11.1333          NaN         S\n",
              "9             10         1       2  ...   30.0708          NaN         C\n",
              "10            11         1       3  ...   16.7000           G6         S\n",
              "11            12         1       1  ...   26.5500         C103         S\n",
              "12            13         0       3  ...    8.0500          NaN         S\n",
              "13            14         0       3  ...   31.2750          NaN         S\n",
              "14            15         0       3  ...    7.8542          NaN         S\n",
              "15            16         1       2  ...   16.0000          NaN         S\n",
              "16            17         0       3  ...   29.1250          NaN         Q\n",
              "17            18         1       2  ...   13.0000          NaN         S\n",
              "18            19         0       3  ...   18.0000          NaN         S\n",
              "19            20         1       3  ...    7.2250          NaN         C\n",
              "20            21         0       2  ...   26.0000          NaN         S\n",
              "21            22         1       2  ...   13.0000          D56         S\n",
              "22            23         1       3  ...    8.0292          NaN         Q\n",
              "23            24         1       1  ...   35.5000           A6         S\n",
              "24            25         0       3  ...   21.0750          NaN         S\n",
              "25            26         1       3  ...   31.3875          NaN         S\n",
              "26            27         0       3  ...    7.2250          NaN         C\n",
              "27            28         0       1  ...  263.0000  C23 C25 C27         S\n",
              "28            29         1       3  ...    7.8792          NaN         Q\n",
              "29            30         0       3  ...    7.8958          NaN         S\n",
              "..           ...       ...     ...  ...       ...          ...       ...\n",
              "126          127         0       3  ...    7.7500          NaN         Q\n",
              "127          128         1       3  ...    7.1417          NaN         S\n",
              "128          129         1       3  ...   22.3583        F E69         C\n",
              "129          130         0       3  ...    6.9750          NaN         S\n",
              "130          131         0       3  ...    7.8958          NaN         C\n",
              "131          132         0       3  ...    7.0500          NaN         S\n",
              "132          133         0       3  ...   14.5000          NaN         S\n",
              "133          134         1       2  ...   26.0000          NaN         S\n",
              "134          135         0       2  ...   13.0000          NaN         S\n",
              "135          136         0       2  ...   15.0458          NaN         C\n",
              "136          137         1       1  ...   26.2833          D47         S\n",
              "137          138         0       1  ...   53.1000         C123         S\n",
              "138          139         0       3  ...    9.2167          NaN         S\n",
              "139          140         0       1  ...   79.2000          B86         C\n",
              "140          141         0       3  ...   15.2458          NaN         C\n",
              "141          142         1       3  ...    7.7500          NaN         S\n",
              "142          143         1       3  ...   15.8500          NaN         S\n",
              "143          144         0       3  ...    6.7500          NaN         Q\n",
              "144          145         0       2  ...   11.5000          NaN         S\n",
              "145          146         0       2  ...   36.7500          NaN         S\n",
              "146          147         1       3  ...    7.7958          NaN         S\n",
              "147          148         0       3  ...   34.3750          NaN         S\n",
              "148          149         0       2  ...   26.0000           F2         S\n",
              "149          150         0       2  ...   13.0000          NaN         S\n",
              "150          151         0       2  ...   12.5250          NaN         S\n",
              "151          152         1       1  ...   66.6000           C2         S\n",
              "152          153         0       3  ...    8.0500          NaN         S\n",
              "153          154         0       3  ...   14.5000          NaN         S\n",
              "154          155         0       3  ...    7.3125          NaN         S\n",
              "155          156         0       1  ...   61.3792          NaN         C\n",
              "\n",
              "[156 rows x 12 columns]"
            ]
          },
          "metadata": {
            "tags": []
          },
          "execution_count": 106
        }
      ]
    },
    {
      "cell_type": "markdown",
      "metadata": {
        "id": "aYbOOIpKWPnK",
        "colab_type": "text"
      },
      "source": [
        "Как видно, данные представляют из себя таблицу, где строка — объект, столбец — признак. Для экономии места можно выводить заданное количество первых строк объекта при помощи метода head():"
      ]
    },
    {
      "cell_type": "code",
      "metadata": {
        "id": "mBOzi8sxWPnK",
        "colab_type": "code",
        "outputId": "e89e347b-560c-4eff-8c48-06bc081d95c3",
        "colab": {
          "base_uri": "https://localhost:8080/",
          "height": 142
        }
      },
      "source": [
        "pass_data.head(3)"
      ],
      "execution_count": 0,
      "outputs": [
        {
          "output_type": "execute_result",
          "data": {
            "text/html": [
              "<div>\n",
              "<style scoped>\n",
              "    .dataframe tbody tr th:only-of-type {\n",
              "        vertical-align: middle;\n",
              "    }\n",
              "\n",
              "    .dataframe tbody tr th {\n",
              "        vertical-align: top;\n",
              "    }\n",
              "\n",
              "    .dataframe thead th {\n",
              "        text-align: right;\n",
              "    }\n",
              "</style>\n",
              "<table border=\"1\" class=\"dataframe\">\n",
              "  <thead>\n",
              "    <tr style=\"text-align: right;\">\n",
              "      <th></th>\n",
              "      <th>PassengerId</th>\n",
              "      <th>Survived</th>\n",
              "      <th>Pclass</th>\n",
              "      <th>Name</th>\n",
              "      <th>Sex</th>\n",
              "      <th>Age</th>\n",
              "      <th>SibSp</th>\n",
              "      <th>Parch</th>\n",
              "      <th>Ticket</th>\n",
              "      <th>Fare</th>\n",
              "      <th>Cabin</th>\n",
              "      <th>Embarked</th>\n",
              "    </tr>\n",
              "  </thead>\n",
              "  <tbody>\n",
              "    <tr>\n",
              "      <th>0</th>\n",
              "      <td>1</td>\n",
              "      <td>0</td>\n",
              "      <td>3</td>\n",
              "      <td>Braund, Mr. Owen Harris</td>\n",
              "      <td>male</td>\n",
              "      <td>22.0</td>\n",
              "      <td>1</td>\n",
              "      <td>0</td>\n",
              "      <td>A/5 21171</td>\n",
              "      <td>7.2500</td>\n",
              "      <td>NaN</td>\n",
              "      <td>S</td>\n",
              "    </tr>\n",
              "    <tr>\n",
              "      <th>1</th>\n",
              "      <td>2</td>\n",
              "      <td>1</td>\n",
              "      <td>1</td>\n",
              "      <td>Cumings, Mrs. John Bradley (Florence Briggs Th...</td>\n",
              "      <td>female</td>\n",
              "      <td>38.0</td>\n",
              "      <td>1</td>\n",
              "      <td>0</td>\n",
              "      <td>PC 17599</td>\n",
              "      <td>71.2833</td>\n",
              "      <td>C85</td>\n",
              "      <td>C</td>\n",
              "    </tr>\n",
              "    <tr>\n",
              "      <th>2</th>\n",
              "      <td>3</td>\n",
              "      <td>1</td>\n",
              "      <td>3</td>\n",
              "      <td>Heikkinen, Miss. Laina</td>\n",
              "      <td>female</td>\n",
              "      <td>26.0</td>\n",
              "      <td>0</td>\n",
              "      <td>0</td>\n",
              "      <td>STON/O2. 3101282</td>\n",
              "      <td>7.9250</td>\n",
              "      <td>NaN</td>\n",
              "      <td>S</td>\n",
              "    </tr>\n",
              "  </tbody>\n",
              "</table>\n",
              "</div>"
            ],
            "text/plain": [
              "   PassengerId  Survived  Pclass  ...     Fare Cabin  Embarked\n",
              "0            1         0       3  ...   7.2500   NaN         S\n",
              "1            2         1       1  ...  71.2833   C85         C\n",
              "2            3         1       3  ...   7.9250   NaN         S\n",
              "\n",
              "[3 rows x 12 columns]"
            ]
          },
          "metadata": {
            "tags": []
          },
          "execution_count": 107
        }
      ]
    },
    {
      "cell_type": "markdown",
      "metadata": {
        "id": "_b6u_LJwWPnL",
        "colab_type": "text"
      },
      "source": [
        "Посмотрим на признаки:"
      ]
    },
    {
      "cell_type": "code",
      "metadata": {
        "id": "UdGilhy7WPnM",
        "colab_type": "code",
        "outputId": "2847ef60-d84b-4442-a19b-a8309bf04cb7",
        "colab": {
          "base_uri": "https://localhost:8080/",
          "height": 68
        }
      },
      "source": [
        "pass_data.columns"
      ],
      "execution_count": 0,
      "outputs": [
        {
          "output_type": "execute_result",
          "data": {
            "text/plain": [
              "Index([u'PassengerId', u'Survived', u'Pclass', u'Name', u'Sex', u'Age',\n",
              "       u'SibSp', u'Parch', u'Ticket', u'Fare', u'Cabin', u'Embarked'],\n",
              "      dtype='object')"
            ]
          },
          "metadata": {
            "tags": []
          },
          "execution_count": 108
        }
      ]
    },
    {
      "cell_type": "markdown",
      "metadata": {
        "id": "4tkLmonsWPnO",
        "colab_type": "text"
      },
      "source": [
        "По данным можно индексироваться при помощи номеров строк/столбцов или названий признаков:"
      ]
    },
    {
      "cell_type": "code",
      "metadata": {
        "id": "-FGkdjLnWPnO",
        "colab_type": "code",
        "outputId": "417048ff-2afd-42f6-91e6-b2127c82cc41",
        "colab": {
          "base_uri": "https://localhost:8080/",
          "height": 142
        }
      },
      "source": [
        "pass_data[2:5]"
      ],
      "execution_count": 0,
      "outputs": [
        {
          "output_type": "execute_result",
          "data": {
            "text/html": [
              "<div>\n",
              "<style scoped>\n",
              "    .dataframe tbody tr th:only-of-type {\n",
              "        vertical-align: middle;\n",
              "    }\n",
              "\n",
              "    .dataframe tbody tr th {\n",
              "        vertical-align: top;\n",
              "    }\n",
              "\n",
              "    .dataframe thead th {\n",
              "        text-align: right;\n",
              "    }\n",
              "</style>\n",
              "<table border=\"1\" class=\"dataframe\">\n",
              "  <thead>\n",
              "    <tr style=\"text-align: right;\">\n",
              "      <th></th>\n",
              "      <th>PassengerId</th>\n",
              "      <th>Survived</th>\n",
              "      <th>Pclass</th>\n",
              "      <th>Name</th>\n",
              "      <th>Sex</th>\n",
              "      <th>Age</th>\n",
              "      <th>SibSp</th>\n",
              "      <th>Parch</th>\n",
              "      <th>Ticket</th>\n",
              "      <th>Fare</th>\n",
              "      <th>Cabin</th>\n",
              "      <th>Embarked</th>\n",
              "    </tr>\n",
              "  </thead>\n",
              "  <tbody>\n",
              "    <tr>\n",
              "      <th>2</th>\n",
              "      <td>3</td>\n",
              "      <td>1</td>\n",
              "      <td>3</td>\n",
              "      <td>Heikkinen, Miss. Laina</td>\n",
              "      <td>female</td>\n",
              "      <td>26.0</td>\n",
              "      <td>0</td>\n",
              "      <td>0</td>\n",
              "      <td>STON/O2. 3101282</td>\n",
              "      <td>7.925</td>\n",
              "      <td>NaN</td>\n",
              "      <td>S</td>\n",
              "    </tr>\n",
              "    <tr>\n",
              "      <th>3</th>\n",
              "      <td>4</td>\n",
              "      <td>1</td>\n",
              "      <td>1</td>\n",
              "      <td>Futrelle, Mrs. Jacques Heath (Lily May Peel)</td>\n",
              "      <td>female</td>\n",
              "      <td>35.0</td>\n",
              "      <td>1</td>\n",
              "      <td>0</td>\n",
              "      <td>113803</td>\n",
              "      <td>53.100</td>\n",
              "      <td>C123</td>\n",
              "      <td>S</td>\n",
              "    </tr>\n",
              "    <tr>\n",
              "      <th>4</th>\n",
              "      <td>5</td>\n",
              "      <td>0</td>\n",
              "      <td>3</td>\n",
              "      <td>Allen, Mr. William Henry</td>\n",
              "      <td>male</td>\n",
              "      <td>35.0</td>\n",
              "      <td>0</td>\n",
              "      <td>0</td>\n",
              "      <td>373450</td>\n",
              "      <td>8.050</td>\n",
              "      <td>NaN</td>\n",
              "      <td>S</td>\n",
              "    </tr>\n",
              "  </tbody>\n",
              "</table>\n",
              "</div>"
            ],
            "text/plain": [
              "   PassengerId  Survived  Pclass  ...    Fare Cabin  Embarked\n",
              "2            3         1       3  ...   7.925   NaN         S\n",
              "3            4         1       1  ...  53.100  C123         S\n",
              "4            5         0       3  ...   8.050   NaN         S\n",
              "\n",
              "[3 rows x 12 columns]"
            ]
          },
          "metadata": {
            "tags": []
          },
          "execution_count": 109
        }
      ]
    },
    {
      "cell_type": "code",
      "metadata": {
        "id": "lkw2T9GGWPnR",
        "colab_type": "code",
        "outputId": "af6dfb25-a00d-4d64-84fb-6ce8010070c4",
        "colab": {
          "base_uri": "https://localhost:8080/",
          "height": 173
        }
      },
      "source": [
        "pass_data.iloc[1:5, 1:3]"
      ],
      "execution_count": 0,
      "outputs": [
        {
          "output_type": "execute_result",
          "data": {
            "text/html": [
              "<div>\n",
              "<style scoped>\n",
              "    .dataframe tbody tr th:only-of-type {\n",
              "        vertical-align: middle;\n",
              "    }\n",
              "\n",
              "    .dataframe tbody tr th {\n",
              "        vertical-align: top;\n",
              "    }\n",
              "\n",
              "    .dataframe thead th {\n",
              "        text-align: right;\n",
              "    }\n",
              "</style>\n",
              "<table border=\"1\" class=\"dataframe\">\n",
              "  <thead>\n",
              "    <tr style=\"text-align: right;\">\n",
              "      <th></th>\n",
              "      <th>Survived</th>\n",
              "      <th>Pclass</th>\n",
              "    </tr>\n",
              "  </thead>\n",
              "  <tbody>\n",
              "    <tr>\n",
              "      <th>1</th>\n",
              "      <td>1</td>\n",
              "      <td>1</td>\n",
              "    </tr>\n",
              "    <tr>\n",
              "      <th>2</th>\n",
              "      <td>1</td>\n",
              "      <td>3</td>\n",
              "    </tr>\n",
              "    <tr>\n",
              "      <th>3</th>\n",
              "      <td>1</td>\n",
              "      <td>1</td>\n",
              "    </tr>\n",
              "    <tr>\n",
              "      <th>4</th>\n",
              "      <td>0</td>\n",
              "      <td>3</td>\n",
              "    </tr>\n",
              "  </tbody>\n",
              "</table>\n",
              "</div>"
            ],
            "text/plain": [
              "   Survived  Pclass\n",
              "1         1       1\n",
              "2         1       3\n",
              "3         1       1\n",
              "4         0       3"
            ]
          },
          "metadata": {
            "tags": []
          },
          "execution_count": 110
        }
      ]
    },
    {
      "cell_type": "code",
      "metadata": {
        "scrolled": true,
        "id": "DY-4YMa9WPnT",
        "colab_type": "code",
        "outputId": "e2a96b8c-f616-49a0-8a99-a5a9f9cc0858",
        "colab": {
          "base_uri": "https://localhost:8080/",
          "height": 119
        }
      },
      "source": [
        "pass_data['Name'].head()"
      ],
      "execution_count": 0,
      "outputs": [
        {
          "output_type": "execute_result",
          "data": {
            "text/plain": [
              "0                              Braund, Mr. Owen Harris\n",
              "1    Cumings, Mrs. John Bradley (Florence Briggs Th...\n",
              "2                               Heikkinen, Miss. Laina\n",
              "3         Futrelle, Mrs. Jacques Heath (Lily May Peel)\n",
              "4                             Allen, Mr. William Henry\n",
              "Name: Name, dtype: object"
            ]
          },
          "metadata": {
            "tags": []
          },
          "execution_count": 112
        }
      ]
    },
    {
      "cell_type": "code",
      "metadata": {
        "scrolled": true,
        "id": "lDMQY3mpWPnV",
        "colab_type": "code",
        "outputId": "074c177f-c246-41b6-eebd-e577f2c8fe68",
        "colab": {
          "base_uri": "https://localhost:8080/",
          "height": 204
        }
      },
      "source": [
        "pass_data[['Name', 'Sex', 'Parch']].head()"
      ],
      "execution_count": 0,
      "outputs": [
        {
          "output_type": "execute_result",
          "data": {
            "text/html": [
              "<div>\n",
              "<style scoped>\n",
              "    .dataframe tbody tr th:only-of-type {\n",
              "        vertical-align: middle;\n",
              "    }\n",
              "\n",
              "    .dataframe tbody tr th {\n",
              "        vertical-align: top;\n",
              "    }\n",
              "\n",
              "    .dataframe thead th {\n",
              "        text-align: right;\n",
              "    }\n",
              "</style>\n",
              "<table border=\"1\" class=\"dataframe\">\n",
              "  <thead>\n",
              "    <tr style=\"text-align: right;\">\n",
              "      <th></th>\n",
              "      <th>Name</th>\n",
              "      <th>Sex</th>\n",
              "      <th>Parch</th>\n",
              "    </tr>\n",
              "  </thead>\n",
              "  <tbody>\n",
              "    <tr>\n",
              "      <th>0</th>\n",
              "      <td>Braund, Mr. Owen Harris</td>\n",
              "      <td>male</td>\n",
              "      <td>0</td>\n",
              "    </tr>\n",
              "    <tr>\n",
              "      <th>1</th>\n",
              "      <td>Cumings, Mrs. John Bradley (Florence Briggs Th...</td>\n",
              "      <td>female</td>\n",
              "      <td>0</td>\n",
              "    </tr>\n",
              "    <tr>\n",
              "      <th>2</th>\n",
              "      <td>Heikkinen, Miss. Laina</td>\n",
              "      <td>female</td>\n",
              "      <td>0</td>\n",
              "    </tr>\n",
              "    <tr>\n",
              "      <th>3</th>\n",
              "      <td>Futrelle, Mrs. Jacques Heath (Lily May Peel)</td>\n",
              "      <td>female</td>\n",
              "      <td>0</td>\n",
              "    </tr>\n",
              "    <tr>\n",
              "      <th>4</th>\n",
              "      <td>Allen, Mr. William Henry</td>\n",
              "      <td>male</td>\n",
              "      <td>0</td>\n",
              "    </tr>\n",
              "  </tbody>\n",
              "</table>\n",
              "</div>"
            ],
            "text/plain": [
              "                                                Name     Sex  Parch\n",
              "0                            Braund, Mr. Owen Harris    male      0\n",
              "1  Cumings, Mrs. John Bradley (Florence Briggs Th...  female      0\n",
              "2                             Heikkinen, Miss. Laina  female      0\n",
              "3       Futrelle, Mrs. Jacques Heath (Lily May Peel)  female      0\n",
              "4                           Allen, Mr. William Henry    male      0"
            ]
          },
          "metadata": {
            "tags": []
          },
          "execution_count": 113
        }
      ]
    },
    {
      "cell_type": "markdown",
      "metadata": {
        "id": "3aiYvLBmWPnX",
        "colab_type": "text"
      },
      "source": [
        "Также действует и логическая индексация, которая позволяет рассматривать определенные группы объектов:"
      ]
    },
    {
      "cell_type": "code",
      "metadata": {
        "scrolled": true,
        "id": "tC3lnnPLWPnZ",
        "colab_type": "code",
        "outputId": "16e57150-4751-4de9-efa9-cbb690e74044",
        "colab": {
          "base_uri": "https://localhost:8080/",
          "height": 204
        }
      },
      "source": [
        "pass_data[pass_data['Sex'] == 'female'].head() # женщины на борту"
      ],
      "execution_count": 0,
      "outputs": [
        {
          "output_type": "execute_result",
          "data": {
            "text/html": [
              "<div>\n",
              "<style scoped>\n",
              "    .dataframe tbody tr th:only-of-type {\n",
              "        vertical-align: middle;\n",
              "    }\n",
              "\n",
              "    .dataframe tbody tr th {\n",
              "        vertical-align: top;\n",
              "    }\n",
              "\n",
              "    .dataframe thead th {\n",
              "        text-align: right;\n",
              "    }\n",
              "</style>\n",
              "<table border=\"1\" class=\"dataframe\">\n",
              "  <thead>\n",
              "    <tr style=\"text-align: right;\">\n",
              "      <th></th>\n",
              "      <th>PassengerId</th>\n",
              "      <th>Survived</th>\n",
              "      <th>Pclass</th>\n",
              "      <th>Name</th>\n",
              "      <th>Sex</th>\n",
              "      <th>Age</th>\n",
              "      <th>SibSp</th>\n",
              "      <th>Parch</th>\n",
              "      <th>Ticket</th>\n",
              "      <th>Fare</th>\n",
              "      <th>Cabin</th>\n",
              "      <th>Embarked</th>\n",
              "    </tr>\n",
              "  </thead>\n",
              "  <tbody>\n",
              "    <tr>\n",
              "      <th>1</th>\n",
              "      <td>2</td>\n",
              "      <td>1</td>\n",
              "      <td>1</td>\n",
              "      <td>Cumings, Mrs. John Bradley (Florence Briggs Th...</td>\n",
              "      <td>female</td>\n",
              "      <td>38.0</td>\n",
              "      <td>1</td>\n",
              "      <td>0</td>\n",
              "      <td>PC 17599</td>\n",
              "      <td>71.2833</td>\n",
              "      <td>C85</td>\n",
              "      <td>C</td>\n",
              "    </tr>\n",
              "    <tr>\n",
              "      <th>2</th>\n",
              "      <td>3</td>\n",
              "      <td>1</td>\n",
              "      <td>3</td>\n",
              "      <td>Heikkinen, Miss. Laina</td>\n",
              "      <td>female</td>\n",
              "      <td>26.0</td>\n",
              "      <td>0</td>\n",
              "      <td>0</td>\n",
              "      <td>STON/O2. 3101282</td>\n",
              "      <td>7.9250</td>\n",
              "      <td>NaN</td>\n",
              "      <td>S</td>\n",
              "    </tr>\n",
              "    <tr>\n",
              "      <th>3</th>\n",
              "      <td>4</td>\n",
              "      <td>1</td>\n",
              "      <td>1</td>\n",
              "      <td>Futrelle, Mrs. Jacques Heath (Lily May Peel)</td>\n",
              "      <td>female</td>\n",
              "      <td>35.0</td>\n",
              "      <td>1</td>\n",
              "      <td>0</td>\n",
              "      <td>113803</td>\n",
              "      <td>53.1000</td>\n",
              "      <td>C123</td>\n",
              "      <td>S</td>\n",
              "    </tr>\n",
              "    <tr>\n",
              "      <th>8</th>\n",
              "      <td>9</td>\n",
              "      <td>1</td>\n",
              "      <td>3</td>\n",
              "      <td>Johnson, Mrs. Oscar W (Elisabeth Vilhelmina Berg)</td>\n",
              "      <td>female</td>\n",
              "      <td>27.0</td>\n",
              "      <td>0</td>\n",
              "      <td>2</td>\n",
              "      <td>347742</td>\n",
              "      <td>11.1333</td>\n",
              "      <td>NaN</td>\n",
              "      <td>S</td>\n",
              "    </tr>\n",
              "    <tr>\n",
              "      <th>9</th>\n",
              "      <td>10</td>\n",
              "      <td>1</td>\n",
              "      <td>2</td>\n",
              "      <td>Nasser, Mrs. Nicholas (Adele Achem)</td>\n",
              "      <td>female</td>\n",
              "      <td>14.0</td>\n",
              "      <td>1</td>\n",
              "      <td>0</td>\n",
              "      <td>237736</td>\n",
              "      <td>30.0708</td>\n",
              "      <td>NaN</td>\n",
              "      <td>C</td>\n",
              "    </tr>\n",
              "  </tbody>\n",
              "</table>\n",
              "</div>"
            ],
            "text/plain": [
              "   PassengerId  Survived  Pclass  ...     Fare Cabin  Embarked\n",
              "1            2         1       1  ...  71.2833   C85         C\n",
              "2            3         1       3  ...   7.9250   NaN         S\n",
              "3            4         1       1  ...  53.1000  C123         S\n",
              "8            9         1       3  ...  11.1333   NaN         S\n",
              "9           10         1       2  ...  30.0708   NaN         C\n",
              "\n",
              "[5 rows x 12 columns]"
            ]
          },
          "metadata": {
            "tags": []
          },
          "execution_count": 115
        }
      ]
    },
    {
      "cell_type": "code",
      "metadata": {
        "id": "rEt5o-VNWPna",
        "colab_type": "code",
        "outputId": "cc61890d-938b-4a50-89c4-283a47a687dc",
        "colab": {
          "base_uri": "https://localhost:8080/",
          "height": 204
        }
      },
      "source": [
        "# женщины старше 60 и мужчины на борту\n",
        "pass_data[(pass_data['Sex'] == 'female') & (pass_data['Age'] >= 60) | (pass_data['Sex'] == 'male')].head()"
      ],
      "execution_count": 0,
      "outputs": [
        {
          "output_type": "execute_result",
          "data": {
            "text/html": [
              "<div>\n",
              "<style scoped>\n",
              "    .dataframe tbody tr th:only-of-type {\n",
              "        vertical-align: middle;\n",
              "    }\n",
              "\n",
              "    .dataframe tbody tr th {\n",
              "        vertical-align: top;\n",
              "    }\n",
              "\n",
              "    .dataframe thead th {\n",
              "        text-align: right;\n",
              "    }\n",
              "</style>\n",
              "<table border=\"1\" class=\"dataframe\">\n",
              "  <thead>\n",
              "    <tr style=\"text-align: right;\">\n",
              "      <th></th>\n",
              "      <th>PassengerId</th>\n",
              "      <th>Survived</th>\n",
              "      <th>Pclass</th>\n",
              "      <th>Name</th>\n",
              "      <th>Sex</th>\n",
              "      <th>Age</th>\n",
              "      <th>SibSp</th>\n",
              "      <th>Parch</th>\n",
              "      <th>Ticket</th>\n",
              "      <th>Fare</th>\n",
              "      <th>Cabin</th>\n",
              "      <th>Embarked</th>\n",
              "    </tr>\n",
              "  </thead>\n",
              "  <tbody>\n",
              "    <tr>\n",
              "      <th>0</th>\n",
              "      <td>1</td>\n",
              "      <td>0</td>\n",
              "      <td>3</td>\n",
              "      <td>Braund, Mr. Owen Harris</td>\n",
              "      <td>male</td>\n",
              "      <td>22.0</td>\n",
              "      <td>1</td>\n",
              "      <td>0</td>\n",
              "      <td>A/5 21171</td>\n",
              "      <td>7.2500</td>\n",
              "      <td>NaN</td>\n",
              "      <td>S</td>\n",
              "    </tr>\n",
              "    <tr>\n",
              "      <th>4</th>\n",
              "      <td>5</td>\n",
              "      <td>0</td>\n",
              "      <td>3</td>\n",
              "      <td>Allen, Mr. William Henry</td>\n",
              "      <td>male</td>\n",
              "      <td>35.0</td>\n",
              "      <td>0</td>\n",
              "      <td>0</td>\n",
              "      <td>373450</td>\n",
              "      <td>8.0500</td>\n",
              "      <td>NaN</td>\n",
              "      <td>S</td>\n",
              "    </tr>\n",
              "    <tr>\n",
              "      <th>5</th>\n",
              "      <td>6</td>\n",
              "      <td>0</td>\n",
              "      <td>3</td>\n",
              "      <td>Moran, Mr. James</td>\n",
              "      <td>male</td>\n",
              "      <td>NaN</td>\n",
              "      <td>0</td>\n",
              "      <td>0</td>\n",
              "      <td>330877</td>\n",
              "      <td>8.4583</td>\n",
              "      <td>NaN</td>\n",
              "      <td>Q</td>\n",
              "    </tr>\n",
              "    <tr>\n",
              "      <th>6</th>\n",
              "      <td>7</td>\n",
              "      <td>0</td>\n",
              "      <td>1</td>\n",
              "      <td>McCarthy, Mr. Timothy J</td>\n",
              "      <td>male</td>\n",
              "      <td>54.0</td>\n",
              "      <td>0</td>\n",
              "      <td>0</td>\n",
              "      <td>17463</td>\n",
              "      <td>51.8625</td>\n",
              "      <td>E46</td>\n",
              "      <td>S</td>\n",
              "    </tr>\n",
              "    <tr>\n",
              "      <th>7</th>\n",
              "      <td>8</td>\n",
              "      <td>0</td>\n",
              "      <td>3</td>\n",
              "      <td>Palsson, Master. Gosta Leonard</td>\n",
              "      <td>male</td>\n",
              "      <td>2.0</td>\n",
              "      <td>3</td>\n",
              "      <td>1</td>\n",
              "      <td>349909</td>\n",
              "      <td>21.0750</td>\n",
              "      <td>NaN</td>\n",
              "      <td>S</td>\n",
              "    </tr>\n",
              "  </tbody>\n",
              "</table>\n",
              "</div>"
            ],
            "text/plain": [
              "   PassengerId  Survived  Pclass  ...     Fare Cabin  Embarked\n",
              "0            1         0       3  ...   7.2500   NaN         S\n",
              "4            5         0       3  ...   8.0500   NaN         S\n",
              "5            6         0       3  ...   8.4583   NaN         Q\n",
              "6            7         0       1  ...  51.8625   E46         S\n",
              "7            8         0       3  ...  21.0750   NaN         S\n",
              "\n",
              "[5 rows x 12 columns]"
            ]
          },
          "metadata": {
            "tags": []
          },
          "execution_count": 116
        }
      ]
    },
    {
      "cell_type": "markdown",
      "metadata": {
        "id": "hccyuRbVWPnc",
        "colab_type": "text"
      },
      "source": [
        "#### Пример\n",
        "Посмотрим, сколько на борту было относительно молодых женщин, путешествующих в одиночку. Скорее всего, довольно мало, потому что в такое длительное путешествие молодых девушек одних не отпустили бы опекающие родственники."
      ]
    },
    {
      "cell_type": "code",
      "metadata": {
        "scrolled": true,
        "id": "ZUQ026daWPnc",
        "colab_type": "code",
        "outputId": "261f5ab3-7639-4c4f-fcb4-e339c651ecaf",
        "colab": {
          "base_uri": "https://localhost:8080/",
          "height": 173
        }
      },
      "source": [
        "pass_data[(pass_data.Sex == 'female') & \n",
        "          (pass_data.Age > 18) & \n",
        "          (pass_data.Age < 25) & \n",
        "          (pass_data.SibSp == 0) &\n",
        "          (pass_data.Parch == 0)].head()"
      ],
      "execution_count": 0,
      "outputs": [
        {
          "output_type": "execute_result",
          "data": {
            "text/html": [
              "<div>\n",
              "<style scoped>\n",
              "    .dataframe tbody tr th:only-of-type {\n",
              "        vertical-align: middle;\n",
              "    }\n",
              "\n",
              "    .dataframe tbody tr th {\n",
              "        vertical-align: top;\n",
              "    }\n",
              "\n",
              "    .dataframe thead th {\n",
              "        text-align: right;\n",
              "    }\n",
              "</style>\n",
              "<table border=\"1\" class=\"dataframe\">\n",
              "  <thead>\n",
              "    <tr style=\"text-align: right;\">\n",
              "      <th></th>\n",
              "      <th>PassengerId</th>\n",
              "      <th>Survived</th>\n",
              "      <th>Pclass</th>\n",
              "      <th>Name</th>\n",
              "      <th>Sex</th>\n",
              "      <th>Age</th>\n",
              "      <th>SibSp</th>\n",
              "      <th>Parch</th>\n",
              "      <th>Ticket</th>\n",
              "      <th>Fare</th>\n",
              "      <th>Cabin</th>\n",
              "      <th>Embarked</th>\n",
              "    </tr>\n",
              "  </thead>\n",
              "  <tbody>\n",
              "    <tr>\n",
              "      <th>44</th>\n",
              "      <td>45</td>\n",
              "      <td>1</td>\n",
              "      <td>3</td>\n",
              "      <td>Devaney, Miss. Margaret Delia</td>\n",
              "      <td>female</td>\n",
              "      <td>19.0</td>\n",
              "      <td>0</td>\n",
              "      <td>0</td>\n",
              "      <td>330958</td>\n",
              "      <td>7.8792</td>\n",
              "      <td>NaN</td>\n",
              "      <td>Q</td>\n",
              "    </tr>\n",
              "    <tr>\n",
              "      <th>56</th>\n",
              "      <td>57</td>\n",
              "      <td>1</td>\n",
              "      <td>2</td>\n",
              "      <td>Rugg, Miss. Emily</td>\n",
              "      <td>female</td>\n",
              "      <td>21.0</td>\n",
              "      <td>0</td>\n",
              "      <td>0</td>\n",
              "      <td>C.A. 31026</td>\n",
              "      <td>10.5000</td>\n",
              "      <td>NaN</td>\n",
              "      <td>S</td>\n",
              "    </tr>\n",
              "    <tr>\n",
              "      <th>106</th>\n",
              "      <td>107</td>\n",
              "      <td>1</td>\n",
              "      <td>3</td>\n",
              "      <td>Salkjelsvik, Miss. Anna Kristine</td>\n",
              "      <td>female</td>\n",
              "      <td>21.0</td>\n",
              "      <td>0</td>\n",
              "      <td>0</td>\n",
              "      <td>343120</td>\n",
              "      <td>7.6500</td>\n",
              "      <td>NaN</td>\n",
              "      <td>S</td>\n",
              "    </tr>\n",
              "    <tr>\n",
              "      <th>141</th>\n",
              "      <td>142</td>\n",
              "      <td>1</td>\n",
              "      <td>3</td>\n",
              "      <td>Nysten, Miss. Anna Sofia</td>\n",
              "      <td>female</td>\n",
              "      <td>22.0</td>\n",
              "      <td>0</td>\n",
              "      <td>0</td>\n",
              "      <td>347081</td>\n",
              "      <td>7.7500</td>\n",
              "      <td>NaN</td>\n",
              "      <td>S</td>\n",
              "    </tr>\n",
              "  </tbody>\n",
              "</table>\n",
              "</div>"
            ],
            "text/plain": [
              "     PassengerId  Survived  Pclass  ...     Fare Cabin  Embarked\n",
              "44            45         1       3  ...   7.8792   NaN         Q\n",
              "56            57         1       2  ...  10.5000   NaN         S\n",
              "106          107         1       3  ...   7.6500   NaN         S\n",
              "141          142         1       3  ...   7.7500   NaN         S\n",
              "\n",
              "[4 rows x 12 columns]"
            ]
          },
          "metadata": {
            "tags": []
          },
          "execution_count": 120
        }
      ]
    },
    {
      "cell_type": "markdown",
      "metadata": {
        "id": "dBJFiCukWPne",
        "colab_type": "text"
      },
      "source": [
        "Кроме того, для заданного признака можно построить гистограмму:"
      ]
    },
    {
      "cell_type": "code",
      "metadata": {
        "id": "-F4mEGNsWPne",
        "colab_type": "code",
        "outputId": "a5853081-8cbc-4b59-9eb0-fcdd993e63ca",
        "colab": {
          "base_uri": "https://localhost:8080/",
          "height": 286
        }
      },
      "source": [
        "pass_data.Age.hist(bins = 30)"
      ],
      "execution_count": 0,
      "outputs": [
        {
          "output_type": "execute_result",
          "data": {
            "text/plain": [
              "<matplotlib.axes._subplots.AxesSubplot at 0x7f3697ee9e90>"
            ]
          },
          "metadata": {
            "tags": []
          },
          "execution_count": 121
        },
        {
          "output_type": "display_data",
          "data": {
            "image/png": "[encoded data removed]",
            "text/plain": [
              "<Figure size 432x288 with 1 Axes>"
            ]
          },
          "metadata": {
            "tags": []
          }
        }
      ]
    },
    {
      "cell_type": "markdown",
      "metadata": {
        "id": "dXnuEflsWPng",
        "colab_type": "text"
      },
      "source": [
        "## Редактирование DataFrame\n",
        "\n",
        "* Переименование признаков"
      ]
    },
    {
      "cell_type": "code",
      "metadata": {
        "id": "mMDviIisWPng",
        "colab_type": "code",
        "outputId": "85149809-4e1e-4235-fe49-a0711975d05f",
        "colab": {
          "base_uri": "https://localhost:8080/",
          "height": 204
        }
      },
      "source": [
        "pass_data = pass_data.rename(index=str, columns={u'Sex': u'sex'})\n",
        "pass_data.head()"
      ],
      "execution_count": 0,
      "outputs": [
        {
          "output_type": "execute_result",
          "data": {
            "text/html": [
              "<div>\n",
              "<style scoped>\n",
              "    .dataframe tbody tr th:only-of-type {\n",
              "        vertical-align: middle;\n",
              "    }\n",
              "\n",
              "    .dataframe tbody tr th {\n",
              "        vertical-align: top;\n",
              "    }\n",
              "\n",
              "    .dataframe thead th {\n",
              "        text-align: right;\n",
              "    }\n",
              "</style>\n",
              "<table border=\"1\" class=\"dataframe\">\n",
              "  <thead>\n",
              "    <tr style=\"text-align: right;\">\n",
              "      <th></th>\n",
              "      <th>PassengerId</th>\n",
              "      <th>Survived</th>\n",
              "      <th>Pclass</th>\n",
              "      <th>Name</th>\n",
              "      <th>sex</th>\n",
              "      <th>Age</th>\n",
              "      <th>SibSp</th>\n",
              "      <th>Parch</th>\n",
              "      <th>Ticket</th>\n",
              "      <th>Fare</th>\n",
              "      <th>Cabin</th>\n",
              "      <th>Embarked</th>\n",
              "    </tr>\n",
              "  </thead>\n",
              "  <tbody>\n",
              "    <tr>\n",
              "      <th>0</th>\n",
              "      <td>1</td>\n",
              "      <td>0</td>\n",
              "      <td>3</td>\n",
              "      <td>Braund, Mr. Owen Harris</td>\n",
              "      <td>male</td>\n",
              "      <td>22.0</td>\n",
              "      <td>1</td>\n",
              "      <td>0</td>\n",
              "      <td>A/5 21171</td>\n",
              "      <td>7.2500</td>\n",
              "      <td>NaN</td>\n",
              "      <td>S</td>\n",
              "    </tr>\n",
              "    <tr>\n",
              "      <th>1</th>\n",
              "      <td>2</td>\n",
              "      <td>1</td>\n",
              "      <td>1</td>\n",
              "      <td>Cumings, Mrs. John Bradley (Florence Briggs Th...</td>\n",
              "      <td>female</td>\n",
              "      <td>38.0</td>\n",
              "      <td>1</td>\n",
              "      <td>0</td>\n",
              "      <td>PC 17599</td>\n",
              "      <td>71.2833</td>\n",
              "      <td>C85</td>\n",
              "      <td>C</td>\n",
              "    </tr>\n",
              "    <tr>\n",
              "      <th>2</th>\n",
              "      <td>3</td>\n",
              "      <td>1</td>\n",
              "      <td>3</td>\n",
              "      <td>Heikkinen, Miss. Laina</td>\n",
              "      <td>female</td>\n",
              "      <td>26.0</td>\n",
              "      <td>0</td>\n",
              "      <td>0</td>\n",
              "      <td>STON/O2. 3101282</td>\n",
              "      <td>7.9250</td>\n",
              "      <td>NaN</td>\n",
              "      <td>S</td>\n",
              "    </tr>\n",
              "    <tr>\n",
              "      <th>3</th>\n",
              "      <td>4</td>\n",
              "      <td>1</td>\n",
              "      <td>1</td>\n",
              "      <td>Futrelle, Mrs. Jacques Heath (Lily May Peel)</td>\n",
              "      <td>female</td>\n",
              "      <td>35.0</td>\n",
              "      <td>1</td>\n",
              "      <td>0</td>\n",
              "      <td>113803</td>\n",
              "      <td>53.1000</td>\n",
              "      <td>C123</td>\n",
              "      <td>S</td>\n",
              "    </tr>\n",
              "    <tr>\n",
              "      <th>4</th>\n",
              "      <td>5</td>\n",
              "      <td>0</td>\n",
              "      <td>3</td>\n",
              "      <td>Allen, Mr. William Henry</td>\n",
              "      <td>male</td>\n",
              "      <td>35.0</td>\n",
              "      <td>0</td>\n",
              "      <td>0</td>\n",
              "      <td>373450</td>\n",
              "      <td>8.0500</td>\n",
              "      <td>NaN</td>\n",
              "      <td>S</td>\n",
              "    </tr>\n",
              "  </tbody>\n",
              "</table>\n",
              "</div>"
            ],
            "text/plain": [
              "   PassengerId  Survived  Pclass  ...     Fare Cabin  Embarked\n",
              "0            1         0       3  ...   7.2500   NaN         S\n",
              "1            2         1       1  ...  71.2833   C85         C\n",
              "2            3         1       3  ...   7.9250   NaN         S\n",
              "3            4         1       1  ...  53.1000  C123         S\n",
              "4            5         0       3  ...   8.0500   NaN         S\n",
              "\n",
              "[5 rows x 12 columns]"
            ]
          },
          "metadata": {
            "tags": []
          },
          "execution_count": 123
        }
      ]
    },
    {
      "cell_type": "markdown",
      "metadata": {
        "id": "BjCygh8bWPnk",
        "colab_type": "text"
      },
      "source": [
        "* Применение преобразования к существующему признаку. Например, выделим фамилию:"
      ]
    },
    {
      "cell_type": "code",
      "metadata": {
        "scrolled": true,
        "id": "gZxJUpE5WPnk",
        "colab_type": "code",
        "outputId": "a9ec4b4c-e6f3-4331-90cf-ce3bca7cb1b0",
        "colab": {
          "base_uri": "https://localhost:8080/",
          "height": 119
        }
      },
      "source": [
        "def get_last_name(name):\n",
        "    return name.split()[0].strip(',')\n",
        "\n",
        "last_names = pass_data['Name'].apply(get_last_name)\n",
        "last_names.head()"
      ],
      "execution_count": 0,
      "outputs": [
        {
          "output_type": "execute_result",
          "data": {
            "text/plain": [
              "0       Braund\n",
              "1      Cumings\n",
              "2    Heikkinen\n",
              "3     Futrelle\n",
              "4        Allen\n",
              "Name: Name, dtype: object"
            ]
          },
          "metadata": {
            "tags": []
          },
          "execution_count": 124
        }
      ]
    },
    {
      "cell_type": "markdown",
      "metadata": {
        "id": "HzTC87JDWPnm",
        "colab_type": "text"
      },
      "source": [
        "* Добавление признака"
      ]
    },
    {
      "cell_type": "code",
      "metadata": {
        "id": "xVS2waORWPnm",
        "colab_type": "code",
        "outputId": "ef2bfc2d-ddcc-4726-fe7e-51871f8bbc6f",
        "colab": {
          "base_uri": "https://localhost:8080/",
          "height": 204
        }
      },
      "source": [
        "pass_data['Last_name'] = last_names\n",
        "pass_data.head()"
      ],
      "execution_count": 0,
      "outputs": [
        {
          "output_type": "execute_result",
          "data": {
            "text/html": [
              "<div>\n",
              "<style scoped>\n",
              "    .dataframe tbody tr th:only-of-type {\n",
              "        vertical-align: middle;\n",
              "    }\n",
              "\n",
              "    .dataframe tbody tr th {\n",
              "        vertical-align: top;\n",
              "    }\n",
              "\n",
              "    .dataframe thead th {\n",
              "        text-align: right;\n",
              "    }\n",
              "</style>\n",
              "<table border=\"1\" class=\"dataframe\">\n",
              "  <thead>\n",
              "    <tr style=\"text-align: right;\">\n",
              "      <th></th>\n",
              "      <th>PassengerId</th>\n",
              "      <th>Survived</th>\n",
              "      <th>Pclass</th>\n",
              "      <th>Name</th>\n",
              "      <th>sex</th>\n",
              "      <th>Age</th>\n",
              "      <th>SibSp</th>\n",
              "      <th>Parch</th>\n",
              "      <th>Ticket</th>\n",
              "      <th>Fare</th>\n",
              "      <th>Cabin</th>\n",
              "      <th>Embarked</th>\n",
              "      <th>Last_name</th>\n",
              "    </tr>\n",
              "  </thead>\n",
              "  <tbody>\n",
              "    <tr>\n",
              "      <th>0</th>\n",
              "      <td>1</td>\n",
              "      <td>0</td>\n",
              "      <td>3</td>\n",
              "      <td>Braund, Mr. Owen Harris</td>\n",
              "      <td>male</td>\n",
              "      <td>22.0</td>\n",
              "      <td>1</td>\n",
              "      <td>0</td>\n",
              "      <td>A/5 21171</td>\n",
              "      <td>7.2500</td>\n",
              "      <td>NaN</td>\n",
              "      <td>S</td>\n",
              "      <td>Braund</td>\n",
              "    </tr>\n",
              "    <tr>\n",
              "      <th>1</th>\n",
              "      <td>2</td>\n",
              "      <td>1</td>\n",
              "      <td>1</td>\n",
              "      <td>Cumings, Mrs. John Bradley (Florence Briggs Th...</td>\n",
              "      <td>female</td>\n",
              "      <td>38.0</td>\n",
              "      <td>1</td>\n",
              "      <td>0</td>\n",
              "      <td>PC 17599</td>\n",
              "      <td>71.2833</td>\n",
              "      <td>C85</td>\n",
              "      <td>C</td>\n",
              "      <td>Cumings</td>\n",
              "    </tr>\n",
              "    <tr>\n",
              "      <th>2</th>\n",
              "      <td>3</td>\n",
              "      <td>1</td>\n",
              "      <td>3</td>\n",
              "      <td>Heikkinen, Miss. Laina</td>\n",
              "      <td>female</td>\n",
              "      <td>26.0</td>\n",
              "      <td>0</td>\n",
              "      <td>0</td>\n",
              "      <td>STON/O2. 3101282</td>\n",
              "      <td>7.9250</td>\n",
              "      <td>NaN</td>\n",
              "      <td>S</td>\n",
              "      <td>Heikkinen</td>\n",
              "    </tr>\n",
              "    <tr>\n",
              "      <th>3</th>\n",
              "      <td>4</td>\n",
              "      <td>1</td>\n",
              "      <td>1</td>\n",
              "      <td>Futrelle, Mrs. Jacques Heath (Lily May Peel)</td>\n",
              "      <td>female</td>\n",
              "      <td>35.0</td>\n",
              "      <td>1</td>\n",
              "      <td>0</td>\n",
              "      <td>113803</td>\n",
              "      <td>53.1000</td>\n",
              "      <td>C123</td>\n",
              "      <td>S</td>\n",
              "      <td>Futrelle</td>\n",
              "    </tr>\n",
              "    <tr>\n",
              "      <th>4</th>\n",
              "      <td>5</td>\n",
              "      <td>0</td>\n",
              "      <td>3</td>\n",
              "      <td>Allen, Mr. William Henry</td>\n",
              "      <td>male</td>\n",
              "      <td>35.0</td>\n",
              "      <td>0</td>\n",
              "      <td>0</td>\n",
              "      <td>373450</td>\n",
              "      <td>8.0500</td>\n",
              "      <td>NaN</td>\n",
              "      <td>S</td>\n",
              "      <td>Allen</td>\n",
              "    </tr>\n",
              "  </tbody>\n",
              "</table>\n",
              "</div>"
            ],
            "text/plain": [
              "   PassengerId  Survived  Pclass  ... Cabin Embarked  Last_name\n",
              "0            1         0       3  ...   NaN        S     Braund\n",
              "1            2         1       1  ...   C85        C    Cumings\n",
              "2            3         1       3  ...   NaN        S  Heikkinen\n",
              "3            4         1       1  ...  C123        S   Futrelle\n",
              "4            5         0       3  ...   NaN        S      Allen\n",
              "\n",
              "[5 rows x 13 columns]"
            ]
          },
          "metadata": {
            "tags": []
          },
          "execution_count": 125
        }
      ]
    },
    {
      "cell_type": "markdown",
      "metadata": {
        "id": "a_FoHNfbWPno",
        "colab_type": "text"
      },
      "source": [
        "* Удаление признака"
      ]
    },
    {
      "cell_type": "code",
      "metadata": {
        "id": "y4oZH_TXWPnp",
        "colab_type": "code",
        "outputId": "2161a993-83c2-442e-b1f5-89e3aaefbb1c",
        "colab": {
          "base_uri": "https://localhost:8080/",
          "height": 204
        }
      },
      "source": [
        "pass_data.drop('Last_name', axis=1, inplace=True)\n",
        "pass_data.head()"
      ],
      "execution_count": 0,
      "outputs": [
        {
          "output_type": "execute_result",
          "data": {
            "text/html": [
              "<div>\n",
              "<style scoped>\n",
              "    .dataframe tbody tr th:only-of-type {\n",
              "        vertical-align: middle;\n",
              "    }\n",
              "\n",
              "    .dataframe tbody tr th {\n",
              "        vertical-align: top;\n",
              "    }\n",
              "\n",
              "    .dataframe thead th {\n",
              "        text-align: right;\n",
              "    }\n",
              "</style>\n",
              "<table border=\"1\" class=\"dataframe\">\n",
              "  <thead>\n",
              "    <tr style=\"text-align: right;\">\n",
              "      <th></th>\n",
              "      <th>PassengerId</th>\n",
              "      <th>Survived</th>\n",
              "      <th>Pclass</th>\n",
              "      <th>Name</th>\n",
              "      <th>sex</th>\n",
              "      <th>Age</th>\n",
              "      <th>SibSp</th>\n",
              "      <th>Parch</th>\n",
              "      <th>Ticket</th>\n",
              "      <th>Fare</th>\n",
              "      <th>Cabin</th>\n",
              "      <th>Embarked</th>\n",
              "    </tr>\n",
              "  </thead>\n",
              "  <tbody>\n",
              "    <tr>\n",
              "      <th>0</th>\n",
              "      <td>1</td>\n",
              "      <td>0</td>\n",
              "      <td>3</td>\n",
              "      <td>Braund, Mr. Owen Harris</td>\n",
              "      <td>male</td>\n",
              "      <td>22.0</td>\n",
              "      <td>1</td>\n",
              "      <td>0</td>\n",
              "      <td>A/5 21171</td>\n",
              "      <td>7.2500</td>\n",
              "      <td>NaN</td>\n",
              "      <td>S</td>\n",
              "    </tr>\n",
              "    <tr>\n",
              "      <th>1</th>\n",
              "      <td>2</td>\n",
              "      <td>1</td>\n",
              "      <td>1</td>\n",
              "      <td>Cumings, Mrs. John Bradley (Florence Briggs Th...</td>\n",
              "      <td>female</td>\n",
              "      <td>38.0</td>\n",
              "      <td>1</td>\n",
              "      <td>0</td>\n",
              "      <td>PC 17599</td>\n",
              "      <td>71.2833</td>\n",
              "      <td>C85</td>\n",
              "      <td>C</td>\n",
              "    </tr>\n",
              "    <tr>\n",
              "      <th>2</th>\n",
              "      <td>3</td>\n",
              "      <td>1</td>\n",
              "      <td>3</td>\n",
              "      <td>Heikkinen, Miss. Laina</td>\n",
              "      <td>female</td>\n",
              "      <td>26.0</td>\n",
              "      <td>0</td>\n",
              "      <td>0</td>\n",
              "      <td>STON/O2. 3101282</td>\n",
              "      <td>7.9250</td>\n",
              "      <td>NaN</td>\n",
              "      <td>S</td>\n",
              "    </tr>\n",
              "    <tr>\n",
              "      <th>3</th>\n",
              "      <td>4</td>\n",
              "      <td>1</td>\n",
              "      <td>1</td>\n",
              "      <td>Futrelle, Mrs. Jacques Heath (Lily May Peel)</td>\n",
              "      <td>female</td>\n",
              "      <td>35.0</td>\n",
              "      <td>1</td>\n",
              "      <td>0</td>\n",
              "      <td>113803</td>\n",
              "      <td>53.1000</td>\n",
              "      <td>C123</td>\n",
              "      <td>S</td>\n",
              "    </tr>\n",
              "    <tr>\n",
              "      <th>4</th>\n",
              "      <td>5</td>\n",
              "      <td>0</td>\n",
              "      <td>3</td>\n",
              "      <td>Allen, Mr. William Henry</td>\n",
              "      <td>male</td>\n",
              "      <td>35.0</td>\n",
              "      <td>0</td>\n",
              "      <td>0</td>\n",
              "      <td>373450</td>\n",
              "      <td>8.0500</td>\n",
              "      <td>NaN</td>\n",
              "      <td>S</td>\n",
              "    </tr>\n",
              "  </tbody>\n",
              "</table>\n",
              "</div>"
            ],
            "text/plain": [
              "   PassengerId  Survived  Pclass  ...     Fare Cabin  Embarked\n",
              "0            1         0       3  ...   7.2500   NaN         S\n",
              "1            2         1       1  ...  71.2833   C85         C\n",
              "2            3         1       3  ...   7.9250   NaN         S\n",
              "3            4         1       1  ...  53.1000  C123         S\n",
              "4            5         0       3  ...   8.0500   NaN         S\n",
              "\n",
              "[5 rows x 12 columns]"
            ]
          },
          "metadata": {
            "tags": []
          },
          "execution_count": 126
        }
      ]
    },
    {
      "cell_type": "markdown",
      "metadata": {
        "id": "lq3GAj6PWPnr",
        "colab_type": "text"
      },
      "source": [
        "* Работа с пропущенными данными\n",
        "\n",
        "Методы isnull() и notnull() позволяют получить бинарный массив, отражающий отсутствие или наличие данных для каждого из объектов соответственно:"
      ]
    },
    {
      "cell_type": "code",
      "metadata": {
        "scrolled": true,
        "id": "JA1dDecIWPnr",
        "colab_type": "code",
        "outputId": "6d8afd6d-5ae5-4562-f7cb-10a6542edc1e",
        "colab": {
          "base_uri": "https://localhost:8080/",
          "height": 119
        }
      },
      "source": [
        "pass_data['Cabin'].isnull().head()"
      ],
      "execution_count": 0,
      "outputs": [
        {
          "output_type": "execute_result",
          "data": {
            "text/plain": [
              "0     True\n",
              "1    False\n",
              "2     True\n",
              "3    False\n",
              "4     True\n",
              "Name: Cabin, dtype: bool"
            ]
          },
          "metadata": {
            "tags": []
          },
          "execution_count": 128
        }
      ]
    },
    {
      "cell_type": "code",
      "metadata": {
        "id": "nZf6c63xWPnv",
        "colab_type": "code",
        "outputId": "99553c75-6383-44ef-911d-54c2dae33313",
        "colab": {
          "base_uri": "https://localhost:8080/",
          "height": 204
        }
      },
      "source": [
        "pass_data[pass_data['Cabin'].notnull()].head()"
      ],
      "execution_count": 0,
      "outputs": [
        {
          "output_type": "execute_result",
          "data": {
            "text/html": [
              "<div>\n",
              "<style scoped>\n",
              "    .dataframe tbody tr th:only-of-type {\n",
              "        vertical-align: middle;\n",
              "    }\n",
              "\n",
              "    .dataframe tbody tr th {\n",
              "        vertical-align: top;\n",
              "    }\n",
              "\n",
              "    .dataframe thead th {\n",
              "        text-align: right;\n",
              "    }\n",
              "</style>\n",
              "<table border=\"1\" class=\"dataframe\">\n",
              "  <thead>\n",
              "    <tr style=\"text-align: right;\">\n",
              "      <th></th>\n",
              "      <th>PassengerId</th>\n",
              "      <th>Survived</th>\n",
              "      <th>Pclass</th>\n",
              "      <th>Name</th>\n",
              "      <th>sex</th>\n",
              "      <th>Age</th>\n",
              "      <th>SibSp</th>\n",
              "      <th>Parch</th>\n",
              "      <th>Ticket</th>\n",
              "      <th>Fare</th>\n",
              "      <th>Cabin</th>\n",
              "      <th>Embarked</th>\n",
              "    </tr>\n",
              "  </thead>\n",
              "  <tbody>\n",
              "    <tr>\n",
              "      <th>1</th>\n",
              "      <td>2</td>\n",
              "      <td>1</td>\n",
              "      <td>1</td>\n",
              "      <td>Cumings, Mrs. John Bradley (Florence Briggs Th...</td>\n",
              "      <td>female</td>\n",
              "      <td>38.0</td>\n",
              "      <td>1</td>\n",
              "      <td>0</td>\n",
              "      <td>PC 17599</td>\n",
              "      <td>71.2833</td>\n",
              "      <td>C85</td>\n",
              "      <td>C</td>\n",
              "    </tr>\n",
              "    <tr>\n",
              "      <th>3</th>\n",
              "      <td>4</td>\n",
              "      <td>1</td>\n",
              "      <td>1</td>\n",
              "      <td>Futrelle, Mrs. Jacques Heath (Lily May Peel)</td>\n",
              "      <td>female</td>\n",
              "      <td>35.0</td>\n",
              "      <td>1</td>\n",
              "      <td>0</td>\n",
              "      <td>113803</td>\n",
              "      <td>53.1000</td>\n",
              "      <td>C123</td>\n",
              "      <td>S</td>\n",
              "    </tr>\n",
              "    <tr>\n",
              "      <th>6</th>\n",
              "      <td>7</td>\n",
              "      <td>0</td>\n",
              "      <td>1</td>\n",
              "      <td>McCarthy, Mr. Timothy J</td>\n",
              "      <td>male</td>\n",
              "      <td>54.0</td>\n",
              "      <td>0</td>\n",
              "      <td>0</td>\n",
              "      <td>17463</td>\n",
              "      <td>51.8625</td>\n",
              "      <td>E46</td>\n",
              "      <td>S</td>\n",
              "    </tr>\n",
              "    <tr>\n",
              "      <th>10</th>\n",
              "      <td>11</td>\n",
              "      <td>1</td>\n",
              "      <td>3</td>\n",
              "      <td>Sandstrom, Miss. Marguerite Rut</td>\n",
              "      <td>female</td>\n",
              "      <td>4.0</td>\n",
              "      <td>1</td>\n",
              "      <td>1</td>\n",
              "      <td>PP 9549</td>\n",
              "      <td>16.7000</td>\n",
              "      <td>G6</td>\n",
              "      <td>S</td>\n",
              "    </tr>\n",
              "    <tr>\n",
              "      <th>11</th>\n",
              "      <td>12</td>\n",
              "      <td>1</td>\n",
              "      <td>1</td>\n",
              "      <td>Bonnell, Miss. Elizabeth</td>\n",
              "      <td>female</td>\n",
              "      <td>58.0</td>\n",
              "      <td>0</td>\n",
              "      <td>0</td>\n",
              "      <td>113783</td>\n",
              "      <td>26.5500</td>\n",
              "      <td>C103</td>\n",
              "      <td>S</td>\n",
              "    </tr>\n",
              "  </tbody>\n",
              "</table>\n",
              "</div>"
            ],
            "text/plain": [
              "    PassengerId  Survived  Pclass  ...     Fare Cabin  Embarked\n",
              "1             2         1       1  ...  71.2833   C85         C\n",
              "3             4         1       1  ...  53.1000  C123         S\n",
              "6             7         0       1  ...  51.8625   E46         S\n",
              "10           11         1       3  ...  16.7000    G6         S\n",
              "11           12         1       1  ...  26.5500  C103         S\n",
              "\n",
              "[5 rows x 12 columns]"
            ]
          },
          "metadata": {
            "tags": []
          },
          "execution_count": 129
        }
      ]
    },
    {
      "cell_type": "markdown",
      "metadata": {
        "id": "15jFKkFzWPnw",
        "colab_type": "text"
      },
      "source": [
        "* Сортировка объектов/признаков"
      ]
    },
    {
      "cell_type": "code",
      "metadata": {
        "id": "7_pK6_rzWPnx",
        "colab_type": "code",
        "outputId": "d24b8dc7-bafe-4296-c099-3db608f7f117",
        "colab": {
          "base_uri": "https://localhost:8080/",
          "height": 204
        }
      },
      "source": [
        "pass_data.sort_values(by=['Pclass', 'Fare'], ascending=True).head()"
      ],
      "execution_count": 0,
      "outputs": [
        {
          "output_type": "execute_result",
          "data": {
            "text/html": [
              "<div>\n",
              "<style scoped>\n",
              "    .dataframe tbody tr th:only-of-type {\n",
              "        vertical-align: middle;\n",
              "    }\n",
              "\n",
              "    .dataframe tbody tr th {\n",
              "        vertical-align: top;\n",
              "    }\n",
              "\n",
              "    .dataframe thead th {\n",
              "        text-align: right;\n",
              "    }\n",
              "</style>\n",
              "<table border=\"1\" class=\"dataframe\">\n",
              "  <thead>\n",
              "    <tr style=\"text-align: right;\">\n",
              "      <th></th>\n",
              "      <th>PassengerId</th>\n",
              "      <th>Survived</th>\n",
              "      <th>Pclass</th>\n",
              "      <th>Name</th>\n",
              "      <th>sex</th>\n",
              "      <th>Age</th>\n",
              "      <th>SibSp</th>\n",
              "      <th>Parch</th>\n",
              "      <th>Ticket</th>\n",
              "      <th>Fare</th>\n",
              "      <th>Cabin</th>\n",
              "      <th>Embarked</th>\n",
              "    </tr>\n",
              "  </thead>\n",
              "  <tbody>\n",
              "    <tr>\n",
              "      <th>136</th>\n",
              "      <td>137</td>\n",
              "      <td>1</td>\n",
              "      <td>1</td>\n",
              "      <td>Newsom, Miss. Helen Monypeny</td>\n",
              "      <td>female</td>\n",
              "      <td>19.0</td>\n",
              "      <td>0</td>\n",
              "      <td>2</td>\n",
              "      <td>11752</td>\n",
              "      <td>26.2833</td>\n",
              "      <td>D47</td>\n",
              "      <td>S</td>\n",
              "    </tr>\n",
              "    <tr>\n",
              "      <th>11</th>\n",
              "      <td>12</td>\n",
              "      <td>1</td>\n",
              "      <td>1</td>\n",
              "      <td>Bonnell, Miss. Elizabeth</td>\n",
              "      <td>female</td>\n",
              "      <td>58.0</td>\n",
              "      <td>0</td>\n",
              "      <td>0</td>\n",
              "      <td>113783</td>\n",
              "      <td>26.5500</td>\n",
              "      <td>C103</td>\n",
              "      <td>S</td>\n",
              "    </tr>\n",
              "    <tr>\n",
              "      <th>30</th>\n",
              "      <td>31</td>\n",
              "      <td>0</td>\n",
              "      <td>1</td>\n",
              "      <td>Uruchurtu, Don. Manuel E</td>\n",
              "      <td>male</td>\n",
              "      <td>40.0</td>\n",
              "      <td>0</td>\n",
              "      <td>0</td>\n",
              "      <td>PC 17601</td>\n",
              "      <td>27.7208</td>\n",
              "      <td>NaN</td>\n",
              "      <td>C</td>\n",
              "    </tr>\n",
              "    <tr>\n",
              "      <th>64</th>\n",
              "      <td>65</td>\n",
              "      <td>0</td>\n",
              "      <td>1</td>\n",
              "      <td>Stewart, Mr. Albert A</td>\n",
              "      <td>male</td>\n",
              "      <td>NaN</td>\n",
              "      <td>0</td>\n",
              "      <td>0</td>\n",
              "      <td>PC 17605</td>\n",
              "      <td>27.7208</td>\n",
              "      <td>NaN</td>\n",
              "      <td>C</td>\n",
              "    </tr>\n",
              "    <tr>\n",
              "      <th>96</th>\n",
              "      <td>97</td>\n",
              "      <td>0</td>\n",
              "      <td>1</td>\n",
              "      <td>Goldschmidt, Mr. George B</td>\n",
              "      <td>male</td>\n",
              "      <td>71.0</td>\n",
              "      <td>0</td>\n",
              "      <td>0</td>\n",
              "      <td>PC 17754</td>\n",
              "      <td>34.6542</td>\n",
              "      <td>A5</td>\n",
              "      <td>C</td>\n",
              "    </tr>\n",
              "  </tbody>\n",
              "</table>\n",
              "</div>"
            ],
            "text/plain": [
              "     PassengerId  Survived  Pclass  ...     Fare Cabin  Embarked\n",
              "136          137         1       1  ...  26.2833   D47         S\n",
              "11            12         1       1  ...  26.5500  C103         S\n",
              "30            31         0       1  ...  27.7208   NaN         C\n",
              "64            65         0       1  ...  27.7208   NaN         C\n",
              "96            97         0       1  ...  34.6542    A5         C\n",
              "\n",
              "[5 rows x 12 columns]"
            ]
          },
          "metadata": {
            "tags": []
          },
          "execution_count": 130
        }
      ]
    },
    {
      "cell_type": "code",
      "metadata": {
        "id": "8ICTPfJcWPnz",
        "colab_type": "code",
        "outputId": "dbd22a53-e9b5-4f7f-b976-df62bcf3f389",
        "colab": {
          "base_uri": "https://localhost:8080/",
          "height": 204
        }
      },
      "source": [
        "pass_data.sort_values(by=['Pclass', 'Fare'], ascending=[True, False]).head()"
      ],
      "execution_count": 0,
      "outputs": [
        {
          "output_type": "execute_result",
          "data": {
            "text/html": [
              "<div>\n",
              "<style scoped>\n",
              "    .dataframe tbody tr th:only-of-type {\n",
              "        vertical-align: middle;\n",
              "    }\n",
              "\n",
              "    .dataframe tbody tr th {\n",
              "        vertical-align: top;\n",
              "    }\n",
              "\n",
              "    .dataframe thead th {\n",
              "        text-align: right;\n",
              "    }\n",
              "</style>\n",
              "<table border=\"1\" class=\"dataframe\">\n",
              "  <thead>\n",
              "    <tr style=\"text-align: right;\">\n",
              "      <th></th>\n",
              "      <th>PassengerId</th>\n",
              "      <th>Survived</th>\n",
              "      <th>Pclass</th>\n",
              "      <th>Name</th>\n",
              "      <th>sex</th>\n",
              "      <th>Age</th>\n",
              "      <th>SibSp</th>\n",
              "      <th>Parch</th>\n",
              "      <th>Ticket</th>\n",
              "      <th>Fare</th>\n",
              "      <th>Cabin</th>\n",
              "      <th>Embarked</th>\n",
              "    </tr>\n",
              "  </thead>\n",
              "  <tbody>\n",
              "    <tr>\n",
              "      <th>27</th>\n",
              "      <td>28</td>\n",
              "      <td>0</td>\n",
              "      <td>1</td>\n",
              "      <td>Fortune, Mr. Charles Alexander</td>\n",
              "      <td>male</td>\n",
              "      <td>19.0</td>\n",
              "      <td>3</td>\n",
              "      <td>2</td>\n",
              "      <td>19950</td>\n",
              "      <td>263.0000</td>\n",
              "      <td>C23 C25 C27</td>\n",
              "      <td>S</td>\n",
              "    </tr>\n",
              "    <tr>\n",
              "      <th>88</th>\n",
              "      <td>89</td>\n",
              "      <td>1</td>\n",
              "      <td>1</td>\n",
              "      <td>Fortune, Miss. Mabel Helen</td>\n",
              "      <td>female</td>\n",
              "      <td>23.0</td>\n",
              "      <td>3</td>\n",
              "      <td>2</td>\n",
              "      <td>19950</td>\n",
              "      <td>263.0000</td>\n",
              "      <td>C23 C25 C27</td>\n",
              "      <td>S</td>\n",
              "    </tr>\n",
              "    <tr>\n",
              "      <th>118</th>\n",
              "      <td>119</td>\n",
              "      <td>0</td>\n",
              "      <td>1</td>\n",
              "      <td>Baxter, Mr. Quigg Edmond</td>\n",
              "      <td>male</td>\n",
              "      <td>24.0</td>\n",
              "      <td>0</td>\n",
              "      <td>1</td>\n",
              "      <td>PC 17558</td>\n",
              "      <td>247.5208</td>\n",
              "      <td>B58 B60</td>\n",
              "      <td>C</td>\n",
              "    </tr>\n",
              "    <tr>\n",
              "      <th>31</th>\n",
              "      <td>32</td>\n",
              "      <td>1</td>\n",
              "      <td>1</td>\n",
              "      <td>Spencer, Mrs. William Augustus (Marie Eugenie)</td>\n",
              "      <td>female</td>\n",
              "      <td>NaN</td>\n",
              "      <td>1</td>\n",
              "      <td>0</td>\n",
              "      <td>PC 17569</td>\n",
              "      <td>146.5208</td>\n",
              "      <td>B78</td>\n",
              "      <td>C</td>\n",
              "    </tr>\n",
              "    <tr>\n",
              "      <th>62</th>\n",
              "      <td>63</td>\n",
              "      <td>0</td>\n",
              "      <td>1</td>\n",
              "      <td>Harris, Mr. Henry Birkhardt</td>\n",
              "      <td>male</td>\n",
              "      <td>45.0</td>\n",
              "      <td>1</td>\n",
              "      <td>0</td>\n",
              "      <td>36973</td>\n",
              "      <td>83.4750</td>\n",
              "      <td>C83</td>\n",
              "      <td>S</td>\n",
              "    </tr>\n",
              "  </tbody>\n",
              "</table>\n",
              "</div>"
            ],
            "text/plain": [
              "     PassengerId  Survived  Pclass  ...      Fare        Cabin  Embarked\n",
              "27            28         0       1  ...  263.0000  C23 C25 C27         S\n",
              "88            89         1       1  ...  263.0000  C23 C25 C27         S\n",
              "118          119         0       1  ...  247.5208      B58 B60         C\n",
              "31            32         1       1  ...  146.5208          B78         C\n",
              "62            63         0       1  ...   83.4750          C83         S\n",
              "\n",
              "[5 rows x 12 columns]"
            ]
          },
          "metadata": {
            "tags": []
          },
          "execution_count": 131
        }
      ]
    },
    {
      "cell_type": "markdown",
      "metadata": {
        "id": "1auBGhwGWPn1",
        "colab_type": "text"
      },
      "source": [
        "## Группировка данных\n",
        "\n",
        "Группировка при помощи метода groupby позволяет объединять данные в группы по одному или нескольким признакам и считать по ним общую статистику."
      ]
    },
    {
      "cell_type": "code",
      "metadata": {
        "id": "8_M3b2kbWPn1",
        "colab_type": "code",
        "outputId": "0b32c575-0d06-4843-9ed9-10cf711a9d22",
        "colab": {
          "base_uri": "https://localhost:8080/",
          "height": 34
        }
      },
      "source": [
        "pass_data.groupby('sex') # разбиение всех объектов на 2 группы по полу"
      ],
      "execution_count": 0,
      "outputs": [
        {
          "output_type": "execute_result",
          "data": {
            "text/plain": [
              "<pandas.core.groupby.generic.DataFrameGroupBy object at 0x7f3697f1e950>"
            ]
          },
          "metadata": {
            "tags": []
          },
          "execution_count": 133
        }
      ]
    },
    {
      "cell_type": "code",
      "metadata": {
        "id": "wZnuGgWMWPn2",
        "colab_type": "code",
        "outputId": "9d179712-15c1-4562-b531-0647ad32990d",
        "colab": {
          "base_uri": "https://localhost:8080/",
          "height": 153
        }
      },
      "source": [
        "pass_data.groupby('sex')['Pclass'].value_counts()"
      ],
      "execution_count": 0,
      "outputs": [
        {
          "output_type": "execute_result",
          "data": {
            "text/plain": [
              "sex     Pclass\n",
              "female  3         35\n",
              "        2         12\n",
              "        1          9\n",
              "male    3         61\n",
              "        1         21\n",
              "        2         18\n",
              "Name: Pclass, dtype: int64"
            ]
          },
          "metadata": {
            "tags": []
          },
          "execution_count": 134
        }
      ]
    },
    {
      "cell_type": "code",
      "metadata": {
        "id": "GQuYRrEdWPn3",
        "colab_type": "code",
        "outputId": "c4936588-abc6-456e-a334-cf92abebecef",
        "colab": {
          "base_uri": "https://localhost:8080/",
          "height": 173
        }
      },
      "source": [
        "pass_data.groupby('Pclass')['Fare'].describe()"
      ],
      "execution_count": 0,
      "outputs": [
        {
          "output_type": "execute_result",
          "data": {
            "text/html": [
              "<div>\n",
              "<style scoped>\n",
              "    .dataframe tbody tr th:only-of-type {\n",
              "        vertical-align: middle;\n",
              "    }\n",
              "\n",
              "    .dataframe tbody tr th {\n",
              "        vertical-align: top;\n",
              "    }\n",
              "\n",
              "    .dataframe thead th {\n",
              "        text-align: right;\n",
              "    }\n",
              "</style>\n",
              "<table border=\"1\" class=\"dataframe\">\n",
              "  <thead>\n",
              "    <tr style=\"text-align: right;\">\n",
              "      <th></th>\n",
              "      <th>count</th>\n",
              "      <th>mean</th>\n",
              "      <th>std</th>\n",
              "      <th>min</th>\n",
              "      <th>25%</th>\n",
              "      <th>50%</th>\n",
              "      <th>75%</th>\n",
              "      <th>max</th>\n",
              "    </tr>\n",
              "    <tr>\n",
              "      <th>Pclass</th>\n",
              "      <th></th>\n",
              "      <th></th>\n",
              "      <th></th>\n",
              "      <th></th>\n",
              "      <th></th>\n",
              "      <th></th>\n",
              "      <th></th>\n",
              "      <th></th>\n",
              "    </tr>\n",
              "  </thead>\n",
              "  <tbody>\n",
              "    <tr>\n",
              "      <th>1</th>\n",
              "      <td>30.0</td>\n",
              "      <td>79.50194</td>\n",
              "      <td>65.172104</td>\n",
              "      <td>26.2833</td>\n",
              "      <td>48.290625</td>\n",
              "      <td>61.6792</td>\n",
              "      <td>78.721875</td>\n",
              "      <td>263.0000</td>\n",
              "    </tr>\n",
              "    <tr>\n",
              "      <th>2</th>\n",
              "      <td>30.0</td>\n",
              "      <td>23.65972</td>\n",
              "      <td>16.048141</td>\n",
              "      <td>10.5000</td>\n",
              "      <td>13.000000</td>\n",
              "      <td>21.0000</td>\n",
              "      <td>27.312500</td>\n",
              "      <td>73.5000</td>\n",
              "    </tr>\n",
              "    <tr>\n",
              "      <th>3</th>\n",
              "      <td>96.0</td>\n",
              "      <td>13.44006</td>\n",
              "      <td>9.998511</td>\n",
              "      <td>6.7500</td>\n",
              "      <td>7.854200</td>\n",
              "      <td>8.0500</td>\n",
              "      <td>15.309350</td>\n",
              "      <td>56.4958</td>\n",
              "    </tr>\n",
              "  </tbody>\n",
              "</table>\n",
              "</div>"
            ],
            "text/plain": [
              "        count      mean        std  ...      50%        75%       max\n",
              "Pclass                              ...                              \n",
              "1        30.0  79.50194  65.172104  ...  61.6792  78.721875  263.0000\n",
              "2        30.0  23.65972  16.048141  ...  21.0000  27.312500   73.5000\n",
              "3        96.0  13.44006   9.998511  ...   8.0500  15.309350   56.4958\n",
              "\n",
              "[3 rows x 8 columns]"
            ]
          },
          "metadata": {
            "tags": []
          },
          "execution_count": 136
        }
      ]
    },
    {
      "cell_type": "code",
      "metadata": {
        "id": "DaqjW9XQWPn4",
        "colab_type": "code",
        "outputId": "332fb153-28f2-4c29-d897-11bd32d80f06",
        "colab": {
          "base_uri": "https://localhost:8080/",
          "height": 85
        }
      },
      "source": [
        "pass_data.groupby('sex')['Age'].mean() # средний возраст для пассажиров каждого из полов"
      ],
      "execution_count": 0,
      "outputs": [
        {
          "output_type": "execute_result",
          "data": {
            "text/plain": [
              "sex\n",
              "female    24.468085\n",
              "male      30.326962\n",
              "Name: Age, dtype: float64"
            ]
          },
          "metadata": {
            "tags": []
          },
          "execution_count": 137
        }
      ]
    },
    {
      "cell_type": "markdown",
      "metadata": {
        "id": "pjnMfqpbWPn5",
        "colab_type": "text"
      },
      "source": [
        "Как известно, в первую очередь спасали женщин и детей в порядке повышения номера класса, в связи с этим доля выживших женщин, вероятно, будет выше, чем доля выживших мужчин. Проверим:"
      ]
    },
    {
      "cell_type": "code",
      "metadata": {
        "id": "VABBMrTLWPn5",
        "colab_type": "code",
        "outputId": "64757021-2947-45c8-da89-46bf10fb048d",
        "colab": {
          "base_uri": "https://localhost:8080/",
          "height": 85
        }
      },
      "source": [
        "pass_data.groupby('sex')['Survived'].mean()"
      ],
      "execution_count": 0,
      "outputs": [
        {
          "output_type": "execute_result",
          "data": {
            "text/plain": [
              "sex\n",
              "female    0.714286\n",
              "male      0.140000\n",
              "Name: Survived, dtype: float64"
            ]
          },
          "metadata": {
            "tags": []
          },
          "execution_count": 138
        }
      ]
    },
    {
      "cell_type": "markdown",
      "metadata": {
        "id": "WqepQ8ApWPn6",
        "colab_type": "text"
      },
      "source": [
        "Аналогично для пассажиров различных классов:"
      ]
    },
    {
      "cell_type": "code",
      "metadata": {
        "id": "Xnek9o18WPn7",
        "colab_type": "code",
        "outputId": "70f8503e-3acd-4025-ef58-9baf68b68139",
        "colab": {
          "base_uri": "https://localhost:8080/",
          "height": 102
        }
      },
      "source": [
        "pass_data.groupby('Pclass')['Survived'].mean()"
      ],
      "execution_count": 0,
      "outputs": [
        {
          "output_type": "execute_result",
          "data": {
            "text/plain": [
              "Pclass\n",
              "1    0.400000\n",
              "2    0.466667\n",
              "3    0.291667\n",
              "Name: Survived, dtype: float64"
            ]
          },
          "metadata": {
            "tags": []
          },
          "execution_count": 139
        }
      ]
    },
    {
      "cell_type": "markdown",
      "metadata": {
        "id": "4eJaf7kaWPn7",
        "colab_type": "text"
      },
      "source": [
        "Рассмотренные выше статистические данные могут быть рассмотрены и в виде стандартного DataFrame:"
      ]
    },
    {
      "cell_type": "code",
      "metadata": {
        "id": "wmCimq6VWPn8",
        "colab_type": "code",
        "outputId": "ebea806b-0c24-4ec2-89d3-9384ab667826",
        "colab": {
          "base_uri": "https://localhost:8080/",
          "height": 111
        }
      },
      "source": [
        "pass_data.groupby('sex', as_index=False)['Survived'].mean()"
      ],
      "execution_count": 0,
      "outputs": [
        {
          "output_type": "execute_result",
          "data": {
            "text/html": [
              "<div>\n",
              "<style scoped>\n",
              "    .dataframe tbody tr th:only-of-type {\n",
              "        vertical-align: middle;\n",
              "    }\n",
              "\n",
              "    .dataframe tbody tr th {\n",
              "        vertical-align: top;\n",
              "    }\n",
              "\n",
              "    .dataframe thead th {\n",
              "        text-align: right;\n",
              "    }\n",
              "</style>\n",
              "<table border=\"1\" class=\"dataframe\">\n",
              "  <thead>\n",
              "    <tr style=\"text-align: right;\">\n",
              "      <th></th>\n",
              "      <th>sex</th>\n",
              "      <th>Survived</th>\n",
              "    </tr>\n",
              "  </thead>\n",
              "  <tbody>\n",
              "    <tr>\n",
              "      <th>0</th>\n",
              "      <td>female</td>\n",
              "      <td>0.714286</td>\n",
              "    </tr>\n",
              "    <tr>\n",
              "      <th>1</th>\n",
              "      <td>male</td>\n",
              "      <td>0.140000</td>\n",
              "    </tr>\n",
              "  </tbody>\n",
              "</table>\n",
              "</div>"
            ],
            "text/plain": [
              "      sex  Survived\n",
              "0  female  0.714286\n",
              "1    male  0.140000"
            ]
          },
          "metadata": {
            "tags": []
          },
          "execution_count": 143
        }
      ]
    },
    {
      "cell_type": "markdown",
      "metadata": {
        "id": "dAxlCurzWPn9",
        "colab_type": "text"
      },
      "source": [
        "## Сохранение данных\n",
        "\n",
        "Также данные можно сохранить в файл:"
      ]
    },
    {
      "cell_type": "code",
      "metadata": {
        "id": "q394DUg2WPn-",
        "colab_type": "code",
        "colab": {}
      },
      "source": [
        "pass_data.to_csv('titanic_2.csv', index=False)"
      ],
      "execution_count": 0,
      "outputs": []
    },
    {
      "cell_type": "markdown",
      "metadata": {
        "id": "H-plKhwUWPn_",
        "colab_type": "text"
      },
      "source": [
        "# Matplotlib"
      ]
    },
    {
      "cell_type": "markdown",
      "metadata": {
        "collapsed": true,
        "id": "Tv5PGFljWPoA",
        "colab_type": "text"
      },
      "source": [
        "* [matplotlib](http://matplotlib.org)\n",
        "* [matplotlib - 2D and 3D plotting in Python](http://nbviewer.jupyter.org/github/jrjohansson/scientific-python-lectures/blob/master/Lecture-4-Matplotlib.ipynb)\n",
        "* [visualization in pandas](http://pandas.pydata.org/pandas-docs/stable/visualization.html)\n",
        "\n",
        "**Matplotlib** — библиотека языка Python, используемая для визуализации."
      ]
    },
    {
      "cell_type": "code",
      "metadata": {
        "id": "Bg361JSoWPoB",
        "colab_type": "code",
        "colab": {}
      },
      "source": [
        "%matplotlib inline\n",
        "import matplotlib.pyplot as plt"
      ],
      "execution_count": 0,
      "outputs": []
    },
    {
      "cell_type": "code",
      "metadata": {
        "id": "4a_17rbIWPoC",
        "colab_type": "code",
        "colab": {}
      },
      "source": [
        "x = np.linspace(1, 10, 20)"
      ],
      "execution_count": 0,
      "outputs": []
    },
    {
      "cell_type": "markdown",
      "metadata": {
        "id": "sNM_8c7dWPoC",
        "colab_type": "text"
      },
      "source": [
        "Для построения графиков в matplotlib используются фигуры и заданные для них оси, что довольно удобно в случае, когда необходимо строить несколько графиков или их расположение нестандартное."
      ]
    },
    {
      "cell_type": "code",
      "metadata": {
        "id": "L6kgjG74WPoD",
        "colab_type": "code",
        "outputId": "a774c886-118b-4665-dc8d-8d0bed78031a",
        "colab": {
          "base_uri": "https://localhost:8080/",
          "height": 440
        }
      },
      "source": [
        "fig = plt.figure(figsize=(10, 6))\n",
        "\n",
        "axes = fig.add_axes([0.1, 0.1, 0.8, 0.8])\n",
        "\n",
        "axes.plot(x, x ** 2, 'r')\n",
        "axes.plot(x, x ** 3, 'b*--')\n",
        "\n",
        "axes.set_xlabel('x')\n",
        "axes.set_ylabel('y')\n",
        "axes.set_title('title')\n",
        "axes.legend(['x^2', 'x^3'], loc = 0)"
      ],
      "execution_count": 0,
      "outputs": [
        {
          "output_type": "execute_result",
          "data": {
            "text/plain": [
              "<matplotlib.legend.Legend at 0x7f368b631650>"
            ]
          },
          "metadata": {
            "tags": []
          },
          "execution_count": 153
        },
        {
          "output_type": "display_data",
          "data": {
            "image/png": "[encoded data removed]",
            "text/plain": [
              "<Figure size 720x432 with 1 Axes>"
            ]
          },
          "metadata": {
            "tags": []
          }
        }
      ]
    },
    {
      "cell_type": "code",
      "metadata": {
        "id": "TzwzBJ-EWPoE",
        "colab_type": "code",
        "outputId": "1bf73994-b763-4003-a1c6-c94a3aed541c",
        "colab": {
          "base_uri": "https://localhost:8080/",
          "height": 440
        }
      },
      "source": [
        "fig = plt.figure(figsize=(10, 6))\n",
        "\n",
        "axes = fig.add_axes([0.1, 0.1, 0.8, 0.8])\n",
        "\n",
        "axes.scatter(x, x ** 2, color='red', marker='*', s=80)\n",
        "axes.scatter(x, x ** 3)\n",
        "\n",
        "axes.set_xlabel('x')\n",
        "axes.set_ylabel('y')\n",
        "axes.set_title('title')"
      ],
      "execution_count": 0,
      "outputs": [
        {
          "output_type": "execute_result",
          "data": {
            "text/plain": [
              "Text(0.5,1,'title')"
            ]
          },
          "metadata": {
            "tags": []
          },
          "execution_count": 154
        },
        {
          "output_type": "display_data",
          "data": {
            "image/png": "[encoded data removed]",
            "text/plain": [
              "<Figure size 720x432 with 1 Axes>"
            ]
          },
          "metadata": {
            "tags": []
          }
        }
      ]
    },
    {
      "cell_type": "markdown",
      "metadata": {
        "id": "pcuzQnhGWPoF",
        "colab_type": "text"
      },
      "source": [
        "Matplotlib позволяет настраивать многие детали создаваемых графиков:"
      ]
    },
    {
      "cell_type": "code",
      "metadata": {
        "id": "PufCBMvNWPoF",
        "colab_type": "code",
        "outputId": "cb7fbd06-8702-43a0-ee59-6a6e8a2a96a1",
        "colab": {
          "base_uri": "https://localhost:8080/",
          "height": 440
        }
      },
      "source": [
        "fig = plt.figure(figsize=(10, 6))\n",
        "\n",
        "axes = fig.add_axes([0.1, 0.1, 0.8, 0.8])\n",
        "\n",
        "axes.plot(x, x ** 2, 'r^-', label = r'$y = x^2$', markersize=8, markerfacecolor=\"yellow\", \n",
        "          markeredgewidth=1, markeredgecolor=\"green\")\n",
        "axes.plot(x, x ** 3, 'b*--', label = r'$y = x^3$', alpha = 0.5)\n",
        "\n",
        "axes.set_xlabel('x')\n",
        "axes.set_ylabel('y')\n",
        "axes.set_title('title')\n",
        "axes.legend(loc = 0, fontsize = 18)"
      ],
      "execution_count": 0,
      "outputs": [
        {
          "output_type": "execute_result",
          "data": {
            "text/plain": [
              "<matplotlib.legend.Legend at 0x7f368b5cb1d0>"
            ]
          },
          "metadata": {
            "tags": []
          },
          "execution_count": 155
        },
        {
          "output_type": "display_data",
          "data": {
            "image/png": "[encoded data removed]",
            "text/plain": [
              "<Figure size 720x432 with 1 Axes>"
            ]
          },
          "metadata": {
            "tags": []
          }
        }
      ]
    },
    {
      "cell_type": "markdown",
      "metadata": {
        "id": "NRd2grk6WPoG",
        "colab_type": "text"
      },
      "source": [
        "Как было упомянуто, matplotlib предоставляет определенную свободу в расположении подграфиков:"
      ]
    },
    {
      "cell_type": "code",
      "metadata": {
        "id": "swvSdMQ9WPoG",
        "colab_type": "code",
        "outputId": "958afa8e-5815-4663-a2b4-ef8a6cdb21f7",
        "colab": {
          "base_uri": "https://localhost:8080/",
          "height": 325
        }
      },
      "source": [
        "fig = plt.figure()\n",
        "\n",
        "axes1 = fig.add_axes([0.1, 0.1, 0.8, 0.8]) # main axes\n",
        "axes2 = fig.add_axes([0.2, 0.5, 0.4, 0.3]) # inset axes\n",
        "\n",
        "# main figure\n",
        "axes1.plot(x, x ** 2, 'r')\n",
        "axes1.set_xlabel('x')\n",
        "axes1.set_ylabel('y')\n",
        "axes1.set_title('title')\n",
        "\n",
        "# insert\n",
        "axes2.plot(x ** 2, x, 'g')\n",
        "axes2.set_xlabel('y')\n",
        "axes2.set_ylabel('x')\n",
        "axes2.set_title('insert title')"
      ],
      "execution_count": 0,
      "outputs": [
        {
          "output_type": "execute_result",
          "data": {
            "text/plain": [
              "Text(0.5,1,'insert title')"
            ]
          },
          "metadata": {
            "tags": []
          },
          "execution_count": 156
        },
        {
          "output_type": "display_data",
          "data": {
            "image/png": "[encoded data removed]",
            "text/plain": [
              "<Figure size 432x288 with 2 Axes>"
            ]
          },
          "metadata": {
            "tags": []
          }
        }
      ]
    },
    {
      "cell_type": "markdown",
      "metadata": {
        "id": "3AcDYo1hWPoH",
        "colab_type": "text"
      },
      "source": [
        "Впрочем, можно использовать и одну из классических конфигураций:"
      ]
    },
    {
      "cell_type": "code",
      "metadata": {
        "scrolled": false,
        "id": "gbYexGl_WPoI",
        "colab_type": "code",
        "outputId": "430d9ffd-01a2-41ba-d4d3-d3a208df9741",
        "colab": {
          "base_uri": "https://localhost:8080/",
          "height": 369
        }
      },
      "source": [
        "fig, axes = plt.subplots(nrows=1, ncols=3, figsize = (16, 5))\n",
        "\n",
        "for pow_num, ax in enumerate(axes):\n",
        "    ax.plot(x, x ** (pow_num + 1), 'r')\n",
        "    ax.set_xlabel('x')\n",
        "    ax.set_ylabel('y')\n",
        "    ax.set_title(r'$y = x^' + str(pow_num + 1)+ r'$', fontsize = 18)\n",
        "fig.tight_layout() # борьба с пересечением подграфиков"
      ],
      "execution_count": 0,
      "outputs": [
        {
          "output_type": "display_data",
          "data": {
            "image/png": "[encoded data removed]",
            "text/plain": [
              "<Figure size 1152x360 with 3 Axes>"
            ]
          },
          "metadata": {
            "tags": []
          }
        }
      ]
    },
    {
      "cell_type": "markdown",
      "metadata": {
        "id": "agZxbsyFWPoJ",
        "colab_type": "text"
      },
      "source": [
        "Получившийся график можно сохранить в файл:"
      ]
    },
    {
      "cell_type": "code",
      "metadata": {
        "id": "vHJ9ti8PWPoJ",
        "colab_type": "code",
        "colab": {}
      },
      "source": [
        "fig.savefig(\"pows.png\", dpi=200)"
      ],
      "execution_count": 0,
      "outputs": []
    },
    {
      "cell_type": "markdown",
      "metadata": {
        "id": "WIZooIJVWPoK",
        "colab_type": "text"
      },
      "source": [
        "Matplotlib также позволяет строить surface plot, используя значения функции в узлах сетки:"
      ]
    },
    {
      "cell_type": "code",
      "metadata": {
        "id": "uVI4drd0WPoK",
        "colab_type": "code",
        "colab": {}
      },
      "source": [
        "alpha = 0.7\n",
        "phi_ext = 2 * np.pi * 0.5\n",
        "\n",
        "def flux_qubit_potential(phi_m, phi_p):\n",
        "    return 2 + alpha - 2 * np.cos(phi_p) * np.cos(phi_m) - alpha * np.cos(phi_ext - 2*phi_p)\n",
        "\n",
        "phi_m = np.linspace(0, 2*np.pi, 100)\n",
        "phi_p = np.linspace(0, 2*np.pi, 100)\n",
        "X,Y = np.meshgrid(phi_p, phi_m)\n",
        "Z = flux_qubit_potential(X, Y).T"
      ],
      "execution_count": 0,
      "outputs": []
    },
    {
      "cell_type": "code",
      "metadata": {
        "id": "8vbfEWHUWPoM",
        "colab_type": "code",
        "outputId": "6442a6e0-e7fc-4ea6-853e-25f4fc97b0e3",
        "colab": {
          "base_uri": "https://localhost:8080/",
          "height": 364
        }
      },
      "source": [
        "from mpl_toolkits.mplot3d import Axes3D\n",
        "\n",
        "fig = plt.figure(figsize=(14,6))\n",
        "\n",
        "# `ax` is a 3D-aware axis instance because of the projection='3d' keyword argument to add_subplot\n",
        "ax = fig.add_subplot(111, projection='3d')\n",
        "\n",
        "p = ax.plot_surface(X, Y, Z, rstride=4, cstride=4, linewidth=0, cmap='jet')"
      ],
      "execution_count": 0,
      "outputs": [
        {
          "output_type": "display_data",
          "data": {
            "image/png": "[encoded data removed]",
            "text/plain": [
              "<Figure size 1008x432 with 1 Axes>"
            ]
          },
          "metadata": {
            "tags": []
          }
        }
      ]
    },
    {
      "cell_type": "markdown",
      "metadata": {
        "id": "itgeh7-SWPoN",
        "colab_type": "text"
      },
      "source": [
        "Кроме того, можно строить более детализированные гистограммы по сравнению с теми, что мы рассмотрели ранее:"
      ]
    },
    {
      "cell_type": "code",
      "metadata": {
        "id": "L_cg7ePZWPoN",
        "colab_type": "code",
        "outputId": "d19b530a-156c-499d-a79e-1d557d32a950",
        "colab": {
          "base_uri": "https://localhost:8080/",
          "height": 395
        }
      },
      "source": [
        "fig = plt.figure()\n",
        "axes = fig.add_axes([0.0, 0.0, 1.0, 1.0])\n",
        "bins = 20\n",
        "index = np.arange(bins)\n",
        "axes.hist(pass_data[pass_data['sex'] == 'male']['Age'].dropna(), bins=bins, alpha=0.6, label='male')\n",
        "axes.hist(pass_data[pass_data['sex'] == 'female']['Age'].dropna(), bins=bins, alpha=0.6, label='female')\n",
        "\n",
        "axes.legend()\n",
        "axes.set_xlabel('Age', fontsize=18)\n",
        "axes.set_ylabel('Count', fontsize=18)\n",
        "axes.set_title('Age by gender', fontsize=18)"
      ],
      "execution_count": 0,
      "outputs": [
        {
          "output_type": "execute_result",
          "data": {
            "text/plain": [
              "Text(0.5,1,'Age by gender')"
            ]
          },
          "metadata": {
            "tags": []
          },
          "execution_count": 162
        },
        {
          "output_type": "display_data",
          "data": {
            "image/png": "[encoded data removed]",
            "text/plain": [
              "<Figure size 432x288 with 1 Axes>"
            ]
          },
          "metadata": {
            "tags": []
          }
        }
      ]
    },
    {
      "cell_type": "markdown",
      "metadata": {
        "id": "laKMm2M_WPoP",
        "colab_type": "text"
      },
      "source": [
        "Заметим также, что Matplotlib позволяет использовать многие другие типы визуализации, подробнее про них можно почитать, например, здесь: https://docs.scipy.org/doc/numpy-dev/user/quickstart.html"
      ]
    }
  ]
}